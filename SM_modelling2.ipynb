{
  "cells": [
    {
      "cell_type": "markdown",
      "metadata": {
        "id": "view-in-github",
        "colab_type": "text"
      },
      "source": [
        "<a href=\"https://colab.research.google.com/github/top-data/Soil_moisture/blob/main/SM_modelling2.ipynb\" target=\"_parent\"><img src=\"https://colab.research.google.com/assets/colab-badge.svg\" alt=\"Open In Colab\"/></a>"
      ]
    },
    {
      "cell_type": "markdown",
      "metadata": {
        "id": "qnUQ4TB04AhO"
      },
      "source": [
        "To obtain access to the datasets used in this work you need to follow the following steps:\n",
        "* Click on [this](https://drive.google.com/drive/u/1/folders/12cYWIfg_0wATfxxtnnhQfLHrghqazwj6) Google Drive folder link.\n",
        "\n",
        "* Then, right click on the **SoilMoisture** folder and select **Add shortcut to Drive**.\n",
        "\n",
        "![picture](https://drive.google.com/uc?id=1lZqtmeemmmCM7OZUj_kiqDMMvgGS375a)\n",
        "\n",
        "* Make a shortcut of the **SoilMoisture** folder in your own **My Drive**-folder, by clicking on **Add shortcut**.\n",
        "\n",
        "![picture](https://drive.google.com/uc?id=133aXjO2jrfMSj9lzK2aZNq69L6wEiKCH)\n",
        "\n",
        "A new Google Drive folder with all the contents of this study has been linked to your Google Drive; therefore, we can link our Google Drive account to have access to the data."
      ]
    },
    {
      "cell_type": "markdown",
      "metadata": {
        "id": "jvWODIkn4Avw"
      },
      "source": [
        "# Loading libraries\n"
      ]
    },
    {
      "cell_type": "code",
      "execution_count": 16,
      "metadata": {
        "id": "u0VkptYL4MQG"
      },
      "outputs": [],
      "source": [
        "import os\n",
        "import numpy as np\n",
        "import pickle\n",
        "import pandas as pd\n",
        "import tensorflow as tf\n",
        "import tensorflow_probability as tfp\n",
        "from keras import backend as K\n",
        "from sklearn.preprocessing import OneHotEncoder\n",
        "from tensorflow.keras.layers import Dense, Input, LSTM, Concatenate, Reshape, Lambda, Permute, GRU, SimpleRNN, LayerNormalization, Bidirectional\n",
        "from tensorflow.keras.activations import relu\n",
        "from tensorflow.keras.models import Model\n",
        "from tensorflow.keras.optimizers import Adam\n",
        "from keras.callbacks import LearningRateScheduler\n",
        "from tqdm.keras import TqdmCallback\n",
        "from scipy import stats\n",
        "import matplotlib.pyplot as plt\n",
        "\n",
        "enc2 = OneHotEncoder(handle_unknown='ignore')"
      ]
    },
    {
      "cell_type": "markdown",
      "metadata": {
        "id": "wpG6v68msN3Q"
      },
      "source": [
        "## Connecting to drive"
      ]
    },
    {
      "cell_type": "code",
      "execution_count": 17,
      "metadata": {
        "colab": {
          "base_uri": "https://localhost:8080/"
        },
        "id": "Z5iPHRbXoh67",
        "outputId": "315910db-6698-45a4-f8f0-fe9de6a7c848"
      },
      "outputs": [
        {
          "output_type": "stream",
          "name": "stdout",
          "text": [
            "Drive already mounted at /content/drive; to attempt to forcibly remount, call drive.mount(\"/content/drive\", force_remount=True).\n"
          ]
        }
      ],
      "source": [
        "from google.colab import drive\n",
        "drive.mount('/content/drive')"
      ]
    },
    {
      "cell_type": "markdown",
      "metadata": {
        "id": "aSBLFMD4j0ct"
      },
      "source": [
        "## Functions for pre-processing data and modelling"
      ]
    },
    {
      "cell_type": "code",
      "execution_count": 34,
      "metadata": {
        "id": "kvlxubFb448N"
      },
      "outputs": [],
      "source": [
        "def append_sm2(dataframe, tuple_station):\n",
        "    '''\n",
        "    Description: Appends reference soil moistures to predictors dataframe\n",
        "    Inputs:\n",
        "        dataframe: pandas dataframe\n",
        "        tuple_station: tuple with path to files and name of reference files\n",
        "    Outputs:\n",
        "        df: pandas dataframe\n",
        "    '''\n",
        "    test = pd.read_csv(tuple_station[0], encoding='latin1')\n",
        "    cols = test.columns\n",
        "    # test['dates'] = pd.to_datetime(test[cols[0]],\n",
        "    #                                 format='%Y-%m-%d %H:%M:%S')\n",
        "\n",
        "    test.rename(columns={cols[0]: 'dates'}, inplace=True)\n",
        "\n",
        "    test['dates'] = pd.to_datetime(test['dates'], format='mixed')\n",
        "    test['dates'] = test['dates'].dt.strftime('%Y-%m-%d %H:%M:%S')\n",
        "    test['dates'] = pd.to_datetime(test['dates'], format='%Y-%m-%d %H:%M:%S')\n",
        "\n",
        "    test = test.set_index('dates')\n",
        "    test.rename(columns={\"0-10\": \"sm\", \"0-30\": \"sm1\", \"30-60\": \"sm2\"}, inplace=True)\n",
        "    resampled = test.resample('D').mean()\n",
        "    resampled['sm'], resampled['sm1'], resampled['sm2'] = resampled['sm']/100, resampled['sm1']/100, resampled['sm2']/100\n",
        "    df_sampled = dataframe[dataframe['id'].str.lower() == tuple_station[1][6:-4].lower()]\n",
        "    df_sampledx = df_sampled.copy()\n",
        "    df_sampledx['soilM'], df_sampledx['soilM1'], df_sampledx['soilM2']  = resampled['sm'], resampled['sm1'], resampled['sm2']\n",
        "    df_sampledx[(df_sampledx['soilM'] < 0.0) | (df_sampledx['soilM'] > 1)] = np.nan\n",
        "    df_sampledx[(df_sampledx['soilM1'] < 0.0) | (df_sampledx['soilM1'] > 1)] = np.nan\n",
        "    df_sampledx[(df_sampledx['soilM2'] < 0.0) | (df_sampledx['soilM2'] > 1)] = np.nan\n",
        "    df_sampledx[~df_sampledx.index.duplicated(keep='first')]\n",
        "    df_sampledx = df_sampledx.dropna(subset=['id', 'soilM1', 'soilM2'])\n",
        "    df_sampledx = df_sampledx.sort_index()\n",
        "    return df_sampledx\n",
        "\n",
        "\n",
        "def ccc(y_true, x_true):\n",
        "    '''\n",
        "    Description: Creates ccc loss function for tf model\n",
        "    Inputs:\n",
        "        y_true: predictions\n",
        "        x_true: observations\n",
        "    Outputs:\n",
        "        ccc loss function\n",
        "    '''\n",
        "    uy, ux = K.mean(y_true), K.mean(x_true)\n",
        "    sxy = tfp.stats.covariance(y_true, x_true)\n",
        "    sy, sx = tfp.stats.variance(y_true), tfp.stats.variance(x_true)\n",
        "    E = 2*sxy/(sy+sx+K.pow(uy-ux, 2))\n",
        "    return 1-E\n",
        "\n",
        "\n",
        "def crop(dimension, start, end):\n",
        "    '''\n",
        "    Description: Crops (or slices) a Tensor on a given dimension from start to end\n",
        "    Inputs:\n",
        "        start: integer\n",
        "        end: integger\n",
        "        dimension: integer with dimensions\n",
        "    Outputs:\n",
        "        lambda function\n",
        "    '''\n",
        "    def func(x):\n",
        "        if dimension == 0:\n",
        "            return x[start: end]\n",
        "        if dimension == 1:\n",
        "            return x[:, start: end]\n",
        "        if dimension == 2:\n",
        "            return x[:, :, start: end]\n",
        "        if dimension == 3:\n",
        "            return x[:, :, :, start: end]\n",
        "        if dimension == 4:\n",
        "            return x[:, :, :, :, start: end]\n",
        "    return Lambda(func)\n",
        "\n",
        "\n",
        "def mlp2(inputs, lr, decay, epsilon):\n",
        "    '''\n",
        "    Description: Creates a MLP tf model\n",
        "    Inputs:\n",
        "        inputs: list of inputs\n",
        "    Outputs:\n",
        "        tf model\n",
        "    '''\n",
        "    input = Input(shape=(len(inputs)), dtype='float32')\n",
        "    hidden3 = Dense(100, activation='relu')(input)\n",
        "    hidden4 = Dense(100, activation='relu')(hidden3)\n",
        "    hidden5 = Dense(100, activation='relu')(hidden4)\n",
        "    hidden6 = Dense(50, activation='relu')(hidden5)\n",
        "    hidden7 = Dense(25, activation='relu')(hidden6)\n",
        "    mlp_out = Dense(2, activation=lambda x: relu(x, max_value=1.0))(hidden7)\n",
        "\n",
        "    model = Model(inputs=input, outputs=mlp_out)\n",
        "    model.compile(loss=ccc, optimizer=Adam(learning_rate=lr, beta_1=0.9, beta_2=0.999, epsilon=epsilon, decay=decay))#0.00003\n",
        "    return model\n",
        "\n",
        "\n",
        "def modlx(inputs, lr, decay, epsilon):\n",
        "    '''\n",
        "    Description: Creates a combined LSTM and MLP tf model\n",
        "    Inputs:\n",
        "        inputs: list of inputs\n",
        "        lr: float of learning rate\n",
        "        decay: float of decay\n",
        "        epsilon: float for epsilon\n",
        "    Outputs:\n",
        "        model: tf model\n",
        "    '''\n",
        "    input = Input(shape=(len(inputs), 1), dtype='float32')\n",
        "    slice1 = crop(1, 0, int(len(lstm_cols)))(input)\n",
        "    reshaped = Reshape((3, int(len(lstm_cols)/3)), input_shape=(int(len(lstm_cols)), 1))(slice1)\n",
        "    lstm_input = Permute((2, 1), input_shape=(3, int(len(lstm_cols)/3)))(reshaped)\n",
        "    hidden1 = Bidirectional(LSTM(50, activation='relu'))(lstm_input)\n",
        "    hidden1 = LayerNormalization()(hidden1)\n",
        "    lstm_output = Dense(100, activation='relu')(hidden1)\n",
        "    slice2 = crop(1, int(len(lstm_cols)), len(var_in))(input)\n",
        "    slice2 = Reshape((len(var_in) - int(len(lstm_cols)), ),\n",
        "                     input_shape=(len(var_in) - int(len(lstm_cols)), ))(slice2)\n",
        "    x = Concatenate()([lstm_output, slice2])\n",
        "    hidden3 = Dense(128, activation='relu')(x)\n",
        "    hidden4 = Dense(64, activation='relu')(hidden3)\n",
        "    hidden5 = Dense(32, activation='relu')(hidden4)\n",
        "    hidden6 = Dense(16, activation='relu')(hidden5)\n",
        "    mlp_out = Dense(2, activation=lambda x: relu(x, max_value=1.0))(hidden6)\n",
        "    model = Model(inputs=input, outputs=mlp_out)\n",
        "    model.compile(loss=ccc, optimizer=Adam(learning_rate=lr, beta_1=0.9, beta_2=0.999, epsilon=epsilon, weight_decay=decay))\n",
        "    return model\n",
        "\n",
        "\n",
        "def leave_one_out2(probe, dataframe, inputs, model, stations, lr, decay, batch_size, epsilon, random=1):\n",
        "    '''\n",
        "    Description: Returns trained tf model with leave one out cross validation\n",
        "    Inputs:\n",
        "        probe: string of station left out\n",
        "        dataframe: predictors dataframe\n",
        "        inputs: list of inputs\n",
        "        model: tf model\n",
        "        stations: list of strings (station names)\n",
        "        lr: float of learning rate\n",
        "        decay: float of decay\n",
        "        epsilon: float for epsilon\n",
        "        random: integer for random state\n",
        "    Outputs:\n",
        "        mdl: trained tf model\n",
        "        here: dictionary with history of training\n",
        "        DFvali: pd dataframe subset for validation based on probe\n",
        "    '''\n",
        "    DFs = dataframe.copy()\n",
        "    DFs = DFs.dropna(how='any')\n",
        "    DFs = DFs.sample(frac=1, random_state=random)\n",
        "    DFs1 = DFs[inputs]\n",
        "    DFs1 = DFs1.apply(lambda x: (x - x.min())/(x.max() - x.min()))\n",
        "    DFs1['soilM1'], DFs1['soilM2'], DFs1['date'], DFs1['id'] = DFs['soilM1'], DFs['soilM2'], DFs['date'], DFs['id']\n",
        "    stations_rem = [n for n in stations if n != probe]\n",
        "    vali_ix = np.random.randint(0, len(stations_rem))\n",
        "    vali_station = stations[vali_ix]\n",
        "    DFtrain = DFs1[(DFs1['id'] != probe) & (DFs1['id'] != vali_station)]\n",
        "    DFvali = DFs1[DFs1['id'] == vali_station] # for early stop and fine tuning\n",
        "    DFtest = DFs1[DFs1['id'] == probe] # for performance\n",
        "    tr_in = DFtrain[inputs].values.reshape((DFtrain[inputs].shape[0],\n",
        "                                            DFtrain[inputs].shape[1],\n",
        "                                            1))\n",
        "    tr_out = DFtrain[['soilM1', 'soilM2']].values\n",
        "    tr_in, tr_out = tr_in.astype('float32'), tr_out.astype('float32')\n",
        "    va_in = DFvali[inputs].values.reshape((DFvali[inputs].shape[0],\n",
        "                                           DFvali[inputs].shape[1],\n",
        "                                           1))\n",
        "    va_out = DFvali[['soilM1', 'soilM2']].values\n",
        "    va_in, va_out = va_in.astype('float32'), va_out.astype('float32')\n",
        "    mdl = model(inputs, lr, decay, epsilon)\n",
        "    callback = tf.keras.callbacks.EarlyStopping(monitor='val_loss', patience=5)\n",
        "    here = mdl.fit(tr_in.reshape((tr_in.shape[0], tr_in.shape[1])),\n",
        "                   tr_out,\n",
        "                   epochs=150,\n",
        "                   verbose=2,\n",
        "                   batch_size=batch_size,\n",
        "                   validation_data=(va_in.reshape((va_in.shape[0], va_in.shape[1])), va_out),\n",
        "                   callbacks=[callback])\n",
        "    return mdl, here, DFvali, DFtest\n",
        "\n",
        "\n",
        "def add_predictions3(df, model, inputs):\n",
        "    '''\n",
        "    Description: Adds prediction columns to dataframe\n",
        "    Inputs:\n",
        "        df: pandas dataframe\n",
        "        model: tf model\n",
        "        inputs: list of predictors\n",
        "    Outputs:\n",
        "        df: pandas dataframe\n",
        "    '''\n",
        "    predictions = model.predict(df[inputs].values)\n",
        "    df['pred1'], df['pred2'] = predictions[:, 0], predictions[:, 1]\n",
        "    return df\n",
        "\n",
        "\n",
        "def plot_series(station):\n",
        "    '''\n",
        "    Description: Creates time series plot for stations\n",
        "    Inputs:\n",
        "        station: string\n",
        "        column: observation number\n",
        "    Outputs:\n",
        "        matplotlib plot\n",
        "    '''\n",
        "    data_ref = [n for n in stations2 if n[1][6:-4] == station]\n",
        "    check = pd.read_csv(data_ref[0][0])\n",
        "    cols = check.columns\n",
        "    # if 'oznet' in data_ref[0][0]:\n",
        "    #     check = check.set_index(pd.to_datetime(check['dates'], format='%Y-%m-%d %H:%M:%S'))\n",
        "    # else:\n",
        "    #     check = check.set_index(pd.to_datetime(check['Unnamed: 0'], format='%Y-%m-%d %H:%M:%S'))\n",
        "\n",
        "    check.rename(columns={cols[0]: 'dates'}, inplace=True)\n",
        "    check['dates'] = pd.to_datetime(check['dates'], format='mixed')\n",
        "    check['dates'] = check['dates'].dt.strftime('%Y-%m-%d %H:%M:%S')\n",
        "    check['dates'] = pd.to_datetime(check['dates'], format='%Y-%m-%d %H:%M:%S')\n",
        "    check = check.set_index('dates')\n",
        "\n",
        "    check['sm1'] = check[cols[2]].astype(float)\n",
        "    check['sm2'] = check[cols[3]].astype(float)\n",
        "    check = check.resample('D').mean()\n",
        "    check[(check['sm1']<0) | (check['sm1']>100)] = np.nan\n",
        "    check[(check['sm2']<0) | (check['sm2']>100)] = np.nan\n",
        "    check['sm1'], check['sm2'] = check['sm1']/100, check['sm2']/100\n",
        "    check = check[(check.index > '2016-01-01')]\n",
        "    plt.plot(check.index, check['sm1'], color='orange')\n",
        "    plt.plot(check.index, check['sm2'], color='blue')\n",
        "\n",
        "\n",
        "def plot_hist(data):\n",
        "    '''\n",
        "    Description: Creates learning curve figure\n",
        "    Inputs:\n",
        "        data: dictionary with loss history\n",
        "    Outputs:\n",
        "        learning curve matplotlib plot\n",
        "    '''\n",
        "    fig, ax = plt.subplots()\n",
        "    ax.plot(range(len(data.history['loss'])), data.history['loss'], label='train')\n",
        "    ax.plot(range(len(data.history['loss'])), data.history['val_loss'], label='validation')\n",
        "    fig.legend()\n",
        "    fig.show()"
      ]
    },
    {
      "cell_type": "markdown",
      "metadata": {
        "id": "xWe5Nt01kTeL"
      },
      "source": [
        "## Toy example"
      ]
    },
    {
      "cell_type": "markdown",
      "metadata": {
        "id": "ZCZZlLHUsO_-"
      },
      "source": [
        "### Connecting to reference data and setting paths"
      ]
    },
    {
      "cell_type": "code",
      "execution_count": 19,
      "metadata": {
        "id": "NtcJol_34h5Y"
      },
      "outputs": [],
      "source": [
        "df = pd.read_csv('drive/MyDrive/SoilMoisture/soil_moist_inputs.csv')\n",
        "df.drop(['.geo'], inplace=True, axis=1)\n",
        "df.set_index(pd.to_datetime(df['date'], format='%Y-%m-%d'), inplace=True)\n",
        "df.dropna(how='any', inplace=True)\n",
        "\n",
        "Oznet_path = 'drive/MyDrive/SoilMoisture/oznet'\n",
        "OzFlux_path = 'drive/MyDrive/SoilMoisture/ozflux'"
      ]
    },
    {
      "cell_type": "markdown",
      "metadata": {
        "id": "rkekQljSsbD_"
      },
      "source": [
        "### Setting covariate and prediction names"
      ]
    },
    {
      "cell_type": "code",
      "execution_count": 20,
      "metadata": {
        "id": "mNZP8g4b4i0K"
      },
      "outputs": [],
      "source": [
        "ixs = range(1, 11)\n",
        "smap_cols = ['smap{}'.format(str(n)) for n in ixs]\n",
        "ssmap_cols = ['ssmap{}'.format(str(n)) for n in ixs]\n",
        "chirps_cols = ['chirps{}'.format(str(n)) for n in ixs]\n",
        "\n",
        "lstm_cols = smap_cols+chirps_cols+ssmap_cols\n",
        "\n",
        "mlp_cols = ['VV', 'rSSM',\n",
        "            'AWC1', 'AWC2', 'AWC3', 'AWC4',\n",
        "            'CLY1', 'CLY2', 'CLY3', 'CLY4',\n",
        "            'SOC1', 'SOC2', 'SOC3', 'SOC4',\n",
        "            'LST_Day_1km', 'LST_Night_1km',\n",
        "            'sur_refl_b01', 'sur_refl_b02', 'sur_refl_b03',\n",
        "            'sur_refl_b04', 'sur_refl_b05', 'sur_refl_b06', 'sur_refl_b07',\n",
        "            'NDVI', 'irri', 'past', 'agri', 'fore', 'sava']\n",
        "\n",
        "var_in = lstm_cols + mlp_cols\n",
        "var = var_in.copy()\n",
        "var_y = 'soilM'\n",
        "var.append(var_y)"
      ]
    },
    {
      "cell_type": "markdown",
      "metadata": {
        "id": "T3vgXgS_lVFa"
      },
      "source": [
        "### Loading predictors"
      ]
    },
    {
      "cell_type": "code",
      "source": [
        "pd.read_csv(stations2[34][0])\n",
        "\n",
        "for i in range(len(stations2)):\n",
        "  test = pd.read_csv(stations2[i][0], encoding='latin1')\n",
        "  cols = test.columns\n",
        "  # test['dates'] = pd.to_datetime(test[cols[0]],\n",
        "  #                                 format='%Y-%m-%d %H:%M:%S')\n",
        "\n",
        "  test.rename(columns={cols[0]: 'dates'}, inplace=True)\n",
        "\n",
        "  test['dates'] = pd.to_datetime(test['dates'], format='mixed')\n",
        "  test['dates'] = test['dates'].dt.strftime('%Y-%m-%d %H:%M:%S')\n",
        "  test['dates'] = pd.to_datetime(test['dates'], format='%Y-%m-%d %H:%M:%S')\n",
        "\n",
        "  test = test.set_index('dates')\n",
        "  test.rename(columns={\"0-10\": \"sm\", \"0-30\": \"sm1\", \"30-60\": \"sm2\"}, inplace=True)\n",
        "  resampled = test.resample('D').mean()\n",
        "\n"
      ],
      "metadata": {
        "id": "DsnjUORhIJHw"
      },
      "execution_count": 33,
      "outputs": []
    },
    {
      "cell_type": "code",
      "execution_count": 21,
      "metadata": {
        "id": "WnJATltIk854"
      },
      "outputs": [],
      "source": [
        "oznet_data2 = [(os.path.join(Oznet_path, n), n) for n in os.listdir(Oznet_path) if n.startswith('comp3_')]\n",
        "ozflux_data2 = [(os.path.join(OzFlux_path, n), n) for n in os.listdir(OzFlux_path) if n.startswith('comp3_')]\n",
        "stations2 = oznet_data2 + ozflux_data2\n",
        "dfx = [append_sm2(df, n) for n in stations2]"
      ]
    },
    {
      "cell_type": "markdown",
      "metadata": {
        "id": "U3ns2S4slqDK"
      },
      "source": [
        "### Setting predictors dataframe (land use to one hot encode)"
      ]
    },
    {
      "cell_type": "code",
      "execution_count": 22,
      "metadata": {
        "id": "j8mq64-o5mY7"
      },
      "outputs": [],
      "source": [
        "DF2 = pd.concat(dfx)\n",
        "DF2.drop('date', axis=1, inplace=True)\n",
        "DF2 = DF2.reset_index()\n",
        "DF2['id'].unique()\n",
        "DF2.loc[(DF2['LU'] == 7), 'LU'] = 2\n",
        "DF2.loc[(DF2['LU'] == 11), 'LU'] = 1  # changed wetland to pasture\n",
        "DF2.loc[(DF2['LU'] == 9), 'LU'] = 10  #shrubland (1) to savanna\n",
        "enc_df2 = pd.DataFrame(enc2.fit_transform(DF2[['LU']]).toarray())\n",
        "enc_df2.rename(columns={0: 'irri', 1: 'past', 2: 'agri', 3: 'fore', 4: 'sava'}, inplace=True)\n",
        "DF2 = DF2.join(enc_df2)\n",
        "DF2.dropna(subset=['soilM1', 'soilM2'], inplace=True)\n",
        "statio2 = DF2['id'].unique()"
      ]
    },
    {
      "cell_type": "markdown",
      "metadata": {
        "id": "3Y_9ojoGmSg8"
      },
      "source": [
        "### Running one model test"
      ]
    },
    {
      "cell_type": "code",
      "execution_count": 23,
      "metadata": {
        "colab": {
          "base_uri": "https://localhost:8080/"
        },
        "id": "KTTAnWd_mQ6r",
        "outputId": "9f58d026-2a90-4734-859f-6e8a0be73bf1"
      },
      "outputs": [
        {
          "output_type": "stream",
          "name": "stdout",
          "text": [
            "Epoch 1/150\n",
            "34/34 - 7s - loss: 0.6170 - val_loss: 0.9929 - 7s/epoch - 209ms/step\n",
            "Epoch 2/150\n",
            "34/34 - 1s - loss: 0.5898 - val_loss: 0.9960 - 608ms/epoch - 18ms/step\n",
            "Epoch 3/150\n",
            "34/34 - 0s - loss: 0.5814 - val_loss: 0.9928 - 495ms/epoch - 15ms/step\n",
            "Epoch 4/150\n",
            "34/34 - 1s - loss: 0.5802 - val_loss: 0.9951 - 516ms/epoch - 15ms/step\n",
            "Epoch 5/150\n",
            "34/34 - 0s - loss: 0.5757 - val_loss: 0.9929 - 494ms/epoch - 15ms/step\n",
            "Epoch 6/150\n",
            "34/34 - 1s - loss: 0.5771 - val_loss: 0.9956 - 506ms/epoch - 15ms/step\n",
            "Epoch 7/150\n",
            "34/34 - 0s - loss: 0.5732 - val_loss: 0.9943 - 493ms/epoch - 14ms/step\n",
            "Epoch 8/150\n",
            "34/34 - 0s - loss: 0.5721 - val_loss: 0.9963 - 495ms/epoch - 15ms/step\n"
          ]
        }
      ],
      "source": [
        "model, here, DFvali, DFtest = leave_one_out2(statio2[30], DF2, var_in, modlx, statio2, 0.003, .8, 100, 1e-08)"
      ]
    },
    {
      "cell_type": "markdown",
      "metadata": {
        "id": "-8Cy0lBgzT8k"
      },
      "source": [
        "## Plotting model predictions"
      ]
    },
    {
      "cell_type": "code",
      "execution_count": 35,
      "metadata": {
        "colab": {
          "base_uri": "https://localhost:8080/",
          "height": 489
        },
        "id": "elGvqPxb6IaU",
        "outputId": "69a21d2a-1bb1-4d72-9419-f411225f1045"
      },
      "outputs": [
        {
          "output_type": "stream",
          "name": "stdout",
          "text": [
            "1/1 [==============================] - 0s 53ms/step\n"
          ]
        },
        {
          "output_type": "display_data",
          "data": {
            "text/plain": [
              "<Figure size 640x480 with 1 Axes>"
            ],
            "image/png": "[encoded data removed]"
          },
          "metadata": {}
        }
      ],
      "source": [
        "DFtest2 = add_predictions3(DFtest, model, var_in)\n",
        "DFtest2 = DFtest2.set_index(pd.to_datetime(DFtest2['date']))\n",
        "\n",
        "plot_series(statio2[30])\n",
        "plt.scatter(DFtest2.index, DFtest2['pred1'], marker='x')\n",
        "plt.scatter(DFtest2.index, DFtest2['pred2'], marker='x')\n",
        "plt.ylabel('Soil Moisture (cm³ cm⁻³)')\n",
        "plt.ylim(0, 0.8)\n",
        "plt.tick_params(axis='x', rotation=45)\n",
        "plt.show()"
      ]
    }
  ],
  "metadata": {
    "colab": {
      "name": "Copy of soilMoisture_depth_model.ipynb",
      "provenance": [],
      "toc_visible": true,
      "include_colab_link": true
    },
    "kernelspec": {
      "display_name": "Python 3",
      "language": "python",
      "name": "python3"
    },
    "language_info": {
      "codemirror_mode": {
        "name": "ipython",
        "version": 3
      },
      "file_extension": ".py",
      "mimetype": "text/x-python",
      "name": "python",
      "nbconvert_exporter": "python",
      "pygments_lexer": "ipython3",
      "version": "3.8.10"
    }
  },
  "nbformat": 4,
  "nbformat_minor": 0
}