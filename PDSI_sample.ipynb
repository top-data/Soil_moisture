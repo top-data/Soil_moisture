{
  "nbformat": 4,
  "nbformat_minor": 0,
  "metadata": {
    "colab": {
      "name": "PDSI_sample.ipynb",
      "provenance": [],
      "include_colab_link": true
    },
    "kernelspec": {
      "name": "python3",
      "display_name": "Python 3"
    },
    "language_info": {
      "name": "python"
    }
  },
  "cells": [
    {
      "cell_type": "markdown",
      "metadata": {
        "id": "view-in-github",
        "colab_type": "text"
      },
      "source": [
        "<a href=\"https://colab.research.google.com/github/top-data/Soil_moisture/blob/main/PDSI_sample.ipynb\" target=\"_parent\"><img src=\"https://colab.research.google.com/assets/colab-badge.svg\" alt=\"Open In Colab\"/></a>"
      ]
    },
    {
      "cell_type": "code",
      "metadata": {
        "id": "JhNtVXlxjcSN"
      },
      "source": [
        "# Connecting to google eath engine\n",
        "\n",
        "import ee\n",
        "ee.Authenticate()\n",
        "ee.Initialize(project='ee-mhdsaki')"
      ],
      "execution_count": 1,
      "outputs": []
    },
    {
      "cell_type": "code",
      "metadata": {
        "colab": {
          "base_uri": "https://localhost:8080/"
        },
        "id": "za8TrnZCjjxf",
        "outputId": "b31cfd81-4558-49e7-b40d-450beb752ad7"
      },
      "source": [
        "# Import necessary libraries\n",
        "\n",
        "import folium\n",
        "import scipy\n",
        "import numpy as np\n",
        "import pandas as pd\n",
        "import matplotlib.pyplot as plt\n",
        "\n",
        "%matplotlib inline\n",
        "\n",
        "print(folium.__version__)"
      ],
      "execution_count": 2,
      "outputs": [
        {
          "output_type": "stream",
          "name": "stdout",
          "text": [
            "0.14.0\n"
          ]
        }
      ]
    },
    {
      "cell_type": "code",
      "metadata": {
        "id": "ByJwXMPpjj1v"
      },
      "source": [
        "def get_pdsi(img):\n",
        "    \"\"\"\n",
        "    Function to scale the PDSI (Palmer Drought Severity Index) by a factor of 0.01\n",
        "    and copy the properties from the original image to the scaled image.\n",
        "\n",
        "    Parameters:\n",
        "    img (ee.Image): The input image containing the PDSI band.\n",
        "\n",
        "    Returns:\n",
        "    ee.Image: The scaled image with PDSI values multiplied by 0.01 and original properties copied.\n",
        "    \"\"\"\n",
        "    # Get all properties of the image\n",
        "    props = img.propertyNames()\n",
        "    # Scale the PDSI values by a factor of 0.01 and copy the original properties\n",
        "    return img.select('pdsi').multiply(0.01).copyProperties(img, props)\n",
        "\n",
        "\n",
        "def sample_geo(geo):\n",
        "    \"\"\"\n",
        "    Function to sample the PDSI values at a given geometry.\n",
        "\n",
        "    Parameters:\n",
        "    geo (ee.Geometry): The geometry for which PDSI values will be sampled.\n",
        "\n",
        "    Returns:\n",
        "    function: A function that takes an ee.Image and returns an ee.Feature containing the date and PDSI value.\n",
        "    \"\"\"\n",
        "    def wrap(img):\n",
        "        # Get the date of the image\n",
        "        date = ee.Date(img.get('system:time_start')).format('YYYY-MM-dd')\n",
        "        # Reduce the region to get the first PDSI value within the geometry\n",
        "        drought = img.reduceRegion('first', geo, 10000).values().get(0)\n",
        "        # Create a feature with date and PDSI value\n",
        "        return ee.Feature(None, {'date':date, 'drought':drought})\n",
        "    return wrap\n"
      ],
      "execution_count": 3,
      "outputs": []
    },
    {
      "cell_type": "code",
      "metadata": {
        "id": "J-OfSFRfj9V6"
      },
      "source": [
        "geo = ee.Geometry.Point([149.57255453521313, -30.255089976050286])\n",
        "coll = ee.ImageCollection(\"IDAHO_EPSCOR/TERRACLIMATE\")\n",
        "coll = coll.filterDate('2016-01-01', '2021-06-01')\n",
        "coll = coll.map(get_pdsi)"
      ],
      "execution_count": 4,
      "outputs": []
    },
    {
      "cell_type": "code",
      "metadata": {
        "colab": {
          "base_uri": "https://localhost:8080/",
          "height": 1000
        },
        "id": "BJ1hi8rClosf",
        "outputId": "44f1fee3-53d9-4d1d-a262-f4a582b9443a"
      },
      "source": [
        "img = coll.first()\n",
        "mapidCon = ee.Image(img).getMapId({'min': -5, 'max': 5, 'palette': 'FF0000, FFFFFF, 0000FF', 'opacity':0.4})\n",
        "centroid = geo.coordinates().getInfo()[::-1]\n",
        "map = folium.Map(location=centroid, zoom_start=2)\n",
        "folium.TileLayer(\n",
        "    tiles = 'https://server.arcgisonline.com/ArcGIS/rest/services/World_Imagery/MapServer/tile/{z}/{y}/{x}',\n",
        "    attr='Map Data &copy; <a href=\"https://earthengine.google.com/\">Google Earth Engine</a>',\n",
        "    overlay=True,\n",
        "    name='satellite',\n",
        "  ).add_to(map)\n",
        "folium.TileLayer(\n",
        "    tiles=mapidCon['tile_fetcher'].url_format,\n",
        "    attr='Map Data &copy; <a href=\"https://earthengine.google.com/\">Google Earth Engine</a>',\n",
        "    overlay=True,\n",
        "    name='SPEI',\n",
        "    ).add_to(map)\n",
        "map.add_child(folium.LayerControl())\n",
        "map\n"
      ],
      "execution_count": 5,
      "outputs": [
        {
          "output_type": "execute_result",
          "data": {
            "text/plain": [
              "<folium.folium.Map at 0x7f2b5ba9ece0>"
            ],
            "text/html": [
              "<div style=\"width:100%;\"><div style=\"position:relative;width:100%;height:0;padding-bottom:60%;\"><span style=\"color:#565656\">Make this Notebook Trusted to load map: File -> Trust Notebook</span><iframe srcdoc=\"&lt;!DOCTYPE html&gt;\n",
              "&lt;html&gt;\n",
              "&lt;head&gt;\n",
              "    \n",
              "    &lt;meta http-equiv=&quot;content-type&quot; content=&quot;text/html; charset=UTF-8&quot; /&gt;\n",
              "    \n",
              "        &lt;script&gt;\n",
              "            L_NO_TOUCH = false;\n",
              "            L_DISABLE_3D = false;\n",
              "        &lt;/script&gt;\n",
              "    \n",
              "    &lt;style&gt;html, body {width: 100%;height: 100%;margin: 0;padding: 0;}&lt;/style&gt;\n",
              "    &lt;style&gt;#map {position:absolute;top:0;bottom:0;right:0;left:0;}&lt;/style&gt;\n",
              "    &lt;script src=&quot;https://cdn.jsdelivr.net/npm/leaflet@1.9.3/dist/leaflet.js&quot;&gt;&lt;/script&gt;\n",
              "    &lt;script src=&quot;https://code.jquery.com/jquery-1.12.4.min.js&quot;&gt;&lt;/script&gt;\n",
              "    &lt;script src=&quot;https://cdn.jsdelivr.net/npm/bootstrap@5.2.2/dist/js/bootstrap.bundle.min.js&quot;&gt;&lt;/script&gt;\n",
              "    &lt;script src=&quot;https://cdnjs.cloudflare.com/ajax/libs/Leaflet.awesome-markers/2.0.2/leaflet.awesome-markers.js&quot;&gt;&lt;/script&gt;\n",
              "    &lt;link rel=&quot;stylesheet&quot; href=&quot;https://cdn.jsdelivr.net/npm/leaflet@1.9.3/dist/leaflet.css&quot;/&gt;\n",
              "    &lt;link rel=&quot;stylesheet&quot; href=&quot;https://cdn.jsdelivr.net/npm/bootstrap@5.2.2/dist/css/bootstrap.min.css&quot;/&gt;\n",
              "    &lt;link rel=&quot;stylesheet&quot; href=&quot;https://netdna.bootstrapcdn.com/bootstrap/3.0.0/css/bootstrap.min.css&quot;/&gt;\n",
              "    &lt;link rel=&quot;stylesheet&quot; href=&quot;https://cdn.jsdelivr.net/npm/@fortawesome/fontawesome-free@6.2.0/css/all.min.css&quot;/&gt;\n",
              "    &lt;link rel=&quot;stylesheet&quot; href=&quot;https://cdnjs.cloudflare.com/ajax/libs/Leaflet.awesome-markers/2.0.2/leaflet.awesome-markers.css&quot;/&gt;\n",
              "    &lt;link rel=&quot;stylesheet&quot; href=&quot;https://cdn.jsdelivr.net/gh/python-visualization/folium/folium/templates/leaflet.awesome.rotate.min.css&quot;/&gt;\n",
              "    \n",
              "            &lt;meta name=&quot;viewport&quot; content=&quot;width=device-width,\n",
              "                initial-scale=1.0, maximum-scale=1.0, user-scalable=no&quot; /&gt;\n",
              "            &lt;style&gt;\n",
              "                #map_42cb11b368773feecd20e2cae0da4a5c {\n",
              "                    position: relative;\n",
              "                    width: 100.0%;\n",
              "                    height: 100.0%;\n",
              "                    left: 0.0%;\n",
              "                    top: 0.0%;\n",
              "                }\n",
              "                .leaflet-container { font-size: 1rem; }\n",
              "            &lt;/style&gt;\n",
              "        \n",
              "&lt;/head&gt;\n",
              "&lt;body&gt;\n",
              "    \n",
              "    \n",
              "            &lt;div class=&quot;folium-map&quot; id=&quot;map_42cb11b368773feecd20e2cae0da4a5c&quot; &gt;&lt;/div&gt;\n",
              "        \n",
              "&lt;/body&gt;\n",
              "&lt;script&gt;\n",
              "    \n",
              "    \n",
              "            var map_42cb11b368773feecd20e2cae0da4a5c = L.map(\n",
              "                &quot;map_42cb11b368773feecd20e2cae0da4a5c&quot;,\n",
              "                {\n",
              "                    center: [-30.255089976050286, 149.57255453521313],\n",
              "                    crs: L.CRS.EPSG3857,\n",
              "                    zoom: 2,\n",
              "                    zoomControl: true,\n",
              "                    preferCanvas: false,\n",
              "                }\n",
              "            );\n",
              "\n",
              "            \n",
              "\n",
              "        \n",
              "    \n",
              "            var tile_layer_8c4256dc7bf2c7eb6178319f0acbd5eb = L.tileLayer(\n",
              "                &quot;https://{s}.tile.openstreetmap.org/{z}/{x}/{y}.png&quot;,\n",
              "                {&quot;attribution&quot;: &quot;Data by \\u0026copy; \\u003ca target=\\&quot;_blank\\&quot; href=\\&quot;http://openstreetmap.org\\&quot;\\u003eOpenStreetMap\\u003c/a\\u003e, under \\u003ca target=\\&quot;_blank\\&quot; href=\\&quot;http://www.openstreetmap.org/copyright\\&quot;\\u003eODbL\\u003c/a\\u003e.&quot;, &quot;detectRetina&quot;: false, &quot;maxNativeZoom&quot;: 18, &quot;maxZoom&quot;: 18, &quot;minZoom&quot;: 0, &quot;noWrap&quot;: false, &quot;opacity&quot;: 1, &quot;subdomains&quot;: &quot;abc&quot;, &quot;tms&quot;: false}\n",
              "            ).addTo(map_42cb11b368773feecd20e2cae0da4a5c);\n",
              "        \n",
              "    \n",
              "            var tile_layer_a21e3d5bfe4ccc6a220b5ab3815a67d0 = L.tileLayer(\n",
              "                &quot;https://server.arcgisonline.com/ArcGIS/rest/services/World_Imagery/MapServer/tile/{z}/{y}/{x}&quot;,\n",
              "                {&quot;attribution&quot;: &quot;Map Data \\u0026copy; \\u003ca href=\\&quot;https://earthengine.google.com/\\&quot;\\u003eGoogle Earth Engine\\u003c/a\\u003e&quot;, &quot;detectRetina&quot;: false, &quot;maxNativeZoom&quot;: 18, &quot;maxZoom&quot;: 18, &quot;minZoom&quot;: 0, &quot;noWrap&quot;: false, &quot;opacity&quot;: 1, &quot;subdomains&quot;: &quot;abc&quot;, &quot;tms&quot;: false}\n",
              "            ).addTo(map_42cb11b368773feecd20e2cae0da4a5c);\n",
              "        \n",
              "    \n",
              "            var tile_layer_f7056410df4e28eb08537e030298c200 = L.tileLayer(\n",
              "                &quot;https://earthengine.googleapis.com/v1/projects/ee-mhdsaki/maps/99bd41f41c41a5afa7b6872b1d7bf1fd-dec659923f5925172db619293f37f79e/tiles/{z}/{x}/{y}&quot;,\n",
              "                {&quot;attribution&quot;: &quot;Map Data \\u0026copy; \\u003ca href=\\&quot;https://earthengine.google.com/\\&quot;\\u003eGoogle Earth Engine\\u003c/a\\u003e&quot;, &quot;detectRetina&quot;: false, &quot;maxNativeZoom&quot;: 18, &quot;maxZoom&quot;: 18, &quot;minZoom&quot;: 0, &quot;noWrap&quot;: false, &quot;opacity&quot;: 1, &quot;subdomains&quot;: &quot;abc&quot;, &quot;tms&quot;: false}\n",
              "            ).addTo(map_42cb11b368773feecd20e2cae0da4a5c);\n",
              "        \n",
              "    \n",
              "            var layer_control_ffe7111ec94261344e157a94c1a1c6a7 = {\n",
              "                base_layers : {\n",
              "                    &quot;openstreetmap&quot; : tile_layer_8c4256dc7bf2c7eb6178319f0acbd5eb,\n",
              "                },\n",
              "                overlays :  {\n",
              "                    &quot;satellite&quot; : tile_layer_a21e3d5bfe4ccc6a220b5ab3815a67d0,\n",
              "                    &quot;SPEI&quot; : tile_layer_f7056410df4e28eb08537e030298c200,\n",
              "                },\n",
              "            };\n",
              "            L.control.layers(\n",
              "                layer_control_ffe7111ec94261344e157a94c1a1c6a7.base_layers,\n",
              "                layer_control_ffe7111ec94261344e157a94c1a1c6a7.overlays,\n",
              "                {&quot;autoZIndex&quot;: true, &quot;collapsed&quot;: true, &quot;position&quot;: &quot;topright&quot;}\n",
              "            ).addTo(map_42cb11b368773feecd20e2cae0da4a5c);\n",
              "        \n",
              "&lt;/script&gt;\n",
              "&lt;/html&gt;\" style=\"position:absolute;width:100%;height:100%;left:0;top:0;border:none !important;\" allowfullscreen webkitallowfullscreen mozallowfullscreen></iframe></div></div>"
            ]
          },
          "metadata": {},
          "execution_count": 5
        }
      ]
    },
    {
      "cell_type": "code",
      "metadata": {
        "id": "yjYdtLGmnj0d"
      },
      "source": [
        "drought = coll.map(sample_geo(geo)).getInfo()\n",
        "ixs = [n['properties']['drought'] for n in drought['features']]\n",
        "time = [pd.to_datetime(n['properties']['date'], format='%Y-%m-%d') for n in drought['features']]"
      ],
      "execution_count": 6,
      "outputs": []
    },
    {
      "cell_type": "code",
      "metadata": {
        "colab": {
          "base_uri": "https://localhost:8080/",
          "height": 320
        },
        "id": "BHCd6WucnY4N",
        "outputId": "02206791-0eab-4abb-d089-0022530563cc"
      },
      "source": [
        "df = pd.DataFrame(data={'pdsi':ixs, 'date':time})\n",
        "d = np.zeros(len(ixs))\n",
        "\n",
        "fig = plt.figure(figsize=(10, 3))\n",
        "plt.fill_between(time, d, ixs, where=df['pdsi']>=d, interpolate=True, color='blue', alpha=0.3, label='PDSI')\n",
        "plt.fill_between(time, d, ixs, where=df['pdsi']<=d, interpolate=True, color='red', alpha=0.3)\n",
        "plt.ylabel('PDSI', fontsize=14)\n",
        "plt.xlabel('Date', fontsize=14)\n",
        "plt.axhline(0, color='k', ls='--')\n",
        "plt.axvline(pd.to_datetime('2017-03-26'), color='k', ls='--')\n",
        "plt.axvline(pd.to_datetime('2019-01-27'), color='k', ls='--')\n",
        "plt.axvline(pd.to_datetime('2019-12-17'), color='k', ls='--')\n",
        "plt.ylim(-7, 7)\n",
        "plt.text(pd.to_datetime('2017-04-10'), 5, 'A', weight='bold', fontsize=14)\n",
        "plt.text(pd.to_datetime('2019-02-10'), 5, 'B', weight='bold', fontsize=14)\n",
        "plt.text(pd.to_datetime('2019-12-31'), 5, 'C', weight='bold', fontsize=14)\n",
        "plt.tick_params(axis='both', labelsize=12)\n",
        "fig.show()"
      ],
      "execution_count": 9,
      "outputs": [
        {
          "output_type": "display_data",
          "data": {
            "text/plain": [
              "<Figure size 1000x300 with 1 Axes>"
            ],
            "image/png": "[encoded data removed]"
          },
          "metadata": {}
        }
      ]
    }
  ]
}