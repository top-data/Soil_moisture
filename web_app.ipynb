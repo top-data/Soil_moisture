
# app.py
from flask import Flask, render_template, request

app = Flask(__name__)

@app.route('/')
def index():
    return render_template('index.html')

@app.route('/process', methods=['POST'])
def process():
    lat = request.form['lat']
    lon = request.form['lon']
    start_date = request.form['start_date']
    end_date = request.form['end_date']

    # Here you can call your other Python code with the input values
    # For example, pass them to a function:
    result = process_data(lat, lon, start_date, end_date)

    return f"Received data - Lat: {lat}, Lon: {lon}, Start Date: {start_date}, End Date: {end_date}.<br>Result: {result}"

def process_data(lat, lon, start_date, end_date):
    # This is where you process the data with your custom Python code
    # For now, just return a sample response
    return f"Processed data for coordinates ({lat}, {lon}) between {start_date} and {end_date}."

if __name__ == '__main__':
    app.run(debug=True)
