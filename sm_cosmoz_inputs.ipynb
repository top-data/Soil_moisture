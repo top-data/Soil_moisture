{
  "nbformat": 4,
  "nbformat_minor": 0,
  "metadata": {
    "colab": {
      "provenance": [],
      "include_colab_link": true
    },
    "kernelspec": {
      "name": "python3",
      "display_name": "Python 3"
    },
    "language_info": {
      "name": "python"
    }
  },
  "cells": [
    {
      "cell_type": "markdown",
      "metadata": {
        "id": "view-in-github",
        "colab_type": "text"
      },
      "source": [
        "<a href=\"https://colab.research.google.com/github/top-data/Soil_moisture/blob/main/sm_cosmoz_inputs.ipynb\" target=\"_parent\"><img src=\"https://colab.research.google.com/assets/colab-badge.svg\" alt=\"Open In Colab\"/></a>"
      ]
    },
    {
      "cell_type": "markdown",
      "source": [
        "# Imports and authentication"
      ],
      "metadata": {
        "id": "_Pic81pmcNZf"
      }
    },
    {
      "cell_type": "code",
      "execution_count": 5,
      "metadata": {
        "id": "kiz8p7gOI7G9"
      },
      "outputs": [],
      "source": [
        "# libraries\n",
        "import pandas as pd\n",
        "import matplotlib.pyplot as plt\n",
        "import numpy as np\n",
        "import folium\n",
        "import geemap\n",
        "from datetime import datetime, timedelta\n",
        "import joblib\n",
        "from sklearn.pipeline import Pipeline\n",
        "from sklearn.preprocessing import StandardScaler\n",
        "from xgboost import XGBRegressor\n",
        "from sklearn.metrics import mean_squared_error, r2_score\n",
        "\n",
        "\n",
        "\n"
      ]
    },
    {
      "cell_type": "code",
      "source": [
        "# mounting google drive\n",
        "from google.colab import drive\n",
        "drive.mount('/content/drive')"
      ],
      "metadata": {
        "id": "8dIXuHPgUzJS",
        "outputId": "226549e2-0f81-4449-c30a-7348fb0a6c75",
        "colab": {
          "base_uri": "https://localhost:8080/",
          "height": 35
        }
      },
      "execution_count": 2,
      "outputs": [
        {
          "output_type": "display_data",
          "data": {
            "text/plain": [
              "<IPython.core.display.HTML object>"
            ],
            "text/html": [
              "\n",
              "            <style>\n",
              "                .geemap-dark {\n",
              "                    --jp-widgets-color: white;\n",
              "                    --jp-widgets-label-color: white;\n",
              "                    --jp-ui-font-color1: white;\n",
              "                    --jp-layout-color2: #454545;\n",
              "                    background-color: #383838;\n",
              "                }\n",
              "\n",
              "                .geemap-dark .jupyter-button {\n",
              "                    --jp-layout-color3: #383838;\n",
              "                }\n",
              "\n",
              "                .geemap-colab {\n",
              "                    background-color: var(--colab-primary-surface-color, white);\n",
              "                }\n",
              "\n",
              "                .geemap-colab .jupyter-button {\n",
              "                    --jp-layout-color3: var(--colab-primary-surface-color, white);\n",
              "                }\n",
              "            </style>\n",
              "            "
            ]
          },
          "metadata": {}
        },
        {
          "output_type": "stream",
          "name": "stdout",
          "text": [
            "Drive already mounted at /content/drive; to attempt to forcibly remount, call drive.mount(\"/content/drive\", force_remount=True).\n"
          ]
        }
      ]
    },
    {
      "cell_type": "code",
      "source": [
        "# Import, authenticate and initialize the Earth Engine library.\n",
        "import ee\n",
        "ee.Authenticate()\n",
        "ee.Initialize(project='ee-mhdsaki')\n"
      ],
      "metadata": {
        "id": "FJUUe0PJVPtp",
        "outputId": "f6511f6d-4f63-4553-ced2-6241c02ab072",
        "colab": {
          "base_uri": "https://localhost:8080/",
          "height": 353
        }
      },
      "execution_count": 1,
      "outputs": [
        {
          "output_type": "error",
          "ename": "MessageError",
          "evalue": "Error: credential propagation was unsuccessful",
          "traceback": [
            "\u001b[0;31m---------------------------------------------------------------------------\u001b[0m",
            "\u001b[0;31mMessageError\u001b[0m                              Traceback (most recent call last)",
            "\u001b[0;32m<ipython-input-1-962e581a5491>\u001b[0m in \u001b[0;36m<cell line: 3>\u001b[0;34m()\u001b[0m\n\u001b[1;32m      1\u001b[0m \u001b[0;31m# Import, authenticate and initialize the Earth Engine library.\u001b[0m\u001b[0;34m\u001b[0m\u001b[0;34m\u001b[0m\u001b[0m\n\u001b[1;32m      2\u001b[0m \u001b[0;32mimport\u001b[0m \u001b[0mee\u001b[0m\u001b[0;34m\u001b[0m\u001b[0;34m\u001b[0m\u001b[0m\n\u001b[0;32m----> 3\u001b[0;31m \u001b[0mee\u001b[0m\u001b[0;34m.\u001b[0m\u001b[0mAuthenticate\u001b[0m\u001b[0;34m(\u001b[0m\u001b[0;34m)\u001b[0m\u001b[0;34m\u001b[0m\u001b[0;34m\u001b[0m\u001b[0m\n\u001b[0m\u001b[1;32m      4\u001b[0m \u001b[0mee\u001b[0m\u001b[0;34m.\u001b[0m\u001b[0mInitialize\u001b[0m\u001b[0;34m(\u001b[0m\u001b[0mproject\u001b[0m\u001b[0;34m=\u001b[0m\u001b[0;34m'ee-mhdsaki'\u001b[0m\u001b[0;34m)\u001b[0m\u001b[0;34m\u001b[0m\u001b[0;34m\u001b[0m\u001b[0m\n",
            "\u001b[0;32m/usr/local/lib/python3.10/dist-packages/ee/__init__.py\u001b[0m in \u001b[0;36mAuthenticate\u001b[0;34m(authorization_code, quiet, code_verifier, auth_mode, scopes, force)\u001b[0m\n\u001b[1;32m    123\u001b[0m     \u001b[0;32mTrue\u001b[0m \u001b[0;32mif\u001b[0m \u001b[0mwe\u001b[0m \u001b[0mfound\u001b[0m \u001b[0mvalid\u001b[0m \u001b[0mcredentials\u001b[0m \u001b[0;32mand\u001b[0m \u001b[0mdidn\u001b[0m\u001b[0;31m'\u001b[0m\u001b[0mt\u001b[0m \u001b[0mrun\u001b[0m \u001b[0mthe\u001b[0m \u001b[0mauth\u001b[0m \u001b[0mflow\u001b[0m\u001b[0;34m.\u001b[0m\u001b[0;34m\u001b[0m\u001b[0;34m\u001b[0m\u001b[0m\n\u001b[1;32m    124\u001b[0m   \"\"\"\n\u001b[0;32m--> 125\u001b[0;31m   return oauth.authenticate(authorization_code, quiet, code_verifier, auth_mode,\n\u001b[0m\u001b[1;32m    126\u001b[0m                             scopes, force)\n\u001b[1;32m    127\u001b[0m \u001b[0;34m\u001b[0m\u001b[0m\n",
            "\u001b[0;32m/usr/local/lib/python3.10/dist-packages/ee/oauth.py\u001b[0m in \u001b[0;36mauthenticate\u001b[0;34m(cli_authorization_code, quiet, cli_code_verifier, auth_mode, scopes, force)\u001b[0m\n\u001b[1;32m    523\u001b[0m   \u001b[0;32mif\u001b[0m \u001b[0mauth_mode\u001b[0m \u001b[0;34m==\u001b[0m \u001b[0;34m'colab'\u001b[0m\u001b[0;34m:\u001b[0m\u001b[0;34m\u001b[0m\u001b[0;34m\u001b[0m\u001b[0m\n\u001b[1;32m    524\u001b[0m     \u001b[0;32mfrom\u001b[0m \u001b[0mgoogle\u001b[0m\u001b[0;34m.\u001b[0m\u001b[0mcolab\u001b[0m \u001b[0;32mimport\u001b[0m \u001b[0mauth\u001b[0m  \u001b[0;31m# pylint: disable=g-import-not-at-top # pytype: disable=import-error\u001b[0m\u001b[0;34m\u001b[0m\u001b[0;34m\u001b[0m\u001b[0m\n\u001b[0;32m--> 525\u001b[0;31m     \u001b[0mauth\u001b[0m\u001b[0;34m.\u001b[0m\u001b[0mauthenticate_user\u001b[0m\u001b[0;34m(\u001b[0m\u001b[0;34m)\u001b[0m\u001b[0;34m\u001b[0m\u001b[0;34m\u001b[0m\u001b[0m\n\u001b[0m\u001b[1;32m    526\u001b[0m     \u001b[0;32mreturn\u001b[0m\u001b[0;34m\u001b[0m\u001b[0;34m\u001b[0m\u001b[0m\n\u001b[1;32m    527\u001b[0m \u001b[0;34m\u001b[0m\u001b[0m\n",
            "\u001b[0;32m/usr/local/lib/python3.10/dist-packages/google/colab/auth.py\u001b[0m in \u001b[0;36mauthenticate_user\u001b[0;34m(clear_output, project_id)\u001b[0m\n\u001b[1;32m    258\u001b[0m   \u001b[0;32mif\u001b[0m \u001b[0;32mnot\u001b[0m \u001b[0m_check_adc\u001b[0m\u001b[0;34m(\u001b[0m\u001b[0m_CredentialType\u001b[0m\u001b[0;34m.\u001b[0m\u001b[0mUSER\u001b[0m\u001b[0;34m)\u001b[0m\u001b[0;34m:\u001b[0m\u001b[0;34m\u001b[0m\u001b[0;34m\u001b[0m\u001b[0m\n\u001b[1;32m    259\u001b[0m     \u001b[0;32mif\u001b[0m \u001b[0muse_auth_ephem\u001b[0m\u001b[0;34m:\u001b[0m\u001b[0;34m\u001b[0m\u001b[0;34m\u001b[0m\u001b[0m\n\u001b[0;32m--> 260\u001b[0;31m       _message.blocking_request(\n\u001b[0m\u001b[1;32m    261\u001b[0m           \u001b[0;34m'request_auth'\u001b[0m\u001b[0;34m,\u001b[0m\u001b[0;34m\u001b[0m\u001b[0;34m\u001b[0m\u001b[0m\n\u001b[1;32m    262\u001b[0m           \u001b[0mrequest\u001b[0m\u001b[0;34m=\u001b[0m\u001b[0;34m{\u001b[0m\u001b[0;34m'authType'\u001b[0m\u001b[0;34m:\u001b[0m \u001b[0;34m'auth_user_ephemeral'\u001b[0m\u001b[0;34m}\u001b[0m\u001b[0;34m,\u001b[0m\u001b[0;34m\u001b[0m\u001b[0;34m\u001b[0m\u001b[0m\n",
            "\u001b[0;32m/usr/local/lib/python3.10/dist-packages/google/colab/_message.py\u001b[0m in \u001b[0;36mblocking_request\u001b[0;34m(request_type, request, timeout_sec, parent)\u001b[0m\n\u001b[1;32m    174\u001b[0m       \u001b[0mrequest_type\u001b[0m\u001b[0;34m,\u001b[0m \u001b[0mrequest\u001b[0m\u001b[0;34m,\u001b[0m \u001b[0mparent\u001b[0m\u001b[0;34m=\u001b[0m\u001b[0mparent\u001b[0m\u001b[0;34m,\u001b[0m \u001b[0mexpect_reply\u001b[0m\u001b[0;34m=\u001b[0m\u001b[0;32mTrue\u001b[0m\u001b[0;34m\u001b[0m\u001b[0;34m\u001b[0m\u001b[0m\n\u001b[1;32m    175\u001b[0m   )\n\u001b[0;32m--> 176\u001b[0;31m   \u001b[0;32mreturn\u001b[0m \u001b[0mread_reply_from_input\u001b[0m\u001b[0;34m(\u001b[0m\u001b[0mrequest_id\u001b[0m\u001b[0;34m,\u001b[0m \u001b[0mtimeout_sec\u001b[0m\u001b[0;34m)\u001b[0m\u001b[0;34m\u001b[0m\u001b[0;34m\u001b[0m\u001b[0m\n\u001b[0m",
            "\u001b[0;32m/usr/local/lib/python3.10/dist-packages/google/colab/_message.py\u001b[0m in \u001b[0;36mread_reply_from_input\u001b[0;34m(message_id, timeout_sec)\u001b[0m\n\u001b[1;32m    101\u001b[0m     ):\n\u001b[1;32m    102\u001b[0m       \u001b[0;32mif\u001b[0m \u001b[0;34m'error'\u001b[0m \u001b[0;32min\u001b[0m \u001b[0mreply\u001b[0m\u001b[0;34m:\u001b[0m\u001b[0;34m\u001b[0m\u001b[0;34m\u001b[0m\u001b[0m\n\u001b[0;32m--> 103\u001b[0;31m         \u001b[0;32mraise\u001b[0m \u001b[0mMessageError\u001b[0m\u001b[0;34m(\u001b[0m\u001b[0mreply\u001b[0m\u001b[0;34m[\u001b[0m\u001b[0;34m'error'\u001b[0m\u001b[0;34m]\u001b[0m\u001b[0;34m)\u001b[0m\u001b[0;34m\u001b[0m\u001b[0;34m\u001b[0m\u001b[0m\n\u001b[0m\u001b[1;32m    104\u001b[0m       \u001b[0;32mreturn\u001b[0m \u001b[0mreply\u001b[0m\u001b[0;34m.\u001b[0m\u001b[0mget\u001b[0m\u001b[0;34m(\u001b[0m\u001b[0;34m'data'\u001b[0m\u001b[0;34m,\u001b[0m \u001b[0;32mNone\u001b[0m\u001b[0;34m)\u001b[0m\u001b[0;34m\u001b[0m\u001b[0;34m\u001b[0m\u001b[0m\n\u001b[1;32m    105\u001b[0m \u001b[0;34m\u001b[0m\u001b[0m\n",
            "\u001b[0;31mMessageError\u001b[0m: Error: credential propagation was unsuccessful"
          ]
        }
      ]
    },
    {
      "cell_type": "markdown",
      "source": [
        "# Converting image to dataframe"
      ],
      "metadata": {
        "id": "SS0OORjscxcz"
      }
    },
    {
      "cell_type": "code",
      "source": [
        "# image to df converter function\n",
        "\n",
        "def image_to_df(sat_product, bands, gps, dates):\n",
        "    \"\"\"\n",
        "    Inputs: satellite data product, desired bands, gps, date\n",
        "    Output: pandas dataframe with selected bands and date\n",
        "    Returns:\n",
        "\n",
        "    \"\"\"\n",
        "    # Define the ImageCollection\n",
        "    image = ee.ImageCollection(sat_product) \\\n",
        "              .select(bands) \\\n",
        "              .filterDate(dates[0], dates[1])\n",
        "\n",
        "    # Define a global bounding box geometry\n",
        "    global_geometry = ee.Geometry.Polygon(\n",
        "        [[[-180, -90], [180, -90], [180, 90], [-180, 90], [-180, -90]]]\n",
        "    )\n",
        "\n",
        "    # Define a local bounding box geometry\n",
        "    local_geometry = ee.Geometry.Rectangle([30, -10, 40, 10])\n",
        "\n",
        "    # Define a single geometry\n",
        "    single_geometry = ee.Geometry.Point(gps)\n",
        "\n",
        "    # Function to extract the date and mean values of bands\n",
        "    def image_to_dict(image):\n",
        "        # Get the date of the image\n",
        "        date = ee.Date(image.get('system:time_start')).format('YYYY-MM-dd')\n",
        "        # Get the mean soil moisture values over the global geometry\n",
        "        stats = image.reduceRegion(\n",
        "            reducer=ee.Reducer.mean(),\n",
        "            geometry=single_geometry, # or local_geometry # or global_geometry\n",
        "            scale=10000,\n",
        "            maxPixels=1e9\n",
        "        )\n",
        "        # Create a dictionary to store the data\n",
        "        data = {'date': date}\n",
        "        # Iterate over the bands and add their values to the dictionary\n",
        "        for band in bands:\n",
        "            data[band] = stats.get(band)\n",
        "        return ee.Feature(None, data)\n",
        "\n",
        "    # Map the function over the ImageCollection\n",
        "    data_features = image.map(image_to_dict)\n",
        "\n",
        "    # Convert the ImageCollection to a FeatureCollection, then to a list of dictionaries\n",
        "    features_dicts = data_features.getInfo()['features']\n",
        "\n",
        "    # Convert to pandas DataFrame\n",
        "    data_dict = [{'date': f['properties']['date'],\n",
        "                  **{band: f['properties'][band] for band in bands}} for f in features_dicts]\n",
        "\n",
        "    df = pd.DataFrame(data_dict)\n",
        "\n",
        "    return df\n",
        "\n",
        "\n"
      ],
      "metadata": {
        "colab": {
          "base_uri": "https://localhost:8080/",
          "height": 17
        },
        "id": "XiDkjyg6JJfp",
        "outputId": "9cd2f6a4-2c81-4786-a15d-a6a652280521"
      },
      "execution_count": null,
      "outputs": [
        {
          "output_type": "display_data",
          "data": {
            "text/plain": [
              "<IPython.core.display.HTML object>"
            ],
            "text/html": [
              "\n",
              "            <style>\n",
              "                .geemap-dark {\n",
              "                    --jp-widgets-color: white;\n",
              "                    --jp-widgets-label-color: white;\n",
              "                    --jp-ui-font-color1: white;\n",
              "                    --jp-layout-color2: #454545;\n",
              "                    background-color: #383838;\n",
              "                }\n",
              "\n",
              "                .geemap-dark .jupyter-button {\n",
              "                    --jp-layout-color3: #383838;\n",
              "                }\n",
              "\n",
              "                .geemap-colab {\n",
              "                    background-color: var(--colab-primary-surface-color, white);\n",
              "                }\n",
              "\n",
              "                .geemap-colab .jupyter-button {\n",
              "                    --jp-layout-color3: var(--colab-primary-surface-color, white);\n",
              "                }\n",
              "            </style>\n",
              "            "
            ]
          },
          "metadata": {}
        }
      ]
    },
    {
      "cell_type": "markdown",
      "source": [
        "# Loading data"
      ],
      "metadata": {
        "id": "9GNazFuBc__B"
      }
    },
    {
      "cell_type": "markdown",
      "source": [
        "## Loading satellite data\n",
        "\n"
      ],
      "metadata": {
        "id": "2Qiac4dYdQZO"
      }
    },
    {
      "cell_type": "markdown",
      "source": [
        "## List of sites for in-situ soil moisture"
      ],
      "metadata": {
        "id": "b1p03PZt5I8N"
      }
    },
    {
      "cell_type": "code",
      "source": [
        "stations = {\n",
        "    'site_no': ['station6', 'station7', 'station8', 'station10', 'station11', 'station15', 'station18', 'station19', 'station21', 'station23', 'station25', 'station26', 'station27', 'station29', 'station32'],\n",
        "    'site_name': ['RobsonCk', 'Temora', 'Tullochgorum', 'WeanyCk', 'Yanco', 'Hamilton', 'Bishes', 'Bennets', 'Bullawarrie', 'BCS_Conservatively', 'BCS_Brigalow', 'BCS_Heavily', 'Boorowa', 'Credo', 'OakValley'],\n",
        "    'lat':[-17.116, -34.405, -41.669, -19.882, -35.005, -37.828, -35.769, -35.826, -28.809, -24.812, -24.815, -24.811, -34.471, -30.191, -19.439],\n",
        "    'lon': [145.630, 147.533, 147.912, 146.536, 146.299, 142.089, 142.973, 143.004, 148.765, 149.801, 149.794, 149.790, 148.697, 120.654, 146.827]\n",
        "    }\n",
        "\n",
        "stations_df = pd.DataFrame(stations)\n",
        "stations_df\n"
      ],
      "metadata": {
        "colab": {
          "base_uri": "https://localhost:8080/",
          "height": 519
        },
        "id": "4WJ8gbEY48dT",
        "outputId": "550067a5-6d2d-4062-c98e-e1e6fe47a902"
      },
      "execution_count": null,
      "outputs": [
        {
          "output_type": "display_data",
          "data": {
            "text/plain": [
              "<IPython.core.display.HTML object>"
            ],
            "text/html": [
              "\n",
              "            <style>\n",
              "                .geemap-dark {\n",
              "                    --jp-widgets-color: white;\n",
              "                    --jp-widgets-label-color: white;\n",
              "                    --jp-ui-font-color1: white;\n",
              "                    --jp-layout-color2: #454545;\n",
              "                    background-color: #383838;\n",
              "                }\n",
              "\n",
              "                .geemap-dark .jupyter-button {\n",
              "                    --jp-layout-color3: #383838;\n",
              "                }\n",
              "\n",
              "                .geemap-colab {\n",
              "                    background-color: var(--colab-primary-surface-color, white);\n",
              "                }\n",
              "\n",
              "                .geemap-colab .jupyter-button {\n",
              "                    --jp-layout-color3: var(--colab-primary-surface-color, white);\n",
              "                }\n",
              "            </style>\n",
              "            "
            ]
          },
          "metadata": {}
        },
        {
          "output_type": "execute_result",
          "data": {
            "text/plain": [
              "      site_no           site_name     lat      lon\n",
              "0    station6            RobsonCk -17.116  145.630\n",
              "1    station7              Temora -34.405  147.533\n",
              "2    station8        Tullochgorum -41.669  147.912\n",
              "3   station10             WeanyCk -19.882  146.536\n",
              "4   station11               Yanco -35.005  146.299\n",
              "5   station15            Hamilton -37.828  142.089\n",
              "6   station18              Bishes -35.769  142.973\n",
              "7   station19             Bennets -35.826  143.004\n",
              "8   station21         Bullawarrie -28.809  148.765\n",
              "9   station23  BCS_Conservatively -24.812  149.801\n",
              "10  station25        BCS_Brigalow -24.815  149.794\n",
              "11  station26         BCS_Heavily -24.811  149.790\n",
              "12  station27             Boorowa -34.471  148.697\n",
              "13  station29               Credo -30.191  120.654\n",
              "14  station32           OakValley -19.439  146.827"
            ],
            "text/html": [
              "\n",
              "  <div id=\"df-8d6efe1e-fd8c-4804-aee3-c566535276f9\" class=\"colab-df-container\">\n",
              "    <div>\n",
              "<style scoped>\n",
              "    .dataframe tbody tr th:only-of-type {\n",
              "        vertical-align: middle;\n",
              "    }\n",
              "\n",
              "    .dataframe tbody tr th {\n",
              "        vertical-align: top;\n",
              "    }\n",
              "\n",
              "    .dataframe thead th {\n",
              "        text-align: right;\n",
              "    }\n",
              "</style>\n",
              "<table border=\"1\" class=\"dataframe\">\n",
              "  <thead>\n",
              "    <tr style=\"text-align: right;\">\n",
              "      <th></th>\n",
              "      <th>site_no</th>\n",
              "      <th>site_name</th>\n",
              "      <th>lat</th>\n",
              "      <th>lon</th>\n",
              "    </tr>\n",
              "  </thead>\n",
              "  <tbody>\n",
              "    <tr>\n",
              "      <th>0</th>\n",
              "      <td>station6</td>\n",
              "      <td>RobsonCk</td>\n",
              "      <td>-17.116</td>\n",
              "      <td>145.630</td>\n",
              "    </tr>\n",
              "    <tr>\n",
              "      <th>1</th>\n",
              "      <td>station7</td>\n",
              "      <td>Temora</td>\n",
              "      <td>-34.405</td>\n",
              "      <td>147.533</td>\n",
              "    </tr>\n",
              "    <tr>\n",
              "      <th>2</th>\n",
              "      <td>station8</td>\n",
              "      <td>Tullochgorum</td>\n",
              "      <td>-41.669</td>\n",
              "      <td>147.912</td>\n",
              "    </tr>\n",
              "    <tr>\n",
              "      <th>3</th>\n",
              "      <td>station10</td>\n",
              "      <td>WeanyCk</td>\n",
              "      <td>-19.882</td>\n",
              "      <td>146.536</td>\n",
              "    </tr>\n",
              "    <tr>\n",
              "      <th>4</th>\n",
              "      <td>station11</td>\n",
              "      <td>Yanco</td>\n",
              "      <td>-35.005</td>\n",
              "      <td>146.299</td>\n",
              "    </tr>\n",
              "    <tr>\n",
              "      <th>5</th>\n",
              "      <td>station15</td>\n",
              "      <td>Hamilton</td>\n",
              "      <td>-37.828</td>\n",
              "      <td>142.089</td>\n",
              "    </tr>\n",
              "    <tr>\n",
              "      <th>6</th>\n",
              "      <td>station18</td>\n",
              "      <td>Bishes</td>\n",
              "      <td>-35.769</td>\n",
              "      <td>142.973</td>\n",
              "    </tr>\n",
              "    <tr>\n",
              "      <th>7</th>\n",
              "      <td>station19</td>\n",
              "      <td>Bennets</td>\n",
              "      <td>-35.826</td>\n",
              "      <td>143.004</td>\n",
              "    </tr>\n",
              "    <tr>\n",
              "      <th>8</th>\n",
              "      <td>station21</td>\n",
              "      <td>Bullawarrie</td>\n",
              "      <td>-28.809</td>\n",
              "      <td>148.765</td>\n",
              "    </tr>\n",
              "    <tr>\n",
              "      <th>9</th>\n",
              "      <td>station23</td>\n",
              "      <td>BCS_Conservatively</td>\n",
              "      <td>-24.812</td>\n",
              "      <td>149.801</td>\n",
              "    </tr>\n",
              "    <tr>\n",
              "      <th>10</th>\n",
              "      <td>station25</td>\n",
              "      <td>BCS_Brigalow</td>\n",
              "      <td>-24.815</td>\n",
              "      <td>149.794</td>\n",
              "    </tr>\n",
              "    <tr>\n",
              "      <th>11</th>\n",
              "      <td>station26</td>\n",
              "      <td>BCS_Heavily</td>\n",
              "      <td>-24.811</td>\n",
              "      <td>149.790</td>\n",
              "    </tr>\n",
              "    <tr>\n",
              "      <th>12</th>\n",
              "      <td>station27</td>\n",
              "      <td>Boorowa</td>\n",
              "      <td>-34.471</td>\n",
              "      <td>148.697</td>\n",
              "    </tr>\n",
              "    <tr>\n",
              "      <th>13</th>\n",
              "      <td>station29</td>\n",
              "      <td>Credo</td>\n",
              "      <td>-30.191</td>\n",
              "      <td>120.654</td>\n",
              "    </tr>\n",
              "    <tr>\n",
              "      <th>14</th>\n",
              "      <td>station32</td>\n",
              "      <td>OakValley</td>\n",
              "      <td>-19.439</td>\n",
              "      <td>146.827</td>\n",
              "    </tr>\n",
              "  </tbody>\n",
              "</table>\n",
              "</div>\n",
              "    <div class=\"colab-df-buttons\">\n",
              "\n",
              "  <div class=\"colab-df-container\">\n",
              "    <button class=\"colab-df-convert\" onclick=\"convertToInteractive('df-8d6efe1e-fd8c-4804-aee3-c566535276f9')\"\n",
              "            title=\"Convert this dataframe to an interactive table.\"\n",
              "            style=\"display:none;\">\n",
              "\n",
              "  <svg xmlns=\"http://www.w3.org/2000/svg\" height=\"24px\" viewBox=\"0 -960 960 960\">\n",
              "    <path d=\"M120-120v-720h720v720H120Zm60-500h600v-160H180v160Zm220 220h160v-160H400v160Zm0 220h160v-160H400v160ZM180-400h160v-160H180v160Zm440 0h160v-160H620v160ZM180-180h160v-160H180v160Zm440 0h160v-160H620v160Z\"/>\n",
              "  </svg>\n",
              "    </button>\n",
              "\n",
              "  <style>\n",
              "    .colab-df-container {\n",
              "      display:flex;\n",
              "      gap: 12px;\n",
              "    }\n",
              "\n",
              "    .colab-df-convert {\n",
              "      background-color: #E8F0FE;\n",
              "      border: none;\n",
              "      border-radius: 50%;\n",
              "      cursor: pointer;\n",
              "      display: none;\n",
              "      fill: #1967D2;\n",
              "      height: 32px;\n",
              "      padding: 0 0 0 0;\n",
              "      width: 32px;\n",
              "    }\n",
              "\n",
              "    .colab-df-convert:hover {\n",
              "      background-color: #E2EBFA;\n",
              "      box-shadow: 0px 1px 2px rgba(60, 64, 67, 0.3), 0px 1px 3px 1px rgba(60, 64, 67, 0.15);\n",
              "      fill: #174EA6;\n",
              "    }\n",
              "\n",
              "    .colab-df-buttons div {\n",
              "      margin-bottom: 4px;\n",
              "    }\n",
              "\n",
              "    [theme=dark] .colab-df-convert {\n",
              "      background-color: #3B4455;\n",
              "      fill: #D2E3FC;\n",
              "    }\n",
              "\n",
              "    [theme=dark] .colab-df-convert:hover {\n",
              "      background-color: #434B5C;\n",
              "      box-shadow: 0px 1px 3px 1px rgba(0, 0, 0, 0.15);\n",
              "      filter: drop-shadow(0px 1px 2px rgba(0, 0, 0, 0.3));\n",
              "      fill: #FFFFFF;\n",
              "    }\n",
              "  </style>\n",
              "\n",
              "    <script>\n",
              "      const buttonEl =\n",
              "        document.querySelector('#df-8d6efe1e-fd8c-4804-aee3-c566535276f9 button.colab-df-convert');\n",
              "      buttonEl.style.display =\n",
              "        google.colab.kernel.accessAllowed ? 'block' : 'none';\n",
              "\n",
              "      async function convertToInteractive(key) {\n",
              "        const element = document.querySelector('#df-8d6efe1e-fd8c-4804-aee3-c566535276f9');\n",
              "        const dataTable =\n",
              "          await google.colab.kernel.invokeFunction('convertToInteractive',\n",
              "                                                    [key], {});\n",
              "        if (!dataTable) return;\n",
              "\n",
              "        const docLinkHtml = 'Like what you see? Visit the ' +\n",
              "          '<a target=\"_blank\" href=https://colab.research.google.com/notebooks/data_table.ipynb>data table notebook</a>'\n",
              "          + ' to learn more about interactive tables.';\n",
              "        element.innerHTML = '';\n",
              "        dataTable['output_type'] = 'display_data';\n",
              "        await google.colab.output.renderOutput(dataTable, element);\n",
              "        const docLink = document.createElement('div');\n",
              "        docLink.innerHTML = docLinkHtml;\n",
              "        element.appendChild(docLink);\n",
              "      }\n",
              "    </script>\n",
              "  </div>\n",
              "\n",
              "\n",
              "<div id=\"df-6175f3f9-c60b-4dbb-8c98-8aafe8c3772e\">\n",
              "  <button class=\"colab-df-quickchart\" onclick=\"quickchart('df-6175f3f9-c60b-4dbb-8c98-8aafe8c3772e')\"\n",
              "            title=\"Suggest charts\"\n",
              "            style=\"display:none;\">\n",
              "\n",
              "<svg xmlns=\"http://www.w3.org/2000/svg\" height=\"24px\"viewBox=\"0 0 24 24\"\n",
              "     width=\"24px\">\n",
              "    <g>\n",
              "        <path d=\"M19 3H5c-1.1 0-2 .9-2 2v14c0 1.1.9 2 2 2h14c1.1 0 2-.9 2-2V5c0-1.1-.9-2-2-2zM9 17H7v-7h2v7zm4 0h-2V7h2v10zm4 0h-2v-4h2v4z\"/>\n",
              "    </g>\n",
              "</svg>\n",
              "  </button>\n",
              "\n",
              "<style>\n",
              "  .colab-df-quickchart {\n",
              "      --bg-color: #E8F0FE;\n",
              "      --fill-color: #1967D2;\n",
              "      --hover-bg-color: #E2EBFA;\n",
              "      --hover-fill-color: #174EA6;\n",
              "      --disabled-fill-color: #AAA;\n",
              "      --disabled-bg-color: #DDD;\n",
              "  }\n",
              "\n",
              "  [theme=dark] .colab-df-quickchart {\n",
              "      --bg-color: #3B4455;\n",
              "      --fill-color: #D2E3FC;\n",
              "      --hover-bg-color: #434B5C;\n",
              "      --hover-fill-color: #FFFFFF;\n",
              "      --disabled-bg-color: #3B4455;\n",
              "      --disabled-fill-color: #666;\n",
              "  }\n",
              "\n",
              "  .colab-df-quickchart {\n",
              "    background-color: var(--bg-color);\n",
              "    border: none;\n",
              "    border-radius: 50%;\n",
              "    cursor: pointer;\n",
              "    display: none;\n",
              "    fill: var(--fill-color);\n",
              "    height: 32px;\n",
              "    padding: 0;\n",
              "    width: 32px;\n",
              "  }\n",
              "\n",
              "  .colab-df-quickchart:hover {\n",
              "    background-color: var(--hover-bg-color);\n",
              "    box-shadow: 0 1px 2px rgba(60, 64, 67, 0.3), 0 1px 3px 1px rgba(60, 64, 67, 0.15);\n",
              "    fill: var(--button-hover-fill-color);\n",
              "  }\n",
              "\n",
              "  .colab-df-quickchart-complete:disabled,\n",
              "  .colab-df-quickchart-complete:disabled:hover {\n",
              "    background-color: var(--disabled-bg-color);\n",
              "    fill: var(--disabled-fill-color);\n",
              "    box-shadow: none;\n",
              "  }\n",
              "\n",
              "  .colab-df-spinner {\n",
              "    border: 2px solid var(--fill-color);\n",
              "    border-color: transparent;\n",
              "    border-bottom-color: var(--fill-color);\n",
              "    animation:\n",
              "      spin 1s steps(1) infinite;\n",
              "  }\n",
              "\n",
              "  @keyframes spin {\n",
              "    0% {\n",
              "      border-color: transparent;\n",
              "      border-bottom-color: var(--fill-color);\n",
              "      border-left-color: var(--fill-color);\n",
              "    }\n",
              "    20% {\n",
              "      border-color: transparent;\n",
              "      border-left-color: var(--fill-color);\n",
              "      border-top-color: var(--fill-color);\n",
              "    }\n",
              "    30% {\n",
              "      border-color: transparent;\n",
              "      border-left-color: var(--fill-color);\n",
              "      border-top-color: var(--fill-color);\n",
              "      border-right-color: var(--fill-color);\n",
              "    }\n",
              "    40% {\n",
              "      border-color: transparent;\n",
              "      border-right-color: var(--fill-color);\n",
              "      border-top-color: var(--fill-color);\n",
              "    }\n",
              "    60% {\n",
              "      border-color: transparent;\n",
              "      border-right-color: var(--fill-color);\n",
              "    }\n",
              "    80% {\n",
              "      border-color: transparent;\n",
              "      border-right-color: var(--fill-color);\n",
              "      border-bottom-color: var(--fill-color);\n",
              "    }\n",
              "    90% {\n",
              "      border-color: transparent;\n",
              "      border-bottom-color: var(--fill-color);\n",
              "    }\n",
              "  }\n",
              "</style>\n",
              "\n",
              "  <script>\n",
              "    async function quickchart(key) {\n",
              "      const quickchartButtonEl =\n",
              "        document.querySelector('#' + key + ' button');\n",
              "      quickchartButtonEl.disabled = true;  // To prevent multiple clicks.\n",
              "      quickchartButtonEl.classList.add('colab-df-spinner');\n",
              "      try {\n",
              "        const charts = await google.colab.kernel.invokeFunction(\n",
              "            'suggestCharts', [key], {});\n",
              "      } catch (error) {\n",
              "        console.error('Error during call to suggestCharts:', error);\n",
              "      }\n",
              "      quickchartButtonEl.classList.remove('colab-df-spinner');\n",
              "      quickchartButtonEl.classList.add('colab-df-quickchart-complete');\n",
              "    }\n",
              "    (() => {\n",
              "      let quickchartButtonEl =\n",
              "        document.querySelector('#df-6175f3f9-c60b-4dbb-8c98-8aafe8c3772e button');\n",
              "      quickchartButtonEl.style.display =\n",
              "        google.colab.kernel.accessAllowed ? 'block' : 'none';\n",
              "    })();\n",
              "  </script>\n",
              "</div>\n",
              "\n",
              "  <div id=\"id_694b3e38-5a23-4c21-b475-8465815f2324\">\n",
              "    <style>\n",
              "      .colab-df-generate {\n",
              "        background-color: #E8F0FE;\n",
              "        border: none;\n",
              "        border-radius: 50%;\n",
              "        cursor: pointer;\n",
              "        display: none;\n",
              "        fill: #1967D2;\n",
              "        height: 32px;\n",
              "        padding: 0 0 0 0;\n",
              "        width: 32px;\n",
              "      }\n",
              "\n",
              "      .colab-df-generate:hover {\n",
              "        background-color: #E2EBFA;\n",
              "        box-shadow: 0px 1px 2px rgba(60, 64, 67, 0.3), 0px 1px 3px 1px rgba(60, 64, 67, 0.15);\n",
              "        fill: #174EA6;\n",
              "      }\n",
              "\n",
              "      [theme=dark] .colab-df-generate {\n",
              "        background-color: #3B4455;\n",
              "        fill: #D2E3FC;\n",
              "      }\n",
              "\n",
              "      [theme=dark] .colab-df-generate:hover {\n",
              "        background-color: #434B5C;\n",
              "        box-shadow: 0px 1px 3px 1px rgba(0, 0, 0, 0.15);\n",
              "        filter: drop-shadow(0px 1px 2px rgba(0, 0, 0, 0.3));\n",
              "        fill: #FFFFFF;\n",
              "      }\n",
              "    </style>\n",
              "    <button class=\"colab-df-generate\" onclick=\"generateWithVariable('stations_df')\"\n",
              "            title=\"Generate code using this dataframe.\"\n",
              "            style=\"display:none;\">\n",
              "\n",
              "  <svg xmlns=\"http://www.w3.org/2000/svg\" height=\"24px\"viewBox=\"0 0 24 24\"\n",
              "       width=\"24px\">\n",
              "    <path d=\"M7,19H8.4L18.45,9,17,7.55,7,17.6ZM5,21V16.75L18.45,3.32a2,2,0,0,1,2.83,0l1.4,1.43a1.91,1.91,0,0,1,.58,1.4,1.91,1.91,0,0,1-.58,1.4L9.25,21ZM18.45,9,17,7.55Zm-12,3A5.31,5.31,0,0,0,4.9,8.1,5.31,5.31,0,0,0,1,6.5,5.31,5.31,0,0,0,4.9,4.9,5.31,5.31,0,0,0,6.5,1,5.31,5.31,0,0,0,8.1,4.9,5.31,5.31,0,0,0,12,6.5,5.46,5.46,0,0,0,6.5,12Z\"/>\n",
              "  </svg>\n",
              "    </button>\n",
              "    <script>\n",
              "      (() => {\n",
              "      const buttonEl =\n",
              "        document.querySelector('#id_694b3e38-5a23-4c21-b475-8465815f2324 button.colab-df-generate');\n",
              "      buttonEl.style.display =\n",
              "        google.colab.kernel.accessAllowed ? 'block' : 'none';\n",
              "\n",
              "      buttonEl.onclick = () => {\n",
              "        google.colab.notebook.generateWithVariable('stations_df');\n",
              "      }\n",
              "      })();\n",
              "    </script>\n",
              "  </div>\n",
              "\n",
              "    </div>\n",
              "  </div>\n"
            ],
            "application/vnd.google.colaboratory.intrinsic+json": {
              "type": "dataframe",
              "variable_name": "stations_df",
              "summary": "{\n  \"name\": \"stations_df\",\n  \"rows\": 15,\n  \"fields\": [\n    {\n      \"column\": \"site_no\",\n      \"properties\": {\n        \"dtype\": \"string\",\n        \"num_unique_values\": 15,\n        \"samples\": [\n          \"station23\",\n          \"station26\",\n          \"station6\"\n        ],\n        \"semantic_type\": \"\",\n        \"description\": \"\"\n      }\n    },\n    {\n      \"column\": \"site_name\",\n      \"properties\": {\n        \"dtype\": \"string\",\n        \"num_unique_values\": 15,\n        \"samples\": [\n          \"BCS_Conservatively\",\n          \"BCS_Heavily\",\n          \"RobsonCk\"\n        ],\n        \"semantic_type\": \"\",\n        \"description\": \"\"\n      }\n    },\n    {\n      \"column\": \"lat\",\n      \"properties\": {\n        \"dtype\": \"number\",\n        \"std\": 7.509172894026408,\n        \"min\": -41.669,\n        \"max\": -17.116,\n        \"num_unique_values\": 15,\n        \"samples\": [\n          -24.812,\n          -24.811,\n          -17.116\n        ],\n        \"semantic_type\": \"\",\n        \"description\": \"\"\n      }\n    },\n    {\n      \"column\": \"lon\",\n      \"properties\": {\n        \"dtype\": \"number\",\n        \"std\": 7.214457463679309,\n        \"min\": 120.654,\n        \"max\": 149.801,\n        \"num_unique_values\": 15,\n        \"samples\": [\n          149.801,\n          149.79,\n          145.63\n        ],\n        \"semantic_type\": \"\",\n        \"description\": \"\"\n      }\n    }\n  ]\n}"
            }
          },
          "metadata": {},
          "execution_count": 57
        }
      ]
    },
    {
      "cell_type": "code",
      "source": [
        "stations_df.iloc[1]['site_no']"
      ],
      "metadata": {
        "colab": {
          "base_uri": "https://localhost:8080/",
          "height": 36
        },
        "id": "YcgGTJr_MiE5",
        "outputId": "16beddb2-0cfd-4cc5-c632-9435ef7f1c6f"
      },
      "execution_count": null,
      "outputs": [
        {
          "output_type": "display_data",
          "data": {
            "text/plain": [
              "<IPython.core.display.HTML object>"
            ],
            "text/html": [
              "\n",
              "            <style>\n",
              "                .geemap-dark {\n",
              "                    --jp-widgets-color: white;\n",
              "                    --jp-widgets-label-color: white;\n",
              "                    --jp-ui-font-color1: white;\n",
              "                    --jp-layout-color2: #454545;\n",
              "                    background-color: #383838;\n",
              "                }\n",
              "\n",
              "                .geemap-dark .jupyter-button {\n",
              "                    --jp-layout-color3: #383838;\n",
              "                }\n",
              "\n",
              "                .geemap-colab {\n",
              "                    background-color: var(--colab-primary-surface-color, white);\n",
              "                }\n",
              "\n",
              "                .geemap-colab .jupyter-button {\n",
              "                    --jp-layout-color3: var(--colab-primary-surface-color, white);\n",
              "                }\n",
              "            </style>\n",
              "            "
            ]
          },
          "metadata": {}
        },
        {
          "output_type": "execute_result",
          "data": {
            "text/plain": [
              "'station7'"
            ],
            "application/vnd.google.colaboratory.intrinsic+json": {
              "type": "string"
            }
          },
          "metadata": {},
          "execution_count": 61
        }
      ]
    },
    {
      "cell_type": "code",
      "source": [
        "def build_smap_cosmoz(station_data):\n",
        "  # Function to download data for a specific period\n",
        "  def download_smap_data(start_date, end_date, sat_product, bands, gps):\n",
        "      dates = [start_date, end_date]\n",
        "      return image_to_df(sat_product, bands, gps, dates)\n",
        "\n",
        "  # Parameters\n",
        "  sat_product = 'NASA/SMAP/SPL4SMGP/007'\n",
        "  bands = ['sm_surface', 'sm_rootzone', 'sm_profile', 'sm_surface_wetness', 'sm_rootzone_wetness', 'sm_profile_wetness', 'surface_temp',\n",
        "          'soil_temp_layer1', 'soil_temp_layer2', 'soil_temp_layer3', 'soil_temp_layer4', 'soil_temp_layer5', 'soil_temp_layer6']\n",
        "  gps = [station_data['lon'], station_data['lat']] # station7 (site: Temora)\n",
        "  start_date = datetime(2020, 8, 15)\n",
        "  end_date = datetime(2024, 8, 15)\n",
        "\n",
        "  # Empty list to store DataFrames\n",
        "  dfs = []\n",
        "\n",
        "  # Loop through the date range in 3-month intervals\n",
        "  current_start = start_date\n",
        "  while current_start < end_date:\n",
        "      current_end = min(current_start + timedelta(days=90), end_date)\n",
        "      df = download_smap_data(current_start.strftime('%Y-%m-%d'), current_end.strftime('%Y-%m-%d'), sat_product, bands, gps)\n",
        "      dfs.append(df)\n",
        "      current_start = current_end\n",
        "\n",
        "  # Combine all DataFrames into one\n",
        "  smap_df = pd.concat(dfs)\n",
        "\n",
        "  # Process the combined DataFrame\n",
        "  smap_df['date'] = pd.to_datetime(smap_df['date'])  # Convert 'date' to datetime\n",
        "  smap_df.set_index('date', inplace=True)  # Set 'date' as index\n",
        "  smap_df.dropna(inplace=True)\n",
        "  smap_df.to_csv(f\"/content/drive/MyDrive/SoilMoisture/cosmoz/smap_{station_data['site_no']}.csv\")\n",
        "\n",
        "  # loading in-situ data (cosmoz stations)\n",
        "  cosmoz_data = pd.read_csv(f\"/content/drive/MyDrive/SoilMoisture/cosmoz/{station_data['site_no']}_level4.csv\")\n",
        "  cosmoz_data = cosmoz_data.rename(columns={'UTC_TIMESTAMP': 'date'})\n",
        "  cosmoz_data['date'] = pd.to_datetime(cosmoz_data['date'])\n",
        "  cosmoz_data.set_index('date', inplace=True)\n",
        "\n",
        "  # Resample smap_df to daily and average values\n",
        "  smap_df_daily = smap_df.resample('D').mean()\n",
        "\n",
        "  # Resample cosmoz data to daily and average values\n",
        "  cosmoz_data_daily = cosmoz_data.resample('D').mean()/100\n",
        "\n",
        "  # Merge the two dataframes on 'date'\n",
        "  merged_df = pd.merge(smap_df_daily, cosmoz_data_daily, on='date', how='inner')\n",
        "\n",
        "  merged_df.dropna(subset=['SOIL_MOISTURE_percent'], inplace=True)\n",
        "\n",
        "  return merged_df\n"
      ],
      "metadata": {
        "colab": {
          "base_uri": "https://localhost:8080/",
          "height": 17
        },
        "id": "3j_F5yXaMJHC",
        "outputId": "87711b05-fe47-4d14-e956-eab194cb7aef"
      },
      "execution_count": null,
      "outputs": [
        {
          "output_type": "display_data",
          "data": {
            "text/plain": [
              "<IPython.core.display.HTML object>"
            ],
            "text/html": [
              "\n",
              "            <style>\n",
              "                .geemap-dark {\n",
              "                    --jp-widgets-color: white;\n",
              "                    --jp-widgets-label-color: white;\n",
              "                    --jp-ui-font-color1: white;\n",
              "                    --jp-layout-color2: #454545;\n",
              "                    background-color: #383838;\n",
              "                }\n",
              "\n",
              "                .geemap-dark .jupyter-button {\n",
              "                    --jp-layout-color3: #383838;\n",
              "                }\n",
              "\n",
              "                .geemap-colab {\n",
              "                    background-color: var(--colab-primary-surface-color, white);\n",
              "                }\n",
              "\n",
              "                .geemap-colab .jupyter-button {\n",
              "                    --jp-layout-color3: var(--colab-primary-surface-color, white);\n",
              "                }\n",
              "            </style>\n",
              "            "
            ]
          },
          "metadata": {}
        }
      ]
    },
    {
      "cell_type": "code",
      "source": [
        "all_smap_stations = []\n",
        "for index, row in stations_df.iterrows():\n",
        "  merged_df = build_smap_cosmoz(row)\n",
        "  all_smap_stations.append(merged_df)"
      ],
      "metadata": {
        "colab": {
          "base_uri": "https://localhost:8080/",
          "height": 17
        },
        "id": "zd2X_TQ0RXxy",
        "outputId": "6d20ca3b-ce8e-4cd0-9e72-69ad410a1c88"
      },
      "execution_count": null,
      "outputs": [
        {
          "output_type": "display_data",
          "data": {
            "text/plain": [
              "<IPython.core.display.HTML object>"
            ],
            "text/html": [
              "\n",
              "            <style>\n",
              "                .geemap-dark {\n",
              "                    --jp-widgets-color: white;\n",
              "                    --jp-widgets-label-color: white;\n",
              "                    --jp-ui-font-color1: white;\n",
              "                    --jp-layout-color2: #454545;\n",
              "                    background-color: #383838;\n",
              "                }\n",
              "\n",
              "                .geemap-dark .jupyter-button {\n",
              "                    --jp-layout-color3: #383838;\n",
              "                }\n",
              "\n",
              "                .geemap-colab {\n",
              "                    background-color: var(--colab-primary-surface-color, white);\n",
              "                }\n",
              "\n",
              "                .geemap-colab .jupyter-button {\n",
              "                    --jp-layout-color3: var(--colab-primary-surface-color, white);\n",
              "                }\n",
              "            </style>\n",
              "            "
            ]
          },
          "metadata": {}
        }
      ]
    },
    {
      "cell_type": "code",
      "source": [
        "merged_df_all = pd.concat(all_smap_stations)\n",
        "merged_df_all.to_csv('/content/drive/MyDrive/SoilMoisture/cosmoz/merged_df_all.csv')"
      ],
      "metadata": {
        "id": "bxjxO1OMVl7m"
      },
      "execution_count": null,
      "outputs": []
    },
    {
      "cell_type": "code",
      "source": [
        "merged_df_all = pd.read_csv('/content/drive/MyDrive/SoilMoisture/cosmoz/merged_df_all.csv').set_index('date')\n",
        "merged_df_all.corr()['SOIL_MOISTURE_percent'].abs().sort_values(ascending=False)"
      ],
      "metadata": {
        "colab": {
          "base_uri": "https://localhost:8080/",
          "height": 648
        },
        "id": "tuFDbBcRl5Af",
        "outputId": "90dc4a78-3583-43eb-cc35-2c3475507edd"
      },
      "execution_count": 11,
      "outputs": [
        {
          "output_type": "display_data",
          "data": {
            "text/plain": [
              "<IPython.core.display.HTML object>"
            ],
            "text/html": [
              "\n",
              "            <style>\n",
              "                .geemap-dark {\n",
              "                    --jp-widgets-color: white;\n",
              "                    --jp-widgets-label-color: white;\n",
              "                    --jp-ui-font-color1: white;\n",
              "                    --jp-layout-color2: #454545;\n",
              "                    background-color: #383838;\n",
              "                }\n",
              "\n",
              "                .geemap-dark .jupyter-button {\n",
              "                    --jp-layout-color3: #383838;\n",
              "                }\n",
              "\n",
              "                .geemap-colab {\n",
              "                    background-color: var(--colab-primary-surface-color, white);\n",
              "                }\n",
              "\n",
              "                .geemap-colab .jupyter-button {\n",
              "                    --jp-layout-color3: var(--colab-primary-surface-color, white);\n",
              "                }\n",
              "            </style>\n",
              "            "
            ]
          },
          "metadata": {}
        },
        {
          "output_type": "execute_result",
          "data": {
            "text/plain": [
              "SOIL_MOISTURE_percent       1.000000\n",
              "7H_SOIL_MOISTURE_percent    0.999810\n",
              "7H_DEPTH_cm                 0.867162\n",
              "EFFECTIVE_DEPTH_cm          0.866978\n",
              "sm_surface_wetness          0.685789\n",
              "sm_surface                  0.653562\n",
              "sm_rootzone_wetness         0.580082\n",
              "sm_profile_wetness          0.579875\n",
              "sm_rootzone                 0.509688\n",
              "sm_profile                  0.509041\n",
              "soil_temp_layer1            0.401056\n",
              "soil_temp_layer2            0.400522\n",
              "surface_temp                0.396690\n",
              "soil_temp_layer3            0.392185\n",
              "soil_temp_layer4            0.361302\n",
              "soil_temp_layer5            0.291935\n",
              "soil_temp_layer6            0.224593\n",
              "RAIN_mm                     0.023507\n",
              "Name: SOIL_MOISTURE_percent, dtype: float64"
            ],
            "text/html": [
              "<div>\n",
              "<style scoped>\n",
              "    .dataframe tbody tr th:only-of-type {\n",
              "        vertical-align: middle;\n",
              "    }\n",
              "\n",
              "    .dataframe tbody tr th {\n",
              "        vertical-align: top;\n",
              "    }\n",
              "\n",
              "    .dataframe thead th {\n",
              "        text-align: right;\n",
              "    }\n",
              "</style>\n",
              "<table border=\"1\" class=\"dataframe\">\n",
              "  <thead>\n",
              "    <tr style=\"text-align: right;\">\n",
              "      <th></th>\n",
              "      <th>SOIL_MOISTURE_percent</th>\n",
              "    </tr>\n",
              "  </thead>\n",
              "  <tbody>\n",
              "    <tr>\n",
              "      <th>SOIL_MOISTURE_percent</th>\n",
              "      <td>1.000000</td>\n",
              "    </tr>\n",
              "    <tr>\n",
              "      <th>7H_SOIL_MOISTURE_percent</th>\n",
              "      <td>0.999810</td>\n",
              "    </tr>\n",
              "    <tr>\n",
              "      <th>7H_DEPTH_cm</th>\n",
              "      <td>0.867162</td>\n",
              "    </tr>\n",
              "    <tr>\n",
              "      <th>EFFECTIVE_DEPTH_cm</th>\n",
              "      <td>0.866978</td>\n",
              "    </tr>\n",
              "    <tr>\n",
              "      <th>sm_surface_wetness</th>\n",
              "      <td>0.685789</td>\n",
              "    </tr>\n",
              "    <tr>\n",
              "      <th>sm_surface</th>\n",
              "      <td>0.653562</td>\n",
              "    </tr>\n",
              "    <tr>\n",
              "      <th>sm_rootzone_wetness</th>\n",
              "      <td>0.580082</td>\n",
              "    </tr>\n",
              "    <tr>\n",
              "      <th>sm_profile_wetness</th>\n",
              "      <td>0.579875</td>\n",
              "    </tr>\n",
              "    <tr>\n",
              "      <th>sm_rootzone</th>\n",
              "      <td>0.509688</td>\n",
              "    </tr>\n",
              "    <tr>\n",
              "      <th>sm_profile</th>\n",
              "      <td>0.509041</td>\n",
              "    </tr>\n",
              "    <tr>\n",
              "      <th>soil_temp_layer1</th>\n",
              "      <td>0.401056</td>\n",
              "    </tr>\n",
              "    <tr>\n",
              "      <th>soil_temp_layer2</th>\n",
              "      <td>0.400522</td>\n",
              "    </tr>\n",
              "    <tr>\n",
              "      <th>surface_temp</th>\n",
              "      <td>0.396690</td>\n",
              "    </tr>\n",
              "    <tr>\n",
              "      <th>soil_temp_layer3</th>\n",
              "      <td>0.392185</td>\n",
              "    </tr>\n",
              "    <tr>\n",
              "      <th>soil_temp_layer4</th>\n",
              "      <td>0.361302</td>\n",
              "    </tr>\n",
              "    <tr>\n",
              "      <th>soil_temp_layer5</th>\n",
              "      <td>0.291935</td>\n",
              "    </tr>\n",
              "    <tr>\n",
              "      <th>soil_temp_layer6</th>\n",
              "      <td>0.224593</td>\n",
              "    </tr>\n",
              "    <tr>\n",
              "      <th>RAIN_mm</th>\n",
              "      <td>0.023507</td>\n",
              "    </tr>\n",
              "  </tbody>\n",
              "</table>\n",
              "</div><br><label><b>dtype:</b> float64</label>"
            ]
          },
          "metadata": {},
          "execution_count": 11
        }
      ]
    },
    {
      "cell_type": "markdown",
      "source": [
        "## Plot (satellite and in-situ)"
      ],
      "metadata": {
        "id": "yExNhKinduk0"
      }
    },
    {
      "cell_type": "code",
      "source": [
        "fig, ax1 = plt.subplots(figsize=(10, 6))\n",
        "\n",
        "# Plot stacked area chart for col1 and col2\n",
        "merged_df_all[['sm_surface', 'sm_rootzone']].plot(kind='area', stacked=True, ax=ax1, alpha=0.5)\n",
        "\n",
        "# Plot line plot for col3\n",
        "ax1.scatter(merged_df_all.index, merged_df_all['SOIL_MOISTURE_percent'], color='black', label='COSMOZ SoliM')\n",
        "\n",
        "\n",
        "# Add labels and title\n",
        "ax1.set_xlabel('Date')\n",
        "ax1.set_ylabel('Soil Moisture (%)')\n",
        "\n",
        "# Add legends\n",
        "ax1.legend(loc='upper right')\n",
        "\n",
        "# Show plot\n",
        "plt.title('SMAP and COSMOZ Soil Misture')\n",
        "plt.show()\n"
      ],
      "metadata": {
        "colab": {
          "base_uri": "https://localhost:8080/",
          "height": 537
        },
        "id": "IjFhSYORbvZj",
        "outputId": "ecd04645-c4ea-4a63-fd89-980b408080d0"
      },
      "execution_count": null,
      "outputs": [
        {
          "output_type": "display_data",
          "data": {
            "text/plain": [
              "<IPython.core.display.HTML object>"
            ],
            "text/html": [
              "\n",
              "            <style>\n",
              "                .geemap-dark {\n",
              "                    --jp-widgets-color: white;\n",
              "                    --jp-widgets-label-color: white;\n",
              "                    --jp-ui-font-color1: white;\n",
              "                    --jp-layout-color2: #454545;\n",
              "                    background-color: #383838;\n",
              "                }\n",
              "\n",
              "                .geemap-dark .jupyter-button {\n",
              "                    --jp-layout-color3: #383838;\n",
              "                }\n",
              "\n",
              "                .geemap-colab {\n",
              "                    background-color: var(--colab-primary-surface-color, white);\n",
              "                }\n",
              "\n",
              "                .geemap-colab .jupyter-button {\n",
              "                    --jp-layout-color3: var(--colab-primary-surface-color, white);\n",
              "                }\n",
              "            </style>\n",
              "            "
            ]
          },
          "metadata": {}
        },
        {
          "output_type": "display_data",
          "data": {
            "text/plain": [
              "<Figure size 1000x600 with 1 Axes>"
            ],
            "image/png": "[encoded data removed]"
          },
          "metadata": {}
        }
      ]
    },
    {
      "cell_type": "markdown",
      "source": [
        "# Modelling"
      ],
      "metadata": {
        "id": "copaQnATeJcW"
      }
    },
    {
      "cell_type": "markdown",
      "source": [
        "## Data Preparation"
      ],
      "metadata": {
        "id": "pXB2Nh9aU7wG"
      }
    },
    {
      "cell_type": "code",
      "source": [
        "import numpy as np\n",
        "import pandas as pd\n",
        "from sklearn.model_selection import train_test_split\n",
        "from sklearn.preprocessing import StandardScaler\n",
        "from sklearn.metrics import mean_squared_error\n",
        "from tensorflow.keras.models import Sequential\n",
        "from tensorflow.keras.layers import Dense, LSTM, MultiHeadAttention, Input, Dropout, Flatten\n",
        "from xgboost import XGBRegressor\n",
        "\n",
        "bands = ['sm_surface', 'sm_rootzone', 'sm_profile', 'sm_surface_wetness', 'sm_rootzone_wetness', 'sm_profile_wetness', 'surface_temp',\n",
        "          'soil_temp_layer1', 'soil_temp_layer2', 'soil_temp_layer3', 'soil_temp_layer4', 'soil_temp_layer5', 'soil_temp_layer6']\n",
        "\n",
        "# Prepare features and target\n",
        "X = merged_df_all[bands].values\n",
        "y = merged_df_all['SOIL_MOISTURE_percent'].values\n",
        "\n",
        "# Split into training and testing sets\n",
        "X_train, X_test, y_train, y_test = train_test_split(X, y, test_size=0.2, random_state=42)\n",
        "\n",
        "# Scale features\n",
        "scaler = StandardScaler()\n",
        "X_train_scaled = scaler.fit_transform(X_train)\n",
        "X_test_scaled = scaler.transform(X_test)\n"
      ],
      "metadata": {
        "colab": {
          "base_uri": "https://localhost:8080/",
          "height": 17
        },
        "id": "Pm-F30YWQloT",
        "outputId": "a9d95f23-273c-4d00-e5cb-c731505094ea"
      },
      "execution_count": null,
      "outputs": [
        {
          "output_type": "display_data",
          "data": {
            "text/plain": [
              "<IPython.core.display.HTML object>"
            ],
            "text/html": [
              "\n",
              "            <style>\n",
              "                .geemap-dark {\n",
              "                    --jp-widgets-color: white;\n",
              "                    --jp-widgets-label-color: white;\n",
              "                    --jp-ui-font-color1: white;\n",
              "                    --jp-layout-color2: #454545;\n",
              "                    background-color: #383838;\n",
              "                }\n",
              "\n",
              "                .geemap-dark .jupyter-button {\n",
              "                    --jp-layout-color3: #383838;\n",
              "                }\n",
              "\n",
              "                .geemap-colab {\n",
              "                    background-color: var(--colab-primary-surface-color, white);\n",
              "                }\n",
              "\n",
              "                .geemap-colab .jupyter-button {\n",
              "                    --jp-layout-color3: var(--colab-primary-surface-color, white);\n",
              "                }\n",
              "            </style>\n",
              "            "
            ]
          },
          "metadata": {}
        }
      ]
    },
    {
      "cell_type": "markdown",
      "source": [
        "## Transformer Model with MultiHeadAttention"
      ],
      "metadata": {
        "id": "lLCf02NyU-Il"
      }
    },
    {
      "cell_type": "code",
      "source": [
        "# import tensorflow as tf\n",
        "\n",
        "# # Define Transformer model\n",
        "# def build_transformer_model(input_shape):\n",
        "#     inputs = Input(shape=input_shape)\n",
        "#     x = Dense(64, activation='relu')(inputs)\n",
        "#     x = Dropout(0.2)(x)\n",
        "#     x = MultiHeadAttention(num_heads=2, key_dim=64)(x, x)\n",
        "#     x = Flatten()(x)\n",
        "#     x = Dense(32, activation='relu')(x)\n",
        "#     outputs = Dense(1)(x)\n",
        "\n",
        "#     model = tf.keras.models.Model(inputs=inputs, outputs=outputs)\n",
        "#     model.compile(optimizer='adam', loss='mean_squared_error')\n",
        "#     return model\n",
        "\n",
        "# # Reshape data for transformer model\n",
        "# X_train_reshaped = X_train_scaled.reshape((X_train_scaled.shape[0], 1, X_train_scaled.shape[1]))\n",
        "# X_test_reshaped = X_test_scaled.reshape((X_test_scaled.shape[0], 1, X_test_scaled.shape[1]))\n",
        "\n",
        "# transformer_model = build_transformer_model((1, X_train_scaled.shape[1]))\n",
        "# callback = tf.keras.callbacks.EarlyStopping(monitor='val_loss', patience=20)\n",
        "# transformer_model.fit(X_train_reshaped, y_train, epochs=200, batch_size=32, validation_split=0.2, callbacks=[callback])\n"
      ],
      "metadata": {
        "colab": {
          "base_uri": "https://localhost:8080/",
          "height": 1000
        },
        "id": "KHjO6DcIU0nt",
        "outputId": "619120df-4c3a-4fc9-b929-18c83dd65db5"
      },
      "execution_count": null,
      "outputs": [
        {
          "output_type": "display_data",
          "data": {
            "text/plain": [
              "<IPython.core.display.HTML object>"
            ],
            "text/html": [
              "\n",
              "            <style>\n",
              "                .geemap-dark {\n",
              "                    --jp-widgets-color: white;\n",
              "                    --jp-widgets-label-color: white;\n",
              "                    --jp-ui-font-color1: white;\n",
              "                    --jp-layout-color2: #454545;\n",
              "                    background-color: #383838;\n",
              "                }\n",
              "\n",
              "                .geemap-dark .jupyter-button {\n",
              "                    --jp-layout-color3: #383838;\n",
              "                }\n",
              "\n",
              "                .geemap-colab {\n",
              "                    background-color: var(--colab-primary-surface-color, white);\n",
              "                }\n",
              "\n",
              "                .geemap-colab .jupyter-button {\n",
              "                    --jp-layout-color3: var(--colab-primary-surface-color, white);\n",
              "                }\n",
              "            </style>\n",
              "            "
            ]
          },
          "metadata": {}
        },
        {
          "output_type": "stream",
          "name": "stdout",
          "text": [
            "Epoch 1/200\n"
          ]
        },
        {
          "output_type": "stream",
          "name": "stderr",
          "text": [
            "/usr/local/lib/python3.10/dist-packages/keras/src/ops/nn.py:545: UserWarning: You are using a softmax over axis 3 of a tensor of shape (None, 2, 1, 1). This axis has size 1. The softmax operation will always return the value 1, which is likely not what you intended. Did you mean to use a sigmoid instead?\n",
            "  warnings.warn(\n"
          ]
        },
        {
          "output_type": "stream",
          "name": "stdout",
          "text": [
            "\u001b[1m356/356\u001b[0m \u001b[32m━━━━━━━━━━━━━━━━━━━━\u001b[0m\u001b[37m\u001b[0m \u001b[1m8s\u001b[0m 11ms/step - loss: 0.0106 - val_loss: 0.0045\n",
            "Epoch 2/200\n",
            "\u001b[1m356/356\u001b[0m \u001b[32m━━━━━━━━━━━━━━━━━━━━\u001b[0m\u001b[37m\u001b[0m \u001b[1m3s\u001b[0m 6ms/step - loss: 0.0050 - val_loss: 0.0036\n",
            "Epoch 3/200\n",
            "\u001b[1m356/356\u001b[0m \u001b[32m━━━━━━━━━━━━━━━━━━━━\u001b[0m\u001b[37m\u001b[0m \u001b[1m4s\u001b[0m 11ms/step - loss: 0.0043 - val_loss: 0.0031\n",
            "Epoch 4/200\n",
            "\u001b[1m356/356\u001b[0m \u001b[32m━━━━━━━━━━━━━━━━━━━━\u001b[0m\u001b[37m\u001b[0m \u001b[1m4s\u001b[0m 12ms/step - loss: 0.0040 - val_loss: 0.0040\n",
            "Epoch 5/200\n",
            "\u001b[1m356/356\u001b[0m \u001b[32m━━━━━━━━━━━━━━━━━━━━\u001b[0m\u001b[37m\u001b[0m \u001b[1m6s\u001b[0m 18ms/step - loss: 0.0041 - val_loss: 0.0030\n",
            "Epoch 6/200\n",
            "\u001b[1m356/356\u001b[0m \u001b[32m━━━━━━━━━━━━━━━━━━━━\u001b[0m\u001b[37m\u001b[0m \u001b[1m3s\u001b[0m 7ms/step - loss: 0.0038 - val_loss: 0.0029\n",
            "Epoch 7/200\n",
            "\u001b[1m356/356\u001b[0m \u001b[32m━━━━━━━━━━━━━━━━━━━━\u001b[0m\u001b[37m\u001b[0m \u001b[1m4s\u001b[0m 5ms/step - loss: 0.0036 - val_loss: 0.0028\n",
            "Epoch 8/200\n",
            "\u001b[1m356/356\u001b[0m \u001b[32m━━━━━━━━━━━━━━━━━━━━\u001b[0m\u001b[37m\u001b[0m \u001b[1m3s\u001b[0m 7ms/step - loss: 0.0036 - val_loss: 0.0030\n",
            "Epoch 9/200\n",
            "\u001b[1m356/356\u001b[0m \u001b[32m━━━━━━━━━━━━━━━━━━━━\u001b[0m\u001b[37m\u001b[0m \u001b[1m6s\u001b[0m 9ms/step - loss: 0.0034 - val_loss: 0.0028\n",
            "Epoch 10/200\n",
            "\u001b[1m356/356\u001b[0m \u001b[32m━━━━━━━━━━━━━━━━━━━━\u001b[0m\u001b[37m\u001b[0m \u001b[1m6s\u001b[0m 10ms/step - loss: 0.0034 - val_loss: 0.0030\n",
            "Epoch 11/200\n",
            "\u001b[1m356/356\u001b[0m \u001b[32m━━━━━━━━━━━━━━━━━━━━\u001b[0m\u001b[37m\u001b[0m \u001b[1m3s\u001b[0m 8ms/step - loss: 0.0035 - val_loss: 0.0028\n",
            "Epoch 12/200\n",
            "\u001b[1m356/356\u001b[0m \u001b[32m━━━━━━━━━━━━━━━━━━━━\u001b[0m\u001b[37m\u001b[0m \u001b[1m5s\u001b[0m 13ms/step - loss: 0.0032 - val_loss: 0.0028\n",
            "Epoch 13/200\n",
            "\u001b[1m356/356\u001b[0m \u001b[32m━━━━━━━━━━━━━━━━━━━━\u001b[0m\u001b[37m\u001b[0m \u001b[1m3s\u001b[0m 6ms/step - loss: 0.0033 - val_loss: 0.0028\n",
            "Epoch 14/200\n",
            "\u001b[1m356/356\u001b[0m \u001b[32m━━━━━━━━━━━━━━━━━━━━\u001b[0m\u001b[37m\u001b[0m \u001b[1m2s\u001b[0m 5ms/step - loss: 0.0033 - val_loss: 0.0029\n",
            "Epoch 15/200\n",
            "\u001b[1m356/356\u001b[0m \u001b[32m━━━━━━━━━━━━━━━━━━━━\u001b[0m\u001b[37m\u001b[0m \u001b[1m2s\u001b[0m 6ms/step - loss: 0.0034 - val_loss: 0.0027\n",
            "Epoch 16/200\n",
            "\u001b[1m356/356\u001b[0m \u001b[32m━━━━━━━━━━━━━━━━━━━━\u001b[0m\u001b[37m\u001b[0m \u001b[1m3s\u001b[0m 6ms/step - loss: 0.0033 - val_loss: 0.0028\n",
            "Epoch 17/200\n",
            "\u001b[1m356/356\u001b[0m \u001b[32m━━━━━━━━━━━━━━━━━━━━\u001b[0m\u001b[37m\u001b[0m \u001b[1m4s\u001b[0m 10ms/step - loss: 0.0034 - val_loss: 0.0029\n",
            "Epoch 18/200\n",
            "\u001b[1m356/356\u001b[0m \u001b[32m━━━━━━━━━━━━━━━━━━━━\u001b[0m\u001b[37m\u001b[0m \u001b[1m3s\u001b[0m 8ms/step - loss: 0.0033 - val_loss: 0.0031\n",
            "Epoch 19/200\n",
            "\u001b[1m356/356\u001b[0m \u001b[32m━━━━━━━━━━━━━━━━━━━━\u001b[0m\u001b[37m\u001b[0m \u001b[1m4s\u001b[0m 6ms/step - loss: 0.0033 - val_loss: 0.0035\n",
            "Epoch 20/200\n",
            "\u001b[1m356/356\u001b[0m \u001b[32m━━━━━━━━━━━━━━━━━━━━\u001b[0m\u001b[37m\u001b[0m \u001b[1m3s\u001b[0m 6ms/step - loss: 0.0030 - val_loss: 0.0026\n",
            "Epoch 21/200\n",
            "\u001b[1m356/356\u001b[0m \u001b[32m━━━━━━━━━━━━━━━━━━━━\u001b[0m\u001b[37m\u001b[0m \u001b[1m3s\u001b[0m 6ms/step - loss: 0.0033 - val_loss: 0.0027\n",
            "Epoch 22/200\n",
            "\u001b[1m356/356\u001b[0m \u001b[32m━━━━━━━━━━━━━━━━━━━━\u001b[0m\u001b[37m\u001b[0m \u001b[1m4s\u001b[0m 10ms/step - loss: 0.0031 - val_loss: 0.0028\n",
            "Epoch 23/200\n",
            "\u001b[1m356/356\u001b[0m \u001b[32m━━━━━━━━━━━━━━━━━━━━\u001b[0m\u001b[37m\u001b[0m \u001b[1m2s\u001b[0m 7ms/step - loss: 0.0031 - val_loss: 0.0028\n",
            "Epoch 24/200\n",
            "\u001b[1m356/356\u001b[0m \u001b[32m━━━━━━━━━━━━━━━━━━━━\u001b[0m\u001b[37m\u001b[0m \u001b[1m2s\u001b[0m 6ms/step - loss: 0.0030 - val_loss: 0.0026\n",
            "Epoch 25/200\n",
            "\u001b[1m356/356\u001b[0m \u001b[32m━━━━━━━━━━━━━━━━━━━━\u001b[0m\u001b[37m\u001b[0m \u001b[1m2s\u001b[0m 6ms/step - loss: 0.0032 - val_loss: 0.0030\n",
            "Epoch 26/200\n",
            "\u001b[1m356/356\u001b[0m \u001b[32m━━━━━━━━━━━━━━━━━━━━\u001b[0m\u001b[37m\u001b[0m \u001b[1m2s\u001b[0m 6ms/step - loss: 0.0033 - val_loss: 0.0026\n",
            "Epoch 27/200\n",
            "\u001b[1m356/356\u001b[0m \u001b[32m━━━━━━━━━━━━━━━━━━━━\u001b[0m\u001b[37m\u001b[0m \u001b[1m3s\u001b[0m 7ms/step - loss: 0.0030 - val_loss: 0.0027\n",
            "Epoch 28/200\n",
            "\u001b[1m356/356\u001b[0m \u001b[32m━━━━━━━━━━━━━━━━━━━━\u001b[0m\u001b[37m\u001b[0m \u001b[1m4s\u001b[0m 10ms/step - loss: 0.0030 - val_loss: 0.0026\n",
            "Epoch 29/200\n",
            "\u001b[1m356/356\u001b[0m \u001b[32m━━━━━━━━━━━━━━━━━━━━\u001b[0m\u001b[37m\u001b[0m \u001b[1m4s\u001b[0m 6ms/step - loss: 0.0031 - val_loss: 0.0028\n",
            "Epoch 30/200\n",
            "\u001b[1m356/356\u001b[0m \u001b[32m━━━━━━━━━━━━━━━━━━━━\u001b[0m\u001b[37m\u001b[0m \u001b[1m2s\u001b[0m 5ms/step - loss: 0.0031 - val_loss: 0.0027\n",
            "Epoch 31/200\n",
            "\u001b[1m356/356\u001b[0m \u001b[32m━━━━━━━━━━━━━━━━━━━━\u001b[0m\u001b[37m\u001b[0m \u001b[1m2s\u001b[0m 6ms/step - loss: 0.0030 - val_loss: 0.0028\n",
            "Epoch 32/200\n",
            "\u001b[1m356/356\u001b[0m \u001b[32m━━━━━━━━━━━━━━━━━━━━\u001b[0m\u001b[37m\u001b[0m \u001b[1m3s\u001b[0m 6ms/step - loss: 0.0031 - val_loss: 0.0027\n",
            "Epoch 33/200\n",
            "\u001b[1m356/356\u001b[0m \u001b[32m━━━━━━━━━━━━━━━━━━━━\u001b[0m\u001b[37m\u001b[0m \u001b[1m4s\u001b[0m 10ms/step - loss: 0.0031 - val_loss: 0.0027\n",
            "Epoch 34/200\n",
            "\u001b[1m356/356\u001b[0m \u001b[32m━━━━━━━━━━━━━━━━━━━━\u001b[0m\u001b[37m\u001b[0m \u001b[1m4s\u001b[0m 6ms/step - loss: 0.0030 - val_loss: 0.0027\n",
            "Epoch 35/200\n",
            "\u001b[1m356/356\u001b[0m \u001b[32m━━━━━━━━━━━━━━━━━━━━\u001b[0m\u001b[37m\u001b[0m \u001b[1m2s\u001b[0m 6ms/step - loss: 0.0030 - val_loss: 0.0029\n",
            "Epoch 36/200\n",
            "\u001b[1m356/356\u001b[0m \u001b[32m━━━━━━━━━━━━━━━━━━━━\u001b[0m\u001b[37m\u001b[0m \u001b[1m2s\u001b[0m 6ms/step - loss: 0.0032 - val_loss: 0.0024\n",
            "Epoch 37/200\n",
            "\u001b[1m356/356\u001b[0m \u001b[32m━━━━━━━━━━━━━━━━━━━━\u001b[0m\u001b[37m\u001b[0m \u001b[1m3s\u001b[0m 6ms/step - loss: 0.0029 - val_loss: 0.0027\n",
            "Epoch 38/200\n",
            "\u001b[1m356/356\u001b[0m \u001b[32m━━━━━━━━━━━━━━━━━━━━\u001b[0m\u001b[37m\u001b[0m \u001b[1m4s\u001b[0m 11ms/step - loss: 0.0030 - val_loss: 0.0027\n",
            "Epoch 39/200\n",
            "\u001b[1m356/356\u001b[0m \u001b[32m━━━━━━━━━━━━━━━━━━━━\u001b[0m\u001b[37m\u001b[0m \u001b[1m2s\u001b[0m 6ms/step - loss: 0.0032 - val_loss: 0.0030\n",
            "Epoch 40/200\n",
            "\u001b[1m356/356\u001b[0m \u001b[32m━━━━━━━━━━━━━━━━━━━━\u001b[0m\u001b[37m\u001b[0m \u001b[1m2s\u001b[0m 5ms/step - loss: 0.0030 - val_loss: 0.0026\n",
            "Epoch 41/200\n",
            "\u001b[1m356/356\u001b[0m \u001b[32m━━━━━━━━━━━━━━━━━━━━\u001b[0m\u001b[37m\u001b[0m \u001b[1m3s\u001b[0m 6ms/step - loss: 0.0030 - val_loss: 0.0027\n",
            "Epoch 42/200\n",
            "\u001b[1m356/356\u001b[0m \u001b[32m━━━━━━━━━━━━━━━━━━━━\u001b[0m\u001b[37m\u001b[0m \u001b[1m3s\u001b[0m 6ms/step - loss: 0.0029 - val_loss: 0.0027\n",
            "Epoch 43/200\n",
            "\u001b[1m356/356\u001b[0m \u001b[32m━━━━━━━━━━━━━━━━━━━━\u001b[0m\u001b[37m\u001b[0m \u001b[1m4s\u001b[0m 11ms/step - loss: 0.0030 - val_loss: 0.0026\n",
            "Epoch 44/200\n",
            "\u001b[1m356/356\u001b[0m \u001b[32m━━━━━━━━━━━━━━━━━━━━\u001b[0m\u001b[37m\u001b[0m \u001b[1m3s\u001b[0m 8ms/step - loss: 0.0029 - val_loss: 0.0025\n",
            "Epoch 45/200\n",
            "\u001b[1m356/356\u001b[0m \u001b[32m━━━━━━━━━━━━━━━━━━━━\u001b[0m\u001b[37m\u001b[0m \u001b[1m5s\u001b[0m 6ms/step - loss: 0.0029 - val_loss: 0.0024\n",
            "Epoch 46/200\n",
            "\u001b[1m356/356\u001b[0m \u001b[32m━━━━━━━━━━━━━━━━━━━━\u001b[0m\u001b[37m\u001b[0m \u001b[1m2s\u001b[0m 6ms/step - loss: 0.0029 - val_loss: 0.0025\n",
            "Epoch 47/200\n",
            "\u001b[1m356/356\u001b[0m \u001b[32m━━━━━━━━━━━━━━━━━━━━\u001b[0m\u001b[37m\u001b[0m \u001b[1m2s\u001b[0m 7ms/step - loss: 0.0028 - val_loss: 0.0025\n",
            "Epoch 48/200\n",
            "\u001b[1m356/356\u001b[0m \u001b[32m━━━━━━━━━━━━━━━━━━━━\u001b[0m\u001b[37m\u001b[0m \u001b[1m4s\u001b[0m 11ms/step - loss: 0.0031 - val_loss: 0.0027\n",
            "Epoch 49/200\n",
            "\u001b[1m356/356\u001b[0m \u001b[32m━━━━━━━━━━━━━━━━━━━━\u001b[0m\u001b[37m\u001b[0m \u001b[1m2s\u001b[0m 6ms/step - loss: 0.0030 - val_loss: 0.0026\n",
            "Epoch 50/200\n",
            "\u001b[1m356/356\u001b[0m \u001b[32m━━━━━━━━━━━━━━━━━━━━\u001b[0m\u001b[37m\u001b[0m \u001b[1m2s\u001b[0m 6ms/step - loss: 0.0028 - val_loss: 0.0025\n",
            "Epoch 51/200\n",
            "\u001b[1m356/356\u001b[0m \u001b[32m━━━━━━━━━━━━━━━━━━━━\u001b[0m\u001b[37m\u001b[0m \u001b[1m3s\u001b[0m 6ms/step - loss: 0.0030 - val_loss: 0.0025\n",
            "Epoch 52/200\n",
            "\u001b[1m356/356\u001b[0m \u001b[32m━━━━━━━━━━━━━━━━━━━━\u001b[0m\u001b[37m\u001b[0m \u001b[1m2s\u001b[0m 6ms/step - loss: 0.0029 - val_loss: 0.0024\n",
            "Epoch 53/200\n",
            "\u001b[1m356/356\u001b[0m \u001b[32m━━━━━━━━━━━━━━━━━━━━\u001b[0m\u001b[37m\u001b[0m \u001b[1m3s\u001b[0m 9ms/step - loss: 0.0028 - val_loss: 0.0025\n",
            "Epoch 54/200\n",
            "\u001b[1m356/356\u001b[0m \u001b[32m━━━━━━━━━━━━━━━━━━━━\u001b[0m\u001b[37m\u001b[0m \u001b[1m3s\u001b[0m 9ms/step - loss: 0.0028 - val_loss: 0.0025\n",
            "Epoch 55/200\n",
            "\u001b[1m356/356\u001b[0m \u001b[32m━━━━━━━━━━━━━━━━━━━━\u001b[0m\u001b[37m\u001b[0m \u001b[1m4s\u001b[0m 6ms/step - loss: 0.0028 - val_loss: 0.0026\n",
            "Epoch 56/200\n",
            "\u001b[1m356/356\u001b[0m \u001b[32m━━━━━━━━━━━━━━━━━━━━\u001b[0m\u001b[37m\u001b[0m \u001b[1m3s\u001b[0m 7ms/step - loss: 0.0029 - val_loss: 0.0024\n",
            "Epoch 57/200\n",
            "\u001b[1m356/356\u001b[0m \u001b[32m━━━━━━━━━━━━━━━━━━━━\u001b[0m\u001b[37m\u001b[0m \u001b[1m3s\u001b[0m 8ms/step - loss: 0.0030 - val_loss: 0.0026\n",
            "Epoch 58/200\n",
            "\u001b[1m356/356\u001b[0m \u001b[32m━━━━━━━━━━━━━━━━━━━━\u001b[0m\u001b[37m\u001b[0m \u001b[1m4s\u001b[0m 11ms/step - loss: 0.0028 - val_loss: 0.0026\n",
            "Epoch 59/200\n",
            "\u001b[1m356/356\u001b[0m \u001b[32m━━━━━━━━━━━━━━━━━━━━\u001b[0m\u001b[37m\u001b[0m \u001b[1m2s\u001b[0m 7ms/step - loss: 0.0031 - val_loss: 0.0024\n",
            "Epoch 60/200\n",
            "\u001b[1m356/356\u001b[0m \u001b[32m━━━━━━━━━━━━━━━━━━━━\u001b[0m\u001b[37m\u001b[0m \u001b[1m2s\u001b[0m 6ms/step - loss: 0.0027 - val_loss: 0.0025\n",
            "Epoch 61/200\n",
            "\u001b[1m356/356\u001b[0m \u001b[32m━━━━━━━━━━━━━━━━━━━━\u001b[0m\u001b[37m\u001b[0m \u001b[1m2s\u001b[0m 7ms/step - loss: 0.0029 - val_loss: 0.0026\n",
            "Epoch 62/200\n",
            "\u001b[1m356/356\u001b[0m \u001b[32m━━━━━━━━━━━━━━━━━━━━\u001b[0m\u001b[37m\u001b[0m \u001b[1m2s\u001b[0m 7ms/step - loss: 0.0028 - val_loss: 0.0025\n",
            "Epoch 63/200\n",
            "\u001b[1m356/356\u001b[0m \u001b[32m━━━━━━━━━━━━━━━━━━━━\u001b[0m\u001b[37m\u001b[0m \u001b[1m3s\u001b[0m 10ms/step - loss: 0.0030 - val_loss: 0.0024\n",
            "Epoch 64/200\n",
            "\u001b[1m356/356\u001b[0m \u001b[32m━━━━━━━━━━━━━━━━━━━━\u001b[0m\u001b[37m\u001b[0m \u001b[1m4s\u001b[0m 6ms/step - loss: 0.0028 - val_loss: 0.0027\n",
            "Epoch 65/200\n",
            "\u001b[1m356/356\u001b[0m \u001b[32m━━━━━━━━━━━━━━━━━━━━\u001b[0m\u001b[37m\u001b[0m \u001b[1m2s\u001b[0m 7ms/step - loss: 0.0030 - val_loss: 0.0025\n",
            "Epoch 66/200\n",
            "\u001b[1m356/356\u001b[0m \u001b[32m━━━━━━━━━━━━━━━━━━━━\u001b[0m\u001b[37m\u001b[0m \u001b[1m2s\u001b[0m 7ms/step - loss: 0.0027 - val_loss: 0.0024\n",
            "Epoch 67/200\n",
            "\u001b[1m356/356\u001b[0m \u001b[32m━━━━━━━━━━━━━━━━━━━━\u001b[0m\u001b[37m\u001b[0m \u001b[1m2s\u001b[0m 7ms/step - loss: 0.0028 - val_loss: 0.0028\n",
            "Epoch 68/200\n",
            "\u001b[1m356/356\u001b[0m \u001b[32m━━━━━━━━━━━━━━━━━━━━\u001b[0m\u001b[37m\u001b[0m \u001b[1m4s\u001b[0m 11ms/step - loss: 0.0028 - val_loss: 0.0025\n",
            "Epoch 69/200\n",
            "\u001b[1m356/356\u001b[0m \u001b[32m━━━━━━━━━━━━━━━━━━━━\u001b[0m\u001b[37m\u001b[0m \u001b[1m4s\u001b[0m 6ms/step - loss: 0.0029 - val_loss: 0.0024\n",
            "Epoch 70/200\n",
            "\u001b[1m356/356\u001b[0m \u001b[32m━━━━━━━━━━━━━━━━━━━━\u001b[0m\u001b[37m\u001b[0m \u001b[1m2s\u001b[0m 6ms/step - loss: 0.0029 - val_loss: 0.0024\n",
            "Epoch 71/200\n",
            "\u001b[1m356/356\u001b[0m \u001b[32m━━━━━━━━━━━━━━━━━━━━\u001b[0m\u001b[37m\u001b[0m \u001b[1m2s\u001b[0m 6ms/step - loss: 0.0029 - val_loss: 0.0025\n",
            "Epoch 72/200\n",
            "\u001b[1m356/356\u001b[0m \u001b[32m━━━━━━━━━━━━━━━━━━━━\u001b[0m\u001b[37m\u001b[0m \u001b[1m3s\u001b[0m 7ms/step - loss: 0.0027 - val_loss: 0.0025\n"
          ]
        },
        {
          "output_type": "execute_result",
          "data": {
            "text/plain": [
              "<keras.src.callbacks.history.History at 0x7bad4c1f7820>"
            ]
          },
          "metadata": {},
          "execution_count": 76
        }
      ]
    },
    {
      "cell_type": "markdown",
      "source": [
        "## LSTM Model"
      ],
      "metadata": {
        "id": "zjd-tJBwVHwh"
      }
    },
    {
      "cell_type": "code",
      "source": [
        "# # Define LSTM model\n",
        "# def build_lstm_model(input_shape):\n",
        "#     model = Sequential()\n",
        "#     model.add(LSTM(64, input_shape=input_shape, return_sequences=True))\n",
        "#     model.add(Dropout(0.2))\n",
        "#     model.add(Flatten())\n",
        "#     model.add(Dense(32, activation='relu'))\n",
        "#     model.add(Dense(1))\n",
        "#     model.compile(optimizer='adam', loss='mean_squared_error')\n",
        "#     return model\n",
        "\n",
        "# # Reshape data for LSTM model\n",
        "# X_train_lstm = X_train_scaled.reshape((X_train_scaled.shape[0], 1, X_train_scaled.shape[1]))\n",
        "# X_test_lstm = X_test_scaled.reshape((X_test_scaled.shape[0], 1, X_test_scaled.shape[1]))\n",
        "\n",
        "# lstm_model = build_lstm_model((1, X_train_scaled.shape[1]))\n",
        "# callback = tf.keras.callbacks.EarlyStopping(monitor='val_loss', patience=20)\n",
        "# lstm_model.fit(X_train_lstm, y_train, epochs=200, batch_size=32, validation_split=0.2, callbacks=[callback])\n"
      ],
      "metadata": {
        "colab": {
          "base_uri": "https://localhost:8080/",
          "height": 1000
        },
        "id": "hlL6LB7MVIiW",
        "outputId": "52904da7-c2ba-463a-b201-4130ced8a66b"
      },
      "execution_count": null,
      "outputs": [
        {
          "output_type": "display_data",
          "data": {
            "text/plain": [
              "<IPython.core.display.HTML object>"
            ],
            "text/html": [
              "\n",
              "            <style>\n",
              "                .geemap-dark {\n",
              "                    --jp-widgets-color: white;\n",
              "                    --jp-widgets-label-color: white;\n",
              "                    --jp-ui-font-color1: white;\n",
              "                    --jp-layout-color2: #454545;\n",
              "                    background-color: #383838;\n",
              "                }\n",
              "\n",
              "                .geemap-dark .jupyter-button {\n",
              "                    --jp-layout-color3: #383838;\n",
              "                }\n",
              "\n",
              "                .geemap-colab {\n",
              "                    background-color: var(--colab-primary-surface-color, white);\n",
              "                }\n",
              "\n",
              "                .geemap-colab .jupyter-button {\n",
              "                    --jp-layout-color3: var(--colab-primary-surface-color, white);\n",
              "                }\n",
              "            </style>\n",
              "            "
            ]
          },
          "metadata": {}
        },
        {
          "output_type": "stream",
          "name": "stderr",
          "text": [
            "/usr/local/lib/python3.10/dist-packages/keras/src/layers/rnn/rnn.py:204: UserWarning: Do not pass an `input_shape`/`input_dim` argument to a layer. When using Sequential models, prefer using an `Input(shape)` object as the first layer in the model instead.\n",
            "  super().__init__(**kwargs)\n"
          ]
        },
        {
          "output_type": "stream",
          "name": "stdout",
          "text": [
            "Epoch 1/200\n",
            "\u001b[1m356/356\u001b[0m \u001b[32m━━━━━━━━━━━━━━━━━━━━\u001b[0m\u001b[37m\u001b[0m \u001b[1m5s\u001b[0m 5ms/step - loss: 0.0192 - val_loss: 0.0049\n",
            "Epoch 2/200\n",
            "\u001b[1m356/356\u001b[0m \u001b[32m━━━━━━━━━━━━━━━━━━━━\u001b[0m\u001b[37m\u001b[0m \u001b[1m2s\u001b[0m 4ms/step - loss: 0.0056 - val_loss: 0.0041\n",
            "Epoch 3/200\n",
            "\u001b[1m356/356\u001b[0m \u001b[32m━━━━━━━━━━━━━━━━━━━━\u001b[0m\u001b[37m\u001b[0m \u001b[1m2s\u001b[0m 4ms/step - loss: 0.0048 - val_loss: 0.0044\n",
            "Epoch 4/200\n",
            "\u001b[1m356/356\u001b[0m \u001b[32m━━━━━━━━━━━━━━━━━━━━\u001b[0m\u001b[37m\u001b[0m \u001b[1m3s\u001b[0m 4ms/step - loss: 0.0043 - val_loss: 0.0036\n",
            "Epoch 5/200\n",
            "\u001b[1m356/356\u001b[0m \u001b[32m━━━━━━━━━━━━━━━━━━━━\u001b[0m\u001b[37m\u001b[0m \u001b[1m3s\u001b[0m 5ms/step - loss: 0.0042 - val_loss: 0.0034\n",
            "Epoch 6/200\n",
            "\u001b[1m356/356\u001b[0m \u001b[32m━━━━━━━━━━━━━━━━━━━━\u001b[0m\u001b[37m\u001b[0m \u001b[1m2s\u001b[0m 6ms/step - loss: 0.0042 - val_loss: 0.0034\n",
            "Epoch 7/200\n",
            "\u001b[1m356/356\u001b[0m \u001b[32m━━━━━━━━━━━━━━━━━━━━\u001b[0m\u001b[37m\u001b[0m \u001b[1m2s\u001b[0m 4ms/step - loss: 0.0038 - val_loss: 0.0033\n",
            "Epoch 8/200\n",
            "\u001b[1m356/356\u001b[0m \u001b[32m━━━━━━━━━━━━━━━━━━━━\u001b[0m\u001b[37m\u001b[0m \u001b[1m1s\u001b[0m 4ms/step - loss: 0.0036 - val_loss: 0.0032\n",
            "Epoch 9/200\n",
            "\u001b[1m356/356\u001b[0m \u001b[32m━━━━━━━━━━━━━━━━━━━━\u001b[0m\u001b[37m\u001b[0m \u001b[1m1s\u001b[0m 4ms/step - loss: 0.0038 - val_loss: 0.0033\n",
            "Epoch 10/200\n",
            "\u001b[1m356/356\u001b[0m \u001b[32m━━━━━━━━━━━━━━━━━━━━\u001b[0m\u001b[37m\u001b[0m \u001b[1m1s\u001b[0m 3ms/step - loss: 0.0036 - val_loss: 0.0031\n",
            "Epoch 11/200\n",
            "\u001b[1m356/356\u001b[0m \u001b[32m━━━━━━━━━━━━━━━━━━━━\u001b[0m\u001b[37m\u001b[0m \u001b[1m1s\u001b[0m 4ms/step - loss: 0.0035 - val_loss: 0.0032\n",
            "Epoch 12/200\n",
            "\u001b[1m356/356\u001b[0m \u001b[32m━━━━━━━━━━━━━━━━━━━━\u001b[0m\u001b[37m\u001b[0m \u001b[1m1s\u001b[0m 3ms/step - loss: 0.0035 - val_loss: 0.0031\n",
            "Epoch 13/200\n",
            "\u001b[1m356/356\u001b[0m \u001b[32m━━━━━━━━━━━━━━━━━━━━\u001b[0m\u001b[37m\u001b[0m \u001b[1m1s\u001b[0m 3ms/step - loss: 0.0035 - val_loss: 0.0029\n",
            "Epoch 14/200\n",
            "\u001b[1m356/356\u001b[0m \u001b[32m━━━━━━━━━━━━━━━━━━━━\u001b[0m\u001b[37m\u001b[0m \u001b[1m1s\u001b[0m 4ms/step - loss: 0.0033 - val_loss: 0.0029\n",
            "Epoch 15/200\n",
            "\u001b[1m356/356\u001b[0m \u001b[32m━━━━━━━━━━━━━━━━━━━━\u001b[0m\u001b[37m\u001b[0m \u001b[1m3s\u001b[0m 6ms/step - loss: 0.0033 - val_loss: 0.0030\n",
            "Epoch 16/200\n",
            "\u001b[1m356/356\u001b[0m \u001b[32m━━━━━━━━━━━━━━━━━━━━\u001b[0m\u001b[37m\u001b[0m \u001b[1m1s\u001b[0m 4ms/step - loss: 0.0033 - val_loss: 0.0029\n",
            "Epoch 17/200\n",
            "\u001b[1m356/356\u001b[0m \u001b[32m━━━━━━━━━━━━━━━━━━━━\u001b[0m\u001b[37m\u001b[0m \u001b[1m2s\u001b[0m 3ms/step - loss: 0.0033 - val_loss: 0.0027\n",
            "Epoch 18/200\n",
            "\u001b[1m356/356\u001b[0m \u001b[32m━━━━━━━━━━━━━━━━━━━━\u001b[0m\u001b[37m\u001b[0m \u001b[1m1s\u001b[0m 3ms/step - loss: 0.0031 - val_loss: 0.0028\n",
            "Epoch 19/200\n",
            "\u001b[1m356/356\u001b[0m \u001b[32m━━━━━━━━━━━━━━━━━━━━\u001b[0m\u001b[37m\u001b[0m \u001b[1m1s\u001b[0m 3ms/step - loss: 0.0032 - val_loss: 0.0028\n",
            "Epoch 20/200\n",
            "\u001b[1m356/356\u001b[0m \u001b[32m━━━━━━━━━━━━━━━━━━━━\u001b[0m\u001b[37m\u001b[0m \u001b[1m2s\u001b[0m 6ms/step - loss: 0.0033 - val_loss: 0.0027\n",
            "Epoch 21/200\n",
            "\u001b[1m356/356\u001b[0m \u001b[32m━━━━━━━━━━━━━━━━━━━━\u001b[0m\u001b[37m\u001b[0m \u001b[1m2s\u001b[0m 7ms/step - loss: 0.0031 - val_loss: 0.0028\n",
            "Epoch 22/200\n",
            "\u001b[1m356/356\u001b[0m \u001b[32m━━━━━━━━━━━━━━━━━━━━\u001b[0m\u001b[37m\u001b[0m \u001b[1m3s\u001b[0m 9ms/step - loss: 0.0032 - val_loss: 0.0027\n",
            "Epoch 23/200\n",
            "\u001b[1m356/356\u001b[0m \u001b[32m━━━━━━━━━━━━━━━━━━━━\u001b[0m\u001b[37m\u001b[0m \u001b[1m5s\u001b[0m 8ms/step - loss: 0.0031 - val_loss: 0.0026\n",
            "Epoch 24/200\n",
            "\u001b[1m356/356\u001b[0m \u001b[32m━━━━━━━━━━━━━━━━━━━━\u001b[0m\u001b[37m\u001b[0m \u001b[1m4s\u001b[0m 4ms/step - loss: 0.0030 - val_loss: 0.0028\n",
            "Epoch 25/200\n",
            "\u001b[1m356/356\u001b[0m \u001b[32m━━━━━━━━━━━━━━━━━━━━\u001b[0m\u001b[37m\u001b[0m \u001b[1m1s\u001b[0m 4ms/step - loss: 0.0032 - val_loss: 0.0027\n",
            "Epoch 26/200\n",
            "\u001b[1m356/356\u001b[0m \u001b[32m━━━━━━━━━━━━━━━━━━━━\u001b[0m\u001b[37m\u001b[0m \u001b[1m1s\u001b[0m 3ms/step - loss: 0.0031 - val_loss: 0.0026\n",
            "Epoch 27/200\n",
            "\u001b[1m356/356\u001b[0m \u001b[32m━━━━━━━━━━━━━━━━━━━━\u001b[0m\u001b[37m\u001b[0m \u001b[1m1s\u001b[0m 4ms/step - loss: 0.0032 - val_loss: 0.0027\n",
            "Epoch 28/200\n",
            "\u001b[1m356/356\u001b[0m \u001b[32m━━━━━━━━━━━━━━━━━━━━\u001b[0m\u001b[37m\u001b[0m \u001b[1m3s\u001b[0m 6ms/step - loss: 0.0032 - val_loss: 0.0027\n",
            "Epoch 29/200\n",
            "\u001b[1m356/356\u001b[0m \u001b[32m━━━━━━━━━━━━━━━━━━━━\u001b[0m\u001b[37m\u001b[0m \u001b[1m2s\u001b[0m 4ms/step - loss: 0.0031 - val_loss: 0.0026\n",
            "Epoch 30/200\n",
            "\u001b[1m356/356\u001b[0m \u001b[32m━━━━━━━━━━━━━━━━━━━━\u001b[0m\u001b[37m\u001b[0m \u001b[1m1s\u001b[0m 4ms/step - loss: 0.0030 - val_loss: 0.0025\n",
            "Epoch 31/200\n",
            "\u001b[1m356/356\u001b[0m \u001b[32m━━━━━━━━━━━━━━━━━━━━\u001b[0m\u001b[37m\u001b[0m \u001b[1m2s\u001b[0m 4ms/step - loss: 0.0031 - val_loss: 0.0026\n",
            "Epoch 32/200\n",
            "\u001b[1m356/356\u001b[0m \u001b[32m━━━━━━━━━━━━━━━━━━━━\u001b[0m\u001b[37m\u001b[0m \u001b[1m1s\u001b[0m 4ms/step - loss: 0.0030 - val_loss: 0.0026\n",
            "Epoch 33/200\n",
            "\u001b[1m356/356\u001b[0m \u001b[32m━━━━━━━━━━━━━━━━━━━━\u001b[0m\u001b[37m\u001b[0m \u001b[1m3s\u001b[0m 4ms/step - loss: 0.0029 - val_loss: 0.0025\n",
            "Epoch 34/200\n",
            "\u001b[1m356/356\u001b[0m \u001b[32m━━━━━━━━━━━━━━━━━━━━\u001b[0m\u001b[37m\u001b[0m \u001b[1m4s\u001b[0m 7ms/step - loss: 0.0028 - val_loss: 0.0026\n",
            "Epoch 35/200\n",
            "\u001b[1m356/356\u001b[0m \u001b[32m━━━━━━━━━━━━━━━━━━━━\u001b[0m\u001b[37m\u001b[0m \u001b[1m2s\u001b[0m 6ms/step - loss: 0.0029 - val_loss: 0.0026\n",
            "Epoch 36/200\n",
            "\u001b[1m356/356\u001b[0m \u001b[32m━━━━━━━━━━━━━━━━━━━━\u001b[0m\u001b[37m\u001b[0m \u001b[1m2s\u001b[0m 4ms/step - loss: 0.0029 - val_loss: 0.0025\n",
            "Epoch 37/200\n",
            "\u001b[1m356/356\u001b[0m \u001b[32m━━━━━━━━━━━━━━━━━━━━\u001b[0m\u001b[37m\u001b[0m \u001b[1m2s\u001b[0m 3ms/step - loss: 0.0029 - val_loss: 0.0026\n",
            "Epoch 38/200\n",
            "\u001b[1m356/356\u001b[0m \u001b[32m━━━━━━━━━━━━━━━━━━━━\u001b[0m\u001b[37m\u001b[0m \u001b[1m1s\u001b[0m 4ms/step - loss: 0.0028 - val_loss: 0.0026\n",
            "Epoch 39/200\n",
            "\u001b[1m356/356\u001b[0m \u001b[32m━━━━━━━━━━━━━━━━━━━━\u001b[0m\u001b[37m\u001b[0m \u001b[1m2s\u001b[0m 3ms/step - loss: 0.0029 - val_loss: 0.0025\n",
            "Epoch 40/200\n",
            "\u001b[1m356/356\u001b[0m \u001b[32m━━━━━━━━━━━━━━━━━━━━\u001b[0m\u001b[37m\u001b[0m \u001b[1m1s\u001b[0m 4ms/step - loss: 0.0029 - val_loss: 0.0026\n",
            "Epoch 41/200\n",
            "\u001b[1m356/356\u001b[0m \u001b[32m━━━━━━━━━━━━━━━━━━━━\u001b[0m\u001b[37m\u001b[0m \u001b[1m3s\u001b[0m 5ms/step - loss: 0.0030 - val_loss: 0.0025\n",
            "Epoch 42/200\n",
            "\u001b[1m356/356\u001b[0m \u001b[32m━━━━━━━━━━━━━━━━━━━━\u001b[0m\u001b[37m\u001b[0m \u001b[1m3s\u001b[0m 5ms/step - loss: 0.0030 - val_loss: 0.0027\n",
            "Epoch 43/200\n",
            "\u001b[1m356/356\u001b[0m \u001b[32m━━━━━━━━━━━━━━━━━━━━\u001b[0m\u001b[37m\u001b[0m \u001b[1m2s\u001b[0m 3ms/step - loss: 0.0030 - val_loss: 0.0025\n",
            "Epoch 44/200\n",
            "\u001b[1m356/356\u001b[0m \u001b[32m━━━━━━━━━━━━━━━━━━━━\u001b[0m\u001b[37m\u001b[0m \u001b[1m1s\u001b[0m 3ms/step - loss: 0.0028 - val_loss: 0.0025\n",
            "Epoch 45/200\n",
            "\u001b[1m356/356\u001b[0m \u001b[32m━━━━━━━━━━━━━━━━━━━━\u001b[0m\u001b[37m\u001b[0m \u001b[1m1s\u001b[0m 4ms/step - loss: 0.0029 - val_loss: 0.0025\n",
            "Epoch 46/200\n",
            "\u001b[1m356/356\u001b[0m \u001b[32m━━━━━━━━━━━━━━━━━━━━\u001b[0m\u001b[37m\u001b[0m \u001b[1m1s\u001b[0m 4ms/step - loss: 0.0028 - val_loss: 0.0025\n",
            "Epoch 47/200\n",
            "\u001b[1m356/356\u001b[0m \u001b[32m━━━━━━━━━━━━━━━━━━━━\u001b[0m\u001b[37m\u001b[0m \u001b[1m1s\u001b[0m 4ms/step - loss: 0.0029 - val_loss: 0.0025\n",
            "Epoch 48/200\n",
            "\u001b[1m356/356\u001b[0m \u001b[32m━━━━━━━━━━━━━━━━━━━━\u001b[0m\u001b[37m\u001b[0m \u001b[1m1s\u001b[0m 4ms/step - loss: 0.0029 - val_loss: 0.0024\n",
            "Epoch 49/200\n",
            "\u001b[1m356/356\u001b[0m \u001b[32m━━━━━━━━━━━━━━━━━━━━\u001b[0m\u001b[37m\u001b[0m \u001b[1m1s\u001b[0m 4ms/step - loss: 0.0027 - val_loss: 0.0026\n",
            "Epoch 50/200\n",
            "\u001b[1m356/356\u001b[0m \u001b[32m━━━━━━━━━━━━━━━━━━━━\u001b[0m\u001b[37m\u001b[0m \u001b[1m2s\u001b[0m 5ms/step - loss: 0.0028 - val_loss: 0.0027\n",
            "Epoch 51/200\n",
            "\u001b[1m356/356\u001b[0m \u001b[32m━━━━━━━━━━━━━━━━━━━━\u001b[0m\u001b[37m\u001b[0m \u001b[1m3s\u001b[0m 6ms/step - loss: 0.0027 - val_loss: 0.0026\n",
            "Epoch 52/200\n",
            "\u001b[1m356/356\u001b[0m \u001b[32m━━━━━━━━━━━━━━━━━━━━\u001b[0m\u001b[37m\u001b[0m \u001b[1m1s\u001b[0m 4ms/step - loss: 0.0029 - val_loss: 0.0025\n",
            "Epoch 53/200\n",
            "\u001b[1m356/356\u001b[0m \u001b[32m━━━━━━━━━━━━━━━━━━━━\u001b[0m\u001b[37m\u001b[0m \u001b[1m3s\u001b[0m 4ms/step - loss: 0.0029 - val_loss: 0.0025\n",
            "Epoch 54/200\n",
            "\u001b[1m356/356\u001b[0m \u001b[32m━━━━━━━━━━━━━━━━━━━━\u001b[0m\u001b[37m\u001b[0m \u001b[1m3s\u001b[0m 4ms/step - loss: 0.0030 - val_loss: 0.0025\n",
            "Epoch 55/200\n",
            "\u001b[1m356/356\u001b[0m \u001b[32m━━━━━━━━━━━━━━━━━━━━\u001b[0m\u001b[37m\u001b[0m \u001b[1m2s\u001b[0m 4ms/step - loss: 0.0028 - val_loss: 0.0025\n",
            "Epoch 56/200\n",
            "\u001b[1m356/356\u001b[0m \u001b[32m━━━━━━━━━━━━━━━━━━━━\u001b[0m\u001b[37m\u001b[0m \u001b[1m3s\u001b[0m 5ms/step - loss: 0.0027 - val_loss: 0.0026\n",
            "Epoch 57/200\n",
            "\u001b[1m356/356\u001b[0m \u001b[32m━━━━━━━━━━━━━━━━━━━━\u001b[0m\u001b[37m\u001b[0m \u001b[1m3s\u001b[0m 6ms/step - loss: 0.0029 - val_loss: 0.0025\n",
            "Epoch 58/200\n",
            "\u001b[1m356/356\u001b[0m \u001b[32m━━━━━━━━━━━━━━━━━━━━\u001b[0m\u001b[37m\u001b[0m \u001b[1m2s\u001b[0m 3ms/step - loss: 0.0027 - val_loss: 0.0025\n",
            "Epoch 59/200\n",
            "\u001b[1m356/356\u001b[0m \u001b[32m━━━━━━━━━━━━━━━━━━━━\u001b[0m\u001b[37m\u001b[0m \u001b[1m1s\u001b[0m 4ms/step - loss: 0.0028 - val_loss: 0.0026\n",
            "Epoch 60/200\n",
            "\u001b[1m356/356\u001b[0m \u001b[32m━━━━━━━━━━━━━━━━━━━━\u001b[0m\u001b[37m\u001b[0m \u001b[1m1s\u001b[0m 4ms/step - loss: 0.0028 - val_loss: 0.0025\n",
            "Epoch 61/200\n",
            "\u001b[1m356/356\u001b[0m \u001b[32m━━━━━━━━━━━━━━━━━━━━\u001b[0m\u001b[37m\u001b[0m \u001b[1m1s\u001b[0m 4ms/step - loss: 0.0027 - val_loss: 0.0024\n",
            "Epoch 62/200\n",
            "\u001b[1m356/356\u001b[0m \u001b[32m━━━━━━━━━━━━━━━━━━━━\u001b[0m\u001b[37m\u001b[0m \u001b[1m1s\u001b[0m 4ms/step - loss: 0.0028 - val_loss: 0.0023\n",
            "Epoch 63/200\n",
            "\u001b[1m356/356\u001b[0m \u001b[32m━━━━━━━━━━━━━━━━━━━━\u001b[0m\u001b[37m\u001b[0m \u001b[1m1s\u001b[0m 4ms/step - loss: 0.0028 - val_loss: 0.0024\n",
            "Epoch 64/200\n",
            "\u001b[1m356/356\u001b[0m \u001b[32m━━━━━━━━━━━━━━━━━━━━\u001b[0m\u001b[37m\u001b[0m \u001b[1m3s\u001b[0m 5ms/step - loss: 0.0028 - val_loss: 0.0024\n",
            "Epoch 65/200\n",
            "\u001b[1m356/356\u001b[0m \u001b[32m━━━━━━━━━━━━━━━━━━━━\u001b[0m\u001b[37m\u001b[0m \u001b[1m3s\u001b[0m 6ms/step - loss: 0.0028 - val_loss: 0.0025\n",
            "Epoch 66/200\n",
            "\u001b[1m356/356\u001b[0m \u001b[32m━━━━━━━━━━━━━━━━━━━━\u001b[0m\u001b[37m\u001b[0m \u001b[1m1s\u001b[0m 4ms/step - loss: 0.0028 - val_loss: 0.0025\n",
            "Epoch 67/200\n",
            "\u001b[1m356/356\u001b[0m \u001b[32m━━━━━━━━━━━━━━━━━━━━\u001b[0m\u001b[37m\u001b[0m \u001b[1m1s\u001b[0m 4ms/step - loss: 0.0028 - val_loss: 0.0024\n",
            "Epoch 68/200\n",
            "\u001b[1m356/356\u001b[0m \u001b[32m━━━━━━━━━━━━━━━━━━━━\u001b[0m\u001b[37m\u001b[0m \u001b[1m2s\u001b[0m 4ms/step - loss: 0.0028 - val_loss: 0.0025\n",
            "Epoch 69/200\n",
            "\u001b[1m356/356\u001b[0m \u001b[32m━━━━━━━━━━━━━━━━━━━━\u001b[0m\u001b[37m\u001b[0m \u001b[1m1s\u001b[0m 4ms/step - loss: 0.0029 - val_loss: 0.0024\n",
            "Epoch 70/200\n",
            "\u001b[1m356/356\u001b[0m \u001b[32m━━━━━━━━━━━━━━━━━━━━\u001b[0m\u001b[37m\u001b[0m \u001b[1m2s\u001b[0m 3ms/step - loss: 0.0028 - val_loss: 0.0024\n",
            "Epoch 71/200\n",
            "\u001b[1m356/356\u001b[0m \u001b[32m━━━━━━━━━━━━━━━━━━━━\u001b[0m\u001b[37m\u001b[0m \u001b[1m1s\u001b[0m 4ms/step - loss: 0.0026 - val_loss: 0.0024\n",
            "Epoch 72/200\n",
            "\u001b[1m356/356\u001b[0m \u001b[32m━━━━━━━━━━━━━━━━━━━━\u001b[0m\u001b[37m\u001b[0m \u001b[1m3s\u001b[0m 6ms/step - loss: 0.0027 - val_loss: 0.0023\n",
            "Epoch 73/200\n",
            "\u001b[1m356/356\u001b[0m \u001b[32m━━━━━━━━━━━━━━━━━━━━\u001b[0m\u001b[37m\u001b[0m \u001b[1m2s\u001b[0m 3ms/step - loss: 0.0027 - val_loss: 0.0025\n",
            "Epoch 74/200\n",
            "\u001b[1m356/356\u001b[0m \u001b[32m━━━━━━━━━━━━━━━━━━━━\u001b[0m\u001b[37m\u001b[0m \u001b[1m1s\u001b[0m 3ms/step - loss: 0.0026 - val_loss: 0.0024\n",
            "Epoch 75/200\n",
            "\u001b[1m356/356\u001b[0m \u001b[32m━━━━━━━━━━━━━━━━━━━━\u001b[0m\u001b[37m\u001b[0m \u001b[1m1s\u001b[0m 3ms/step - loss: 0.0027 - val_loss: 0.0023\n",
            "Epoch 76/200\n",
            "\u001b[1m356/356\u001b[0m \u001b[32m━━━━━━━━━━━━━━━━━━━━\u001b[0m\u001b[37m\u001b[0m \u001b[1m1s\u001b[0m 3ms/step - loss: 0.0027 - val_loss: 0.0026\n",
            "Epoch 77/200\n",
            "\u001b[1m356/356\u001b[0m \u001b[32m━━━━━━━━━━━━━━━━━━━━\u001b[0m\u001b[37m\u001b[0m \u001b[1m1s\u001b[0m 4ms/step - loss: 0.0026 - val_loss: 0.0024\n",
            "Epoch 78/200\n",
            "\u001b[1m356/356\u001b[0m \u001b[32m━━━━━━━━━━━━━━━━━━━━\u001b[0m\u001b[37m\u001b[0m \u001b[1m1s\u001b[0m 4ms/step - loss: 0.0026 - val_loss: 0.0023\n",
            "Epoch 79/200\n",
            "\u001b[1m356/356\u001b[0m \u001b[32m━━━━━━━━━━━━━━━━━━━━\u001b[0m\u001b[37m\u001b[0m \u001b[1m2s\u001b[0m 4ms/step - loss: 0.0026 - val_loss: 0.0023\n",
            "Epoch 80/200\n",
            "\u001b[1m356/356\u001b[0m \u001b[32m━━━━━━━━━━━━━━━━━━━━\u001b[0m\u001b[37m\u001b[0m \u001b[1m3s\u001b[0m 5ms/step - loss: 0.0026 - val_loss: 0.0023\n",
            "Epoch 81/200\n",
            "\u001b[1m356/356\u001b[0m \u001b[32m━━━━━━━━━━━━━━━━━━━━\u001b[0m\u001b[37m\u001b[0m \u001b[1m2s\u001b[0m 6ms/step - loss: 0.0026 - val_loss: 0.0025\n",
            "Epoch 82/200\n",
            "\u001b[1m356/356\u001b[0m \u001b[32m━━━━━━━━━━━━━━━━━━━━\u001b[0m\u001b[37m\u001b[0m \u001b[1m2s\u001b[0m 5ms/step - loss: 0.0027 - val_loss: 0.0025\n",
            "Epoch 83/200\n",
            "\u001b[1m356/356\u001b[0m \u001b[32m━━━━━━━━━━━━━━━━━━━━\u001b[0m\u001b[37m\u001b[0m \u001b[1m2s\u001b[0m 4ms/step - loss: 0.0027 - val_loss: 0.0023\n",
            "Epoch 84/200\n",
            "\u001b[1m356/356\u001b[0m \u001b[32m━━━━━━━━━━━━━━━━━━━━\u001b[0m\u001b[37m\u001b[0m \u001b[1m1s\u001b[0m 4ms/step - loss: 0.0025 - val_loss: 0.0023\n",
            "Epoch 85/200\n",
            "\u001b[1m356/356\u001b[0m \u001b[32m━━━━━━━━━━━━━━━━━━━━\u001b[0m\u001b[37m\u001b[0m \u001b[1m3s\u001b[0m 4ms/step - loss: 0.0027 - val_loss: 0.0023\n",
            "Epoch 86/200\n",
            "\u001b[1m356/356\u001b[0m \u001b[32m━━━━━━━━━━━━━━━━━━━━\u001b[0m\u001b[37m\u001b[0m \u001b[1m1s\u001b[0m 4ms/step - loss: 0.0027 - val_loss: 0.0024\n",
            "Epoch 87/200\n",
            "\u001b[1m356/356\u001b[0m \u001b[32m━━━━━━━━━━━━━━━━━━━━\u001b[0m\u001b[37m\u001b[0m \u001b[1m3s\u001b[0m 5ms/step - loss: 0.0027 - val_loss: 0.0024\n",
            "Epoch 88/200\n",
            "\u001b[1m356/356\u001b[0m \u001b[32m━━━━━━━━━━━━━━━━━━━━\u001b[0m\u001b[37m\u001b[0m \u001b[1m3s\u001b[0m 6ms/step - loss: 0.0026 - val_loss: 0.0027\n",
            "Epoch 89/200\n",
            "\u001b[1m356/356\u001b[0m \u001b[32m━━━━━━━━━━━━━━━━━━━━\u001b[0m\u001b[37m\u001b[0m \u001b[1m1s\u001b[0m 4ms/step - loss: 0.0027 - val_loss: 0.0023\n",
            "Epoch 90/200\n",
            "\u001b[1m356/356\u001b[0m \u001b[32m━━━━━━━━━━━━━━━━━━━━\u001b[0m\u001b[37m\u001b[0m \u001b[1m2s\u001b[0m 4ms/step - loss: 0.0026 - val_loss: 0.0025\n",
            "Epoch 91/200\n",
            "\u001b[1m356/356\u001b[0m \u001b[32m━━━━━━━━━━━━━━━━━━━━\u001b[0m\u001b[37m\u001b[0m \u001b[1m1s\u001b[0m 4ms/step - loss: 0.0026 - val_loss: 0.0023\n",
            "Epoch 92/200\n",
            "\u001b[1m356/356\u001b[0m \u001b[32m━━━━━━━━━━━━━━━━━━━━\u001b[0m\u001b[37m\u001b[0m \u001b[1m1s\u001b[0m 4ms/step - loss: 0.0026 - val_loss: 0.0024\n"
          ]
        },
        {
          "output_type": "execute_result",
          "data": {
            "text/plain": [
              "<keras.src.callbacks.history.History at 0x7badc81f5870>"
            ]
          },
          "metadata": {},
          "execution_count": 77
        }
      ]
    },
    {
      "cell_type": "markdown",
      "source": [
        "## XGBoost Model"
      ],
      "metadata": {
        "id": "WAgz44CTVS6b"
      }
    },
    {
      "cell_type": "code",
      "source": [
        "# # Define and train XGBoost model\n",
        "# xgb_model = XGBRegressor(objective='reg:squarederror', n_estimators=100, learning_rate=0.1)\n",
        "# xgb_model.fit(X_train_scaled, y_train)\n"
      ],
      "metadata": {
        "colab": {
          "base_uri": "https://localhost:8080/",
          "height": 248
        },
        "id": "Vj9lOuc5VUQJ",
        "outputId": "ce9901e0-a0d4-4592-cc06-f037492ddbcb"
      },
      "execution_count": null,
      "outputs": [
        {
          "output_type": "display_data",
          "data": {
            "text/plain": [
              "<IPython.core.display.HTML object>"
            ],
            "text/html": [
              "\n",
              "            <style>\n",
              "                .geemap-dark {\n",
              "                    --jp-widgets-color: white;\n",
              "                    --jp-widgets-label-color: white;\n",
              "                    --jp-ui-font-color1: white;\n",
              "                    --jp-layout-color2: #454545;\n",
              "                    background-color: #383838;\n",
              "                }\n",
              "\n",
              "                .geemap-dark .jupyter-button {\n",
              "                    --jp-layout-color3: #383838;\n",
              "                }\n",
              "\n",
              "                .geemap-colab {\n",
              "                    background-color: var(--colab-primary-surface-color, white);\n",
              "                }\n",
              "\n",
              "                .geemap-colab .jupyter-button {\n",
              "                    --jp-layout-color3: var(--colab-primary-surface-color, white);\n",
              "                }\n",
              "            </style>\n",
              "            "
            ]
          },
          "metadata": {}
        },
        {
          "output_type": "execute_result",
          "data": {
            "text/plain": [
              "XGBRegressor(base_score=None, booster=None, callbacks=None,\n",
              "             colsample_bylevel=None, colsample_bynode=None,\n",
              "             colsample_bytree=None, device=None, early_stopping_rounds=None,\n",
              "             enable_categorical=False, eval_metric=None, feature_types=None,\n",
              "             gamma=None, grow_policy=None, importance_type=None,\n",
              "             interaction_constraints=None, learning_rate=0.1, max_bin=None,\n",
              "             max_cat_threshold=None, max_cat_to_onehot=None,\n",
              "             max_delta_step=None, max_depth=None, max_leaves=None,\n",
              "             min_child_weight=None, missing=nan, monotone_constraints=None,\n",
              "             multi_strategy=None, n_estimators=100, n_jobs=None,\n",
              "             num_parallel_tree=None, random_state=None, ...)"
            ],
            "text/html": [
              "<style>#sk-container-id-2 {color: black;}#sk-container-id-2 pre{padding: 0;}#sk-container-id-2 div.sk-toggleable {background-color: white;}#sk-container-id-2 label.sk-toggleable__label {cursor: pointer;display: block;width: 100%;margin-bottom: 0;padding: 0.3em;box-sizing: border-box;text-align: center;}#sk-container-id-2 label.sk-toggleable__label-arrow:before {content: \"▸\";float: left;margin-right: 0.25em;color: #696969;}#sk-container-id-2 label.sk-toggleable__label-arrow:hover:before {color: black;}#sk-container-id-2 div.sk-estimator:hover label.sk-toggleable__label-arrow:before {color: black;}#sk-container-id-2 div.sk-toggleable__content {max-height: 0;max-width: 0;overflow: hidden;text-align: left;background-color: #f0f8ff;}#sk-container-id-2 div.sk-toggleable__content pre {margin: 0.2em;color: black;border-radius: 0.25em;background-color: #f0f8ff;}#sk-container-id-2 input.sk-toggleable__control:checked~div.sk-toggleable__content {max-height: 200px;max-width: 100%;overflow: auto;}#sk-container-id-2 input.sk-toggleable__control:checked~label.sk-toggleable__label-arrow:before {content: \"▾\";}#sk-container-id-2 div.sk-estimator input.sk-toggleable__control:checked~label.sk-toggleable__label {background-color: #d4ebff;}#sk-container-id-2 div.sk-label input.sk-toggleable__control:checked~label.sk-toggleable__label {background-color: #d4ebff;}#sk-container-id-2 input.sk-hidden--visually {border: 0;clip: rect(1px 1px 1px 1px);clip: rect(1px, 1px, 1px, 1px);height: 1px;margin: -1px;overflow: hidden;padding: 0;position: absolute;width: 1px;}#sk-container-id-2 div.sk-estimator {font-family: monospace;background-color: #f0f8ff;border: 1px dotted black;border-radius: 0.25em;box-sizing: border-box;margin-bottom: 0.5em;}#sk-container-id-2 div.sk-estimator:hover {background-color: #d4ebff;}#sk-container-id-2 div.sk-parallel-item::after {content: \"\";width: 100%;border-bottom: 1px solid gray;flex-grow: 1;}#sk-container-id-2 div.sk-label:hover label.sk-toggleable__label {background-color: #d4ebff;}#sk-container-id-2 div.sk-serial::before {content: \"\";position: absolute;border-left: 1px solid gray;box-sizing: border-box;top: 0;bottom: 0;left: 50%;z-index: 0;}#sk-container-id-2 div.sk-serial {display: flex;flex-direction: column;align-items: center;background-color: white;padding-right: 0.2em;padding-left: 0.2em;position: relative;}#sk-container-id-2 div.sk-item {position: relative;z-index: 1;}#sk-container-id-2 div.sk-parallel {display: flex;align-items: stretch;justify-content: center;background-color: white;position: relative;}#sk-container-id-2 div.sk-item::before, #sk-container-id-2 div.sk-parallel-item::before {content: \"\";position: absolute;border-left: 1px solid gray;box-sizing: border-box;top: 0;bottom: 0;left: 50%;z-index: -1;}#sk-container-id-2 div.sk-parallel-item {display: flex;flex-direction: column;z-index: 1;position: relative;background-color: white;}#sk-container-id-2 div.sk-parallel-item:first-child::after {align-self: flex-end;width: 50%;}#sk-container-id-2 div.sk-parallel-item:last-child::after {align-self: flex-start;width: 50%;}#sk-container-id-2 div.sk-parallel-item:only-child::after {width: 0;}#sk-container-id-2 div.sk-dashed-wrapped {border: 1px dashed gray;margin: 0 0.4em 0.5em 0.4em;box-sizing: border-box;padding-bottom: 0.4em;background-color: white;}#sk-container-id-2 div.sk-label label {font-family: monospace;font-weight: bold;display: inline-block;line-height: 1.2em;}#sk-container-id-2 div.sk-label-container {text-align: center;}#sk-container-id-2 div.sk-container {/* jupyter's `normalize.less` sets `[hidden] { display: none; }` but bootstrap.min.css set `[hidden] { display: none !important; }` so we also need the `!important` here to be able to override the default hidden behavior on the sphinx rendered scikit-learn.org. See: https://github.com/scikit-learn/scikit-learn/issues/21755 */display: inline-block !important;position: relative;}#sk-container-id-2 div.sk-text-repr-fallback {display: none;}</style><div id=\"sk-container-id-2\" class=\"sk-top-container\"><div class=\"sk-text-repr-fallback\"><pre>XGBRegressor(base_score=None, booster=None, callbacks=None,\n",
              "             colsample_bylevel=None, colsample_bynode=None,\n",
              "             colsample_bytree=None, device=None, early_stopping_rounds=None,\n",
              "             enable_categorical=False, eval_metric=None, feature_types=None,\n",
              "             gamma=None, grow_policy=None, importance_type=None,\n",
              "             interaction_constraints=None, learning_rate=0.1, max_bin=None,\n",
              "             max_cat_threshold=None, max_cat_to_onehot=None,\n",
              "             max_delta_step=None, max_depth=None, max_leaves=None,\n",
              "             min_child_weight=None, missing=nan, monotone_constraints=None,\n",
              "             multi_strategy=None, n_estimators=100, n_jobs=None,\n",
              "             num_parallel_tree=None, random_state=None, ...)</pre><b>In a Jupyter environment, please rerun this cell to show the HTML representation or trust the notebook. <br />On GitHub, the HTML representation is unable to render, please try loading this page with nbviewer.org.</b></div><div class=\"sk-container\" hidden><div class=\"sk-item\"><div class=\"sk-estimator sk-toggleable\"><input class=\"sk-toggleable__control sk-hidden--visually\" id=\"sk-estimator-id-2\" type=\"checkbox\" checked><label for=\"sk-estimator-id-2\" class=\"sk-toggleable__label sk-toggleable__label-arrow\">XGBRegressor</label><div class=\"sk-toggleable__content\"><pre>XGBRegressor(base_score=None, booster=None, callbacks=None,\n",
              "             colsample_bylevel=None, colsample_bynode=None,\n",
              "             colsample_bytree=None, device=None, early_stopping_rounds=None,\n",
              "             enable_categorical=False, eval_metric=None, feature_types=None,\n",
              "             gamma=None, grow_policy=None, importance_type=None,\n",
              "             interaction_constraints=None, learning_rate=0.1, max_bin=None,\n",
              "             max_cat_threshold=None, max_cat_to_onehot=None,\n",
              "             max_delta_step=None, max_depth=None, max_leaves=None,\n",
              "             min_child_weight=None, missing=nan, monotone_constraints=None,\n",
              "             multi_strategy=None, n_estimators=100, n_jobs=None,\n",
              "             num_parallel_tree=None, random_state=None, ...)</pre></div></div></div></div></div>"
            ]
          },
          "metadata": {},
          "execution_count": 78
        }
      ]
    },
    {
      "cell_type": "markdown",
      "source": [
        "## Evaluation"
      ],
      "metadata": {
        "id": "1IQAkS7jVYlL"
      }
    },
    {
      "cell_type": "code",
      "source": [
        "import numpy as np\n",
        "import pandas as pd\n",
        "from sklearn.metrics import mean_squared_error, r2_score\n",
        "\n",
        "# Function to evaluate the model\n",
        "\n",
        "def evaluate_model(model, X_test, y_test, model_type='keras'):\n",
        "    if model_type == 'keras':\n",
        "        y_pred = model.predict(X_test).flatten()\n",
        "    elif model_type == 'xgboost':\n",
        "        y_pred = model.predict(X_test)\n",
        "\n",
        "    mse = mean_squared_error(y_test, y_pred)\n",
        "    rmse = np.sqrt(mse)\n",
        "    r2 = r2_score(y_test, y_pred)\n",
        "\n",
        "    return mse, rmse, r2\n",
        "# Evaluate Transformer model\n",
        "transformer_mse, transformer_rmse, transformer_r2 = evaluate_model(transformer_model, X_test_reshaped, y_test, model_type='keras')\n",
        "\n",
        "# Evaluate LSTM model\n",
        "lstm_mse, lstm_rmse, lstm_r2 = evaluate_model(lstm_model, X_test_lstm, y_test, model_type='keras')\n",
        "\n",
        "# Evaluate XGBoost model\n",
        "xgb_mse, xgb_rmse, xgb_r2 = evaluate_model(xgb_model, X_test_scaled, y_test, model_type='xgboost')\n",
        "\n",
        "# Create a DataFrame to show the results\n",
        "results_df = pd.DataFrame({\n",
        "    'Model': ['Transformer', 'LSTM', 'XGBoost'],\n",
        "    'MSE': [transformer_mse, lstm_mse, xgb_mse],\n",
        "    'RMSE': [transformer_rmse, lstm_rmse, xgb_rmse],\n",
        "    'R-Squared': [transformer_r2, lstm_r2, xgb_r2]\n",
        "})\n",
        "\n",
        "results_df\n"
      ],
      "metadata": {
        "colab": {
          "base_uri": "https://localhost:8080/",
          "height": 233
        },
        "id": "gmAt1xk0VbyV",
        "outputId": "e10007f3-0c5d-459b-fc2c-d600da77c37b"
      },
      "execution_count": null,
      "outputs": [
        {
          "output_type": "display_data",
          "data": {
            "text/plain": [
              "<IPython.core.display.HTML object>"
            ],
            "text/html": [
              "\n",
              "            <style>\n",
              "                .geemap-dark {\n",
              "                    --jp-widgets-color: white;\n",
              "                    --jp-widgets-label-color: white;\n",
              "                    --jp-ui-font-color1: white;\n",
              "                    --jp-layout-color2: #454545;\n",
              "                    background-color: #383838;\n",
              "                }\n",
              "\n",
              "                .geemap-dark .jupyter-button {\n",
              "                    --jp-layout-color3: #383838;\n",
              "                }\n",
              "\n",
              "                .geemap-colab {\n",
              "                    background-color: var(--colab-primary-surface-color, white);\n",
              "                }\n",
              "\n",
              "                .geemap-colab .jupyter-button {\n",
              "                    --jp-layout-color3: var(--colab-primary-surface-color, white);\n",
              "                }\n",
              "            </style>\n",
              "            "
            ]
          },
          "metadata": {}
        },
        {
          "output_type": "stream",
          "name": "stdout",
          "text": [
            "\u001b[1m 56/112\u001b[0m \u001b[32m━━━━━━━━━━\u001b[0m\u001b[37m━━━━━━━━━━\u001b[0m \u001b[1m0s\u001b[0m 2ms/step"
          ]
        },
        {
          "output_type": "stream",
          "name": "stderr",
          "text": [
            "/usr/local/lib/python3.10/dist-packages/keras/src/ops/nn.py:545: UserWarning: You are using a softmax over axis 3 of a tensor of shape (32, 2, 1, 1). This axis has size 1. The softmax operation will always return the value 1, which is likely not what you intended. Did you mean to use a sigmoid instead?\n",
            "  warnings.warn(\n"
          ]
        },
        {
          "output_type": "stream",
          "name": "stdout",
          "text": [
            "\u001b[1m112/112\u001b[0m \u001b[32m━━━━━━━━━━━━━━━━━━━━\u001b[0m\u001b[37m\u001b[0m \u001b[1m0s\u001b[0m 3ms/step\n",
            "\u001b[1m112/112\u001b[0m \u001b[32m━━━━━━━━━━━━━━━━━━━━\u001b[0m\u001b[37m\u001b[0m \u001b[1m1s\u001b[0m 4ms/step\n"
          ]
        },
        {
          "output_type": "execute_result",
          "data": {
            "text/plain": [
              "         Model       MSE      RMSE  R-Squared\n",
              "0  Transformer  0.002693  0.051897   0.823312\n",
              "1         LSTM  0.002513  0.050126   0.835165\n",
              "2      XGBoost  0.001393  0.037323   0.908616"
            ],
            "text/html": [
              "\n",
              "  <div id=\"df-7f012588-320e-4caf-8024-44e8661bb22f\" class=\"colab-df-container\">\n",
              "    <div>\n",
              "<style scoped>\n",
              "    .dataframe tbody tr th:only-of-type {\n",
              "        vertical-align: middle;\n",
              "    }\n",
              "\n",
              "    .dataframe tbody tr th {\n",
              "        vertical-align: top;\n",
              "    }\n",
              "\n",
              "    .dataframe thead th {\n",
              "        text-align: right;\n",
              "    }\n",
              "</style>\n",
              "<table border=\"1\" class=\"dataframe\">\n",
              "  <thead>\n",
              "    <tr style=\"text-align: right;\">\n",
              "      <th></th>\n",
              "      <th>Model</th>\n",
              "      <th>MSE</th>\n",
              "      <th>RMSE</th>\n",
              "      <th>R-Squared</th>\n",
              "    </tr>\n",
              "  </thead>\n",
              "  <tbody>\n",
              "    <tr>\n",
              "      <th>0</th>\n",
              "      <td>Transformer</td>\n",
              "      <td>0.002693</td>\n",
              "      <td>0.051897</td>\n",
              "      <td>0.823312</td>\n",
              "    </tr>\n",
              "    <tr>\n",
              "      <th>1</th>\n",
              "      <td>LSTM</td>\n",
              "      <td>0.002513</td>\n",
              "      <td>0.050126</td>\n",
              "      <td>0.835165</td>\n",
              "    </tr>\n",
              "    <tr>\n",
              "      <th>2</th>\n",
              "      <td>XGBoost</td>\n",
              "      <td>0.001393</td>\n",
              "      <td>0.037323</td>\n",
              "      <td>0.908616</td>\n",
              "    </tr>\n",
              "  </tbody>\n",
              "</table>\n",
              "</div>\n",
              "    <div class=\"colab-df-buttons\">\n",
              "\n",
              "  <div class=\"colab-df-container\">\n",
              "    <button class=\"colab-df-convert\" onclick=\"convertToInteractive('df-7f012588-320e-4caf-8024-44e8661bb22f')\"\n",
              "            title=\"Convert this dataframe to an interactive table.\"\n",
              "            style=\"display:none;\">\n",
              "\n",
              "  <svg xmlns=\"http://www.w3.org/2000/svg\" height=\"24px\" viewBox=\"0 -960 960 960\">\n",
              "    <path d=\"M120-120v-720h720v720H120Zm60-500h600v-160H180v160Zm220 220h160v-160H400v160Zm0 220h160v-160H400v160ZM180-400h160v-160H180v160Zm440 0h160v-160H620v160ZM180-180h160v-160H180v160Zm440 0h160v-160H620v160Z\"/>\n",
              "  </svg>\n",
              "    </button>\n",
              "\n",
              "  <style>\n",
              "    .colab-df-container {\n",
              "      display:flex;\n",
              "      gap: 12px;\n",
              "    }\n",
              "\n",
              "    .colab-df-convert {\n",
              "      background-color: #E8F0FE;\n",
              "      border: none;\n",
              "      border-radius: 50%;\n",
              "      cursor: pointer;\n",
              "      display: none;\n",
              "      fill: #1967D2;\n",
              "      height: 32px;\n",
              "      padding: 0 0 0 0;\n",
              "      width: 32px;\n",
              "    }\n",
              "\n",
              "    .colab-df-convert:hover {\n",
              "      background-color: #E2EBFA;\n",
              "      box-shadow: 0px 1px 2px rgba(60, 64, 67, 0.3), 0px 1px 3px 1px rgba(60, 64, 67, 0.15);\n",
              "      fill: #174EA6;\n",
              "    }\n",
              "\n",
              "    .colab-df-buttons div {\n",
              "      margin-bottom: 4px;\n",
              "    }\n",
              "\n",
              "    [theme=dark] .colab-df-convert {\n",
              "      background-color: #3B4455;\n",
              "      fill: #D2E3FC;\n",
              "    }\n",
              "\n",
              "    [theme=dark] .colab-df-convert:hover {\n",
              "      background-color: #434B5C;\n",
              "      box-shadow: 0px 1px 3px 1px rgba(0, 0, 0, 0.15);\n",
              "      filter: drop-shadow(0px 1px 2px rgba(0, 0, 0, 0.3));\n",
              "      fill: #FFFFFF;\n",
              "    }\n",
              "  </style>\n",
              "\n",
              "    <script>\n",
              "      const buttonEl =\n",
              "        document.querySelector('#df-7f012588-320e-4caf-8024-44e8661bb22f button.colab-df-convert');\n",
              "      buttonEl.style.display =\n",
              "        google.colab.kernel.accessAllowed ? 'block' : 'none';\n",
              "\n",
              "      async function convertToInteractive(key) {\n",
              "        const element = document.querySelector('#df-7f012588-320e-4caf-8024-44e8661bb22f');\n",
              "        const dataTable =\n",
              "          await google.colab.kernel.invokeFunction('convertToInteractive',\n",
              "                                                    [key], {});\n",
              "        if (!dataTable) return;\n",
              "\n",
              "        const docLinkHtml = 'Like what you see? Visit the ' +\n",
              "          '<a target=\"_blank\" href=https://colab.research.google.com/notebooks/data_table.ipynb>data table notebook</a>'\n",
              "          + ' to learn more about interactive tables.';\n",
              "        element.innerHTML = '';\n",
              "        dataTable['output_type'] = 'display_data';\n",
              "        await google.colab.output.renderOutput(dataTable, element);\n",
              "        const docLink = document.createElement('div');\n",
              "        docLink.innerHTML = docLinkHtml;\n",
              "        element.appendChild(docLink);\n",
              "      }\n",
              "    </script>\n",
              "  </div>\n",
              "\n",
              "\n",
              "<div id=\"df-13a5312c-c1a4-4d88-9a8b-097c63c31ec5\">\n",
              "  <button class=\"colab-df-quickchart\" onclick=\"quickchart('df-13a5312c-c1a4-4d88-9a8b-097c63c31ec5')\"\n",
              "            title=\"Suggest charts\"\n",
              "            style=\"display:none;\">\n",
              "\n",
              "<svg xmlns=\"http://www.w3.org/2000/svg\" height=\"24px\"viewBox=\"0 0 24 24\"\n",
              "     width=\"24px\">\n",
              "    <g>\n",
              "        <path d=\"M19 3H5c-1.1 0-2 .9-2 2v14c0 1.1.9 2 2 2h14c1.1 0 2-.9 2-2V5c0-1.1-.9-2-2-2zM9 17H7v-7h2v7zm4 0h-2V7h2v10zm4 0h-2v-4h2v4z\"/>\n",
              "    </g>\n",
              "</svg>\n",
              "  </button>\n",
              "\n",
              "<style>\n",
              "  .colab-df-quickchart {\n",
              "      --bg-color: #E8F0FE;\n",
              "      --fill-color: #1967D2;\n",
              "      --hover-bg-color: #E2EBFA;\n",
              "      --hover-fill-color: #174EA6;\n",
              "      --disabled-fill-color: #AAA;\n",
              "      --disabled-bg-color: #DDD;\n",
              "  }\n",
              "\n",
              "  [theme=dark] .colab-df-quickchart {\n",
              "      --bg-color: #3B4455;\n",
              "      --fill-color: #D2E3FC;\n",
              "      --hover-bg-color: #434B5C;\n",
              "      --hover-fill-color: #FFFFFF;\n",
              "      --disabled-bg-color: #3B4455;\n",
              "      --disabled-fill-color: #666;\n",
              "  }\n",
              "\n",
              "  .colab-df-quickchart {\n",
              "    background-color: var(--bg-color);\n",
              "    border: none;\n",
              "    border-radius: 50%;\n",
              "    cursor: pointer;\n",
              "    display: none;\n",
              "    fill: var(--fill-color);\n",
              "    height: 32px;\n",
              "    padding: 0;\n",
              "    width: 32px;\n",
              "  }\n",
              "\n",
              "  .colab-df-quickchart:hover {\n",
              "    background-color: var(--hover-bg-color);\n",
              "    box-shadow: 0 1px 2px rgba(60, 64, 67, 0.3), 0 1px 3px 1px rgba(60, 64, 67, 0.15);\n",
              "    fill: var(--button-hover-fill-color);\n",
              "  }\n",
              "\n",
              "  .colab-df-quickchart-complete:disabled,\n",
              "  .colab-df-quickchart-complete:disabled:hover {\n",
              "    background-color: var(--disabled-bg-color);\n",
              "    fill: var(--disabled-fill-color);\n",
              "    box-shadow: none;\n",
              "  }\n",
              "\n",
              "  .colab-df-spinner {\n",
              "    border: 2px solid var(--fill-color);\n",
              "    border-color: transparent;\n",
              "    border-bottom-color: var(--fill-color);\n",
              "    animation:\n",
              "      spin 1s steps(1) infinite;\n",
              "  }\n",
              "\n",
              "  @keyframes spin {\n",
              "    0% {\n",
              "      border-color: transparent;\n",
              "      border-bottom-color: var(--fill-color);\n",
              "      border-left-color: var(--fill-color);\n",
              "    }\n",
              "    20% {\n",
              "      border-color: transparent;\n",
              "      border-left-color: var(--fill-color);\n",
              "      border-top-color: var(--fill-color);\n",
              "    }\n",
              "    30% {\n",
              "      border-color: transparent;\n",
              "      border-left-color: var(--fill-color);\n",
              "      border-top-color: var(--fill-color);\n",
              "      border-right-color: var(--fill-color);\n",
              "    }\n",
              "    40% {\n",
              "      border-color: transparent;\n",
              "      border-right-color: var(--fill-color);\n",
              "      border-top-color: var(--fill-color);\n",
              "    }\n",
              "    60% {\n",
              "      border-color: transparent;\n",
              "      border-right-color: var(--fill-color);\n",
              "    }\n",
              "    80% {\n",
              "      border-color: transparent;\n",
              "      border-right-color: var(--fill-color);\n",
              "      border-bottom-color: var(--fill-color);\n",
              "    }\n",
              "    90% {\n",
              "      border-color: transparent;\n",
              "      border-bottom-color: var(--fill-color);\n",
              "    }\n",
              "  }\n",
              "</style>\n",
              "\n",
              "  <script>\n",
              "    async function quickchart(key) {\n",
              "      const quickchartButtonEl =\n",
              "        document.querySelector('#' + key + ' button');\n",
              "      quickchartButtonEl.disabled = true;  // To prevent multiple clicks.\n",
              "      quickchartButtonEl.classList.add('colab-df-spinner');\n",
              "      try {\n",
              "        const charts = await google.colab.kernel.invokeFunction(\n",
              "            'suggestCharts', [key], {});\n",
              "      } catch (error) {\n",
              "        console.error('Error during call to suggestCharts:', error);\n",
              "      }\n",
              "      quickchartButtonEl.classList.remove('colab-df-spinner');\n",
              "      quickchartButtonEl.classList.add('colab-df-quickchart-complete');\n",
              "    }\n",
              "    (() => {\n",
              "      let quickchartButtonEl =\n",
              "        document.querySelector('#df-13a5312c-c1a4-4d88-9a8b-097c63c31ec5 button');\n",
              "      quickchartButtonEl.style.display =\n",
              "        google.colab.kernel.accessAllowed ? 'block' : 'none';\n",
              "    })();\n",
              "  </script>\n",
              "</div>\n",
              "\n",
              "  <div id=\"id_c8e9b00f-f706-4d29-9700-32bd22baf70e\">\n",
              "    <style>\n",
              "      .colab-df-generate {\n",
              "        background-color: #E8F0FE;\n",
              "        border: none;\n",
              "        border-radius: 50%;\n",
              "        cursor: pointer;\n",
              "        display: none;\n",
              "        fill: #1967D2;\n",
              "        height: 32px;\n",
              "        padding: 0 0 0 0;\n",
              "        width: 32px;\n",
              "      }\n",
              "\n",
              "      .colab-df-generate:hover {\n",
              "        background-color: #E2EBFA;\n",
              "        box-shadow: 0px 1px 2px rgba(60, 64, 67, 0.3), 0px 1px 3px 1px rgba(60, 64, 67, 0.15);\n",
              "        fill: #174EA6;\n",
              "      }\n",
              "\n",
              "      [theme=dark] .colab-df-generate {\n",
              "        background-color: #3B4455;\n",
              "        fill: #D2E3FC;\n",
              "      }\n",
              "\n",
              "      [theme=dark] .colab-df-generate:hover {\n",
              "        background-color: #434B5C;\n",
              "        box-shadow: 0px 1px 3px 1px rgba(0, 0, 0, 0.15);\n",
              "        filter: drop-shadow(0px 1px 2px rgba(0, 0, 0, 0.3));\n",
              "        fill: #FFFFFF;\n",
              "      }\n",
              "    </style>\n",
              "    <button class=\"colab-df-generate\" onclick=\"generateWithVariable('results_df')\"\n",
              "            title=\"Generate code using this dataframe.\"\n",
              "            style=\"display:none;\">\n",
              "\n",
              "  <svg xmlns=\"http://www.w3.org/2000/svg\" height=\"24px\"viewBox=\"0 0 24 24\"\n",
              "       width=\"24px\">\n",
              "    <path d=\"M7,19H8.4L18.45,9,17,7.55,7,17.6ZM5,21V16.75L18.45,3.32a2,2,0,0,1,2.83,0l1.4,1.43a1.91,1.91,0,0,1,.58,1.4,1.91,1.91,0,0,1-.58,1.4L9.25,21ZM18.45,9,17,7.55Zm-12,3A5.31,5.31,0,0,0,4.9,8.1,5.31,5.31,0,0,0,1,6.5,5.31,5.31,0,0,0,4.9,4.9,5.31,5.31,0,0,0,6.5,1,5.31,5.31,0,0,0,8.1,4.9,5.31,5.31,0,0,0,12,6.5,5.46,5.46,0,0,0,6.5,12Z\"/>\n",
              "  </svg>\n",
              "    </button>\n",
              "    <script>\n",
              "      (() => {\n",
              "      const buttonEl =\n",
              "        document.querySelector('#id_c8e9b00f-f706-4d29-9700-32bd22baf70e button.colab-df-generate');\n",
              "      buttonEl.style.display =\n",
              "        google.colab.kernel.accessAllowed ? 'block' : 'none';\n",
              "\n",
              "      buttonEl.onclick = () => {\n",
              "        google.colab.notebook.generateWithVariable('results_df');\n",
              "      }\n",
              "      })();\n",
              "    </script>\n",
              "  </div>\n",
              "\n",
              "    </div>\n",
              "  </div>\n"
            ],
            "application/vnd.google.colaboratory.intrinsic+json": {
              "type": "dataframe",
              "variable_name": "results_df",
              "summary": "{\n  \"name\": \"results_df\",\n  \"rows\": 3,\n  \"fields\": [\n    {\n      \"column\": \"Model\",\n      \"properties\": {\n        \"dtype\": \"string\",\n        \"num_unique_values\": 3,\n        \"samples\": [\n          \"Transformer\",\n          \"LSTM\",\n          \"XGBoost\"\n        ],\n        \"semantic_type\": \"\",\n        \"description\": \"\"\n      }\n    },\n    {\n      \"column\": \"MSE\",\n      \"properties\": {\n        \"dtype\": \"number\",\n        \"std\": 0.0007044023811814623,\n        \"min\": 0.001392999834901522,\n        \"max\": 0.0026933256240619765,\n        \"num_unique_values\": 3,\n        \"samples\": [\n          0.0026933256240619765,\n          0.002512644119289187,\n          0.001392999834901522\n        ],\n        \"semantic_type\": \"\",\n        \"description\": \"\"\n      }\n    },\n    {\n      \"column\": \"RMSE\",\n      \"properties\": {\n        \"dtype\": \"number\",\n        \"std\": 0.007952716664716013,\n        \"min\": 0.03732291300128544,\n        \"max\": 0.051897260275104856,\n        \"num_unique_values\": 3,\n        \"samples\": [\n          0.051897260275104856,\n          0.050126281722158356,\n          0.03732291300128544\n        ],\n        \"semantic_type\": \"\",\n        \"description\": \"\"\n      }\n    },\n    {\n      \"column\": \"R-Squared\",\n      \"properties\": {\n        \"dtype\": \"number\",\n        \"std\": 0.04621044313509161,\n        \"min\": 0.82331154192544,\n        \"max\": 0.9086159539240314,\n        \"num_unique_values\": 3,\n        \"samples\": [\n          0.82331154192544,\n          0.8351646710813376,\n          0.9086159539240314\n        ],\n        \"semantic_type\": \"\",\n        \"description\": \"\"\n      }\n    }\n  ]\n}"
            }
          },
          "metadata": {},
          "execution_count": 79
        }
      ]
    },
    {
      "cell_type": "code",
      "source": [
        "import matplotlib.pyplot as plt\n",
        "from sklearn.metrics import mean_squared_error, r2_score\n",
        "import numpy as np\n",
        "\n",
        "# Generate predictions\n",
        "transformer_predictions = transformer_model.predict(X_test_reshaped).flatten()\n",
        "lstm_predictions = lstm_model.predict(X_test_lstm).flatten()\n",
        "xgb_predictions = xgb_model.predict(X_test_scaled)\n",
        "\n",
        "# Calculate MSE, RMSE, and R-Squared for each model\n",
        "transformer_mse = mean_squared_error(y_test, transformer_predictions)\n",
        "transformer_rmse = np.sqrt(transformer_mse)\n",
        "transformer_r2 = r2_score(y_test, transformer_predictions)\n",
        "\n",
        "lstm_mse = mean_squared_error(y_test, lstm_predictions)\n",
        "lstm_rmse = np.sqrt(lstm_mse)\n",
        "lstm_r2 = r2_score(y_test, lstm_predictions)\n",
        "\n",
        "xgb_mse = mean_squared_error(y_test, xgb_predictions)\n",
        "xgb_rmse = np.sqrt(xgb_mse)\n",
        "xgb_r2 = r2_score(y_test, xgb_predictions)\n",
        "\n",
        "# Plot scatter plots\n",
        "plt.figure(figsize=(18, 6))\n",
        "\n",
        "# Transformer model\n",
        "plt.subplot(1, 3, 1)\n",
        "plt.scatter(y_test, transformer_predictions, color='blue', label='Transformer Predictions')\n",
        "plt.plot([y_test.min(), y_test.max()], [y_test.min(), y_test.max()], 'k--', lw=2, label='100% Correlation')\n",
        "plt.title('Transformer Predictions vs Actual')\n",
        "plt.xlabel('Actual SOIL_MOISTURE_percent')\n",
        "plt.ylabel('Predicted SOIL_MOISTURE_percent')\n",
        "plt.text(0.05, 0.95, f'MSE: {transformer_mse:.2f}\\nRMSE: {transformer_rmse:.2f}\\nR-Squared: {transformer_r2:.2f}', transform=plt.gca().transAxes, fontsize=12, verticalalignment='top')\n",
        "plt.legend(loc='upper right')\n",
        "plt.grid(True)\n",
        "\n",
        "# LSTM model\n",
        "plt.subplot(1, 3, 2)\n",
        "plt.scatter(y_test, lstm_predictions, color='green', label='LSTM Predictions')\n",
        "plt.plot([y_test.min(), y_test.max()], [y_test.min(), y_test.max()], 'k--', lw=2, label='100% Correlation')\n",
        "plt.title('LSTM Predictions vs Actual')\n",
        "plt.xlabel('Actual SOIL_MOISTURE_percent')\n",
        "plt.ylabel('Predicted SOIL_MOISTURE_percent')\n",
        "plt.text(0.05, 0.95, f'MSE: {lstm_mse:.2f}\\nRMSE: {lstm_rmse:.2f}\\nR-Squared: {lstm_r2:.2f}', transform=plt.gca().transAxes, fontsize=12, verticalalignment='top')\n",
        "plt.legend(loc='upper right')\n",
        "plt.grid(True)\n",
        "\n",
        "# XGBoost model\n",
        "plt.subplot(1, 3, 3)\n",
        "plt.scatter(y_test, xgb_predictions, color='red', label='XGBoost Predictions')\n",
        "plt.plot([y_test.min(), y_test.max()], [y_test.min(), y_test.max()], 'k--', lw=2, label='100% Correlation')\n",
        "plt.title('XGBoost Predictions vs Actual')\n",
        "plt.xlabel('Actual SOIL_MOISTURE_percent')\n",
        "plt.ylabel('Predicted SOIL_MOISTURE_percent')\n",
        "plt.text(0.05, 0.95, f'MSE: {xgb_mse:.2f}\\nRMSE: {xgb_rmse:.2f}\\nR-Squared: {xgb_r2:.2f}', transform=plt.gca().transAxes, fontsize=12, verticalalignment='top')\n",
        "plt.legend(loc='upper right')\n",
        "plt.grid(True)\n",
        "\n",
        "plt.tight_layout()\n",
        "plt.show()\n"
      ],
      "metadata": {
        "colab": {
          "base_uri": "https://localhost:8080/",
          "height": 447
        },
        "id": "0LofcyvVob_5",
        "outputId": "516227b4-b037-4c08-cba3-8f6605d69b64"
      },
      "execution_count": null,
      "outputs": [
        {
          "output_type": "display_data",
          "data": {
            "text/plain": [
              "<IPython.core.display.HTML object>"
            ],
            "text/html": [
              "\n",
              "            <style>\n",
              "                .geemap-dark {\n",
              "                    --jp-widgets-color: white;\n",
              "                    --jp-widgets-label-color: white;\n",
              "                    --jp-ui-font-color1: white;\n",
              "                    --jp-layout-color2: #454545;\n",
              "                    background-color: #383838;\n",
              "                }\n",
              "\n",
              "                .geemap-dark .jupyter-button {\n",
              "                    --jp-layout-color3: #383838;\n",
              "                }\n",
              "\n",
              "                .geemap-colab {\n",
              "                    background-color: var(--colab-primary-surface-color, white);\n",
              "                }\n",
              "\n",
              "                .geemap-colab .jupyter-button {\n",
              "                    --jp-layout-color3: var(--colab-primary-surface-color, white);\n",
              "                }\n",
              "            </style>\n",
              "            "
            ]
          },
          "metadata": {}
        },
        {
          "output_type": "stream",
          "name": "stdout",
          "text": [
            "\u001b[1m112/112\u001b[0m \u001b[32m━━━━━━━━━━━━━━━━━━━━\u001b[0m\u001b[37m\u001b[0m \u001b[1m0s\u001b[0m 2ms/step\n",
            "\u001b[1m112/112\u001b[0m \u001b[32m━━━━━━━━━━━━━━━━━━━━\u001b[0m\u001b[37m\u001b[0m \u001b[1m0s\u001b[0m 2ms/step\n"
          ]
        },
        {
          "output_type": "display_data",
          "data": {
            "text/plain": [
              "<Figure size 1800x600 with 3 Axes>"
            ],
            "image/png": "[encoded data removed]"
          },
          "metadata": {}
        }
      ]
    },
    {
      "cell_type": "markdown",
      "source": [
        "# Saving the pipeline"
      ],
      "metadata": {
        "id": "zK0r7--1kiwj"
      }
    },
    {
      "cell_type": "markdown",
      "source": [
        "## Create the pipline class"
      ],
      "metadata": {
        "id": "Y-IBIoAHldhb"
      }
    },
    {
      "cell_type": "code",
      "source": [
        "import joblib\n",
        "import numpy as np\n",
        "from tensorflow.keras.models import load_model\n",
        "\n",
        "class SoilMoisturePredictor:\n",
        "    def __init__(self, scaler, model):\n",
        "        self.scaler = scaler\n",
        "        self.model = model\n",
        "\n",
        "    def preprocess(self, X):\n",
        "        # Scale the input features\n",
        "        X_scaled = self.scaler.transform(X)\n",
        "        # Reshape for Transformer model\n",
        "        X_reshaped = X_scaled.reshape((X_scaled.shape[0], 1, X_scaled.shape[1]))\n",
        "        return X_reshaped\n",
        "\n",
        "    def predict(self, X):\n",
        "        # Preprocess the input\n",
        "        X_preprocessed = self.preprocess(X)\n",
        "        # Make predictions using the model\n",
        "        predictions = self.model.predict(X_preprocessed)\n",
        "        return predictions\n",
        "\n",
        "    def save(self, filepath):\n",
        "        # Save the scaler and model\n",
        "        joblib.dump(self.scaler, f'{filepath}_scaler.pkl')\n",
        "        # save_model(self.model, f'{filepath}_model.h5')\n",
        "        self.model.save(f'{filepath}_model.keras')\n",
        "\n",
        "    @classmethod\n",
        "    def load(cls, filepath):\n",
        "        # Load the scaler and model\n",
        "        scaler = joblib.load(f'{filepath}_scaler.pkl')\n",
        "        # model = load_model(f'{filepath}_model.h5')\n",
        "        model = load_model(f'{filepath}_model.keras')\n",
        "        return cls(scaler, model)\n"
      ],
      "metadata": {
        "colab": {
          "base_uri": "https://localhost:8080/",
          "height": 17
        },
        "id": "ezdlsLXzkjSY",
        "outputId": "ea2a4e42-a4f7-4507-a63f-fc3cbd0623b3"
      },
      "execution_count": null,
      "outputs": [
        {
          "output_type": "display_data",
          "data": {
            "text/plain": [
              "<IPython.core.display.HTML object>"
            ],
            "text/html": [
              "\n",
              "            <style>\n",
              "                .geemap-dark {\n",
              "                    --jp-widgets-color: white;\n",
              "                    --jp-widgets-label-color: white;\n",
              "                    --jp-ui-font-color1: white;\n",
              "                    --jp-layout-color2: #454545;\n",
              "                    background-color: #383838;\n",
              "                }\n",
              "\n",
              "                .geemap-dark .jupyter-button {\n",
              "                    --jp-layout-color3: #383838;\n",
              "                }\n",
              "\n",
              "                .geemap-colab {\n",
              "                    background-color: var(--colab-primary-surface-color, white);\n",
              "                }\n",
              "\n",
              "                .geemap-colab .jupyter-button {\n",
              "                    --jp-layout-color3: var(--colab-primary-surface-color, white);\n",
              "                }\n",
              "            </style>\n",
              "            "
            ]
          },
          "metadata": {}
        }
      ]
    },
    {
      "cell_type": "markdown",
      "source": [
        "## Save the pipline"
      ],
      "metadata": {
        "id": "43zJW7_CliPw"
      }
    },
    {
      "cell_type": "code",
      "source": [
        "# Create an instance of SoilMoisturePredictor\n",
        "predictor = SoilMoisturePredictor(scaler=scaler, model=transformer_model)\n",
        "\n",
        "# Save the predictor instance\n",
        "model_path = '/content/drive/MyDrive/SoilMoisture/soil_moisture_predictor'\n",
        "predictor.save(model_path)\n",
        "\n"
      ],
      "metadata": {
        "colab": {
          "base_uri": "https://localhost:8080/",
          "height": 17
        },
        "id": "jHCtHYFblpEd",
        "outputId": "acf499b5-6f64-4e2d-9503-7fc05f530703"
      },
      "execution_count": null,
      "outputs": [
        {
          "output_type": "display_data",
          "data": {
            "text/plain": [
              "<IPython.core.display.HTML object>"
            ],
            "text/html": [
              "\n",
              "            <style>\n",
              "                .geemap-dark {\n",
              "                    --jp-widgets-color: white;\n",
              "                    --jp-widgets-label-color: white;\n",
              "                    --jp-ui-font-color1: white;\n",
              "                    --jp-layout-color2: #454545;\n",
              "                    background-color: #383838;\n",
              "                }\n",
              "\n",
              "                .geemap-dark .jupyter-button {\n",
              "                    --jp-layout-color3: #383838;\n",
              "                }\n",
              "\n",
              "                .geemap-colab {\n",
              "                    background-color: var(--colab-primary-surface-color, white);\n",
              "                }\n",
              "\n",
              "                .geemap-colab .jupyter-button {\n",
              "                    --jp-layout-color3: var(--colab-primary-surface-color, white);\n",
              "                }\n",
              "            </style>\n",
              "            "
            ]
          },
          "metadata": {}
        }
      ]
    },
    {
      "cell_type": "markdown",
      "source": [
        "## Save the xgb pipeline"
      ],
      "metadata": {
        "id": "htp44xOopdsg"
      }
    },
    {
      "cell_type": "code",
      "source": [
        "\n",
        "# Example Preprocessing and Model Pipeline\n",
        "xgb_pipeline = Pipeline([\n",
        "    ('scaler', scaler),  # Add other preprocessing steps if necessary\n",
        "    ('xgb_model', xgb_model)  # Replace with the trained XGBoost model\n",
        "])\n",
        "\n",
        "model_path = '/content/drive/MyDrive/SoilMoisture/'\n",
        "\n",
        "# Save the pipeline\n",
        "joblib.dump(xgb_pipeline, f'{model_path}xgb_pipeline.pkl')\n"
      ],
      "metadata": {
        "colab": {
          "base_uri": "https://localhost:8080/",
          "height": 34
        },
        "id": "0cbtW-LXpdFd",
        "outputId": "b6876d0c-cb94-4df1-8fcb-4e8644d10f6a"
      },
      "execution_count": null,
      "outputs": [
        {
          "output_type": "display_data",
          "data": {
            "text/plain": [
              "<IPython.core.display.HTML object>"
            ],
            "text/html": [
              "\n",
              "            <style>\n",
              "                .geemap-dark {\n",
              "                    --jp-widgets-color: white;\n",
              "                    --jp-widgets-label-color: white;\n",
              "                    --jp-ui-font-color1: white;\n",
              "                    --jp-layout-color2: #454545;\n",
              "                    background-color: #383838;\n",
              "                }\n",
              "\n",
              "                .geemap-dark .jupyter-button {\n",
              "                    --jp-layout-color3: #383838;\n",
              "                }\n",
              "\n",
              "                .geemap-colab {\n",
              "                    background-color: var(--colab-primary-surface-color, white);\n",
              "                }\n",
              "\n",
              "                .geemap-colab .jupyter-button {\n",
              "                    --jp-layout-color3: var(--colab-primary-surface-color, white);\n",
              "                }\n",
              "            </style>\n",
              "            "
            ]
          },
          "metadata": {}
        },
        {
          "output_type": "execute_result",
          "data": {
            "text/plain": [
              "['/content/drive/MyDrive/SoilMoisture/xgb_pipeline.pkl']"
            ]
          },
          "metadata": {},
          "execution_count": 85
        }
      ]
    },
    {
      "cell_type": "markdown",
      "source": [
        "# Load and Use the Encapsulated Model"
      ],
      "metadata": {
        "id": "b7sBtk0mmN8U"
      }
    },
    {
      "cell_type": "markdown",
      "source": [
        "### Load new satellite data for a different location (site)"
      ],
      "metadata": {
        "id": "QcFTE49Znipz"
      }
    },
    {
      "cell_type": "code",
      "source": [
        "# Parameters\n",
        "sat_product = 'NASA/SMAP/SPL4SMGP/007'\n",
        "\n",
        "bands = ['sm_surface', 'sm_rootzone', 'sm_profile', 'sm_surface_wetness', 'sm_rootzone_wetness', 'sm_profile_wetness', 'surface_temp',\n",
        "         'soil_temp_layer1', 'soil_temp_layer2', 'soil_temp_layer3', 'soil_temp_layer4', 'soil_temp_layer5', 'soil_temp_layer6']\n",
        "\n",
        "gps = [131.388, -14.159] # station2 (site: Daly)\n",
        "start_date = datetime(2023, 8, 15)\n",
        "end_date = datetime(2024, 8, 15)\n",
        "\n",
        "# Empty list to store DataFrames\n",
        "dfs = []\n",
        "\n",
        "# Loop through the date range in 3-month intervals\n",
        "current_start = start_date\n",
        "while current_start < end_date:\n",
        "    current_end = min(current_start + timedelta(days=90), end_date)\n",
        "    df = download_smap_data(current_start.strftime('%Y-%m-%d'), current_end.strftime('%Y-%m-%d'), sat_product, bands, gps)\n",
        "    dfs.append(df)\n",
        "    current_start = current_end\n",
        "\n",
        "# Combine all DataFrames into one\n",
        "smap_df_new = pd.concat(dfs)\n",
        "\n",
        "# Process the combined DataFrame\n",
        "smap_df_new['date'] = pd.to_datetime(smap_df_new['date'])  # Convert 'date' to datetime\n",
        "smap_df_new.set_index('date', inplace=True)  # Set 'date' as index\n"
      ],
      "metadata": {
        "colab": {
          "base_uri": "https://localhost:8080/",
          "height": 17
        },
        "id": "tDt8qntinh3i",
        "outputId": "16ccf455-6f2d-402c-db2d-e57d12dd7d06"
      },
      "execution_count": null,
      "outputs": [
        {
          "output_type": "display_data",
          "data": {
            "text/plain": [
              "<IPython.core.display.HTML object>"
            ],
            "text/html": [
              "\n",
              "            <style>\n",
              "                .geemap-dark {\n",
              "                    --jp-widgets-color: white;\n",
              "                    --jp-widgets-label-color: white;\n",
              "                    --jp-ui-font-color1: white;\n",
              "                    --jp-layout-color2: #454545;\n",
              "                    background-color: #383838;\n",
              "                }\n",
              "\n",
              "                .geemap-dark .jupyter-button {\n",
              "                    --jp-layout-color3: #383838;\n",
              "                }\n",
              "\n",
              "                .geemap-colab {\n",
              "                    background-color: var(--colab-primary-surface-color, white);\n",
              "                }\n",
              "\n",
              "                .geemap-colab .jupyter-button {\n",
              "                    --jp-layout-color3: var(--colab-primary-surface-color, white);\n",
              "                }\n",
              "            </style>\n",
              "            "
            ]
          },
          "metadata": {}
        }
      ]
    },
    {
      "cell_type": "markdown",
      "source": [
        "## Load the transformer model and predict new data"
      ],
      "metadata": {
        "id": "3u7S8tRQuWBi"
      }
    },
    {
      "cell_type": "code",
      "source": [
        "model_path = '/content/drive/MyDrive/SoilMoisture/soil_moisture_predictor'\n",
        "\n",
        "# Load the predictor instance\n",
        "model_transformer = SoilMoisturePredictor.load(model_path)\n",
        "\n",
        "# Resample smap_df to daily and average values\n",
        "smap_df_daily_new = smap_df_new.resample('D').mean()\n",
        "\n",
        "\n",
        "# Prepare input for prediction\n",
        "X_new = smap_df_daily_new[bands].values\n",
        "\n",
        "# Make predictions using the loaded predictor\n",
        "transformer_predictions_new = model_transformer.predict(X_new)\n",
        "\n"
      ],
      "metadata": {
        "colab": {
          "base_uri": "https://localhost:8080/",
          "height": 124
        },
        "id": "rtMsLWIxmQPa",
        "outputId": "ed6ec2de-51d5-4328-fda4-5680ed1ea4ec"
      },
      "execution_count": null,
      "outputs": [
        {
          "output_type": "display_data",
          "data": {
            "text/plain": [
              "<IPython.core.display.HTML object>"
            ],
            "text/html": [
              "\n",
              "            <style>\n",
              "                .geemap-dark {\n",
              "                    --jp-widgets-color: white;\n",
              "                    --jp-widgets-label-color: white;\n",
              "                    --jp-ui-font-color1: white;\n",
              "                    --jp-layout-color2: #454545;\n",
              "                    background-color: #383838;\n",
              "                }\n",
              "\n",
              "                .geemap-dark .jupyter-button {\n",
              "                    --jp-layout-color3: #383838;\n",
              "                }\n",
              "\n",
              "                .geemap-colab {\n",
              "                    background-color: var(--colab-primary-surface-color, white);\n",
              "                }\n",
              "\n",
              "                .geemap-colab .jupyter-button {\n",
              "                    --jp-layout-color3: var(--colab-primary-surface-color, white);\n",
              "                }\n",
              "            </style>\n",
              "            "
            ]
          },
          "metadata": {}
        },
        {
          "output_type": "stream",
          "name": "stdout",
          "text": [
            "\u001b[1m12/12\u001b[0m \u001b[32m━━━━━━━━━━━━━━━━━━━━\u001b[0m\u001b[37m\u001b[0m \u001b[1m0s\u001b[0m 12ms/step\n"
          ]
        },
        {
          "output_type": "stream",
          "name": "stderr",
          "text": [
            "/usr/local/lib/python3.10/dist-packages/keras/src/ops/nn.py:545: UserWarning: You are using a softmax over axis 3 of a tensor of shape (32, 2, 1, 1). This axis has size 1. The softmax operation will always return the value 1, which is likely not what you intended. Did you mean to use a sigmoid instead?\n",
            "  warnings.warn(\n",
            "/usr/local/lib/python3.10/dist-packages/keras/src/ops/nn.py:545: UserWarning: You are using a softmax over axis 3 of a tensor of shape (None, 2, 1, 1). This axis has size 1. The softmax operation will always return the value 1, which is likely not what you intended. Did you mean to use a sigmoid instead?\n",
            "  warnings.warn(\n"
          ]
        }
      ]
    },
    {
      "cell_type": "markdown",
      "source": [
        "## Load the xgb model and predict new data"
      ],
      "metadata": {
        "id": "5CiKKFV7ue6-"
      }
    },
    {
      "cell_type": "code",
      "source": [
        "model_path = '/content/drive/MyDrive/SoilMoisture/'\n",
        "\n",
        "# Load the pipeline\n",
        "xgb_pipeline = joblib.load(f'{model_path}xgb_pipeline.pkl')\n",
        "\n",
        "# Use the pipeline to predict on new data\n",
        "xgb_predictions_new = xgb_pipeline.predict(X_new)  # new_data will be automatically scaled using the fitted scaler\n"
      ],
      "metadata": {
        "colab": {
          "base_uri": "https://localhost:8080/",
          "height": 17
        },
        "id": "oMsnvT6luraH",
        "outputId": "9fa515b0-a4a2-4d12-8ce7-76f4a1cc4480"
      },
      "execution_count": null,
      "outputs": [
        {
          "output_type": "display_data",
          "data": {
            "text/plain": [
              "<IPython.core.display.HTML object>"
            ],
            "text/html": [
              "\n",
              "            <style>\n",
              "                .geemap-dark {\n",
              "                    --jp-widgets-color: white;\n",
              "                    --jp-widgets-label-color: white;\n",
              "                    --jp-ui-font-color1: white;\n",
              "                    --jp-layout-color2: #454545;\n",
              "                    background-color: #383838;\n",
              "                }\n",
              "\n",
              "                .geemap-dark .jupyter-button {\n",
              "                    --jp-layout-color3: #383838;\n",
              "                }\n",
              "\n",
              "                .geemap-colab {\n",
              "                    background-color: var(--colab-primary-surface-color, white);\n",
              "                }\n",
              "\n",
              "                .geemap-colab .jupyter-button {\n",
              "                    --jp-layout-color3: var(--colab-primary-surface-color, white);\n",
              "                }\n",
              "            </style>\n",
              "            "
            ]
          },
          "metadata": {}
        }
      ]
    },
    {
      "cell_type": "markdown",
      "source": [
        "### Loading in-situ for new data"
      ],
      "metadata": {
        "id": "G-1Z3iqaqFi0"
      }
    },
    {
      "cell_type": "code",
      "source": [
        "staion11_soilM = pd.read_csv('/content/drive/MyDrive/SoilMoisture/station11_level4_1y.csv')\n",
        "staion11_soilM = staion11_soilM.rename(columns={'UTC_TIMESTAMP': 'date'})\n",
        "staion11_soilM['date'] = pd.to_datetime(staion11_soilM['date'])\n",
        "staion11_soilM.set_index('date', inplace=True)\n",
        "staion11_soilM.info()"
      ],
      "metadata": {
        "colab": {
          "base_uri": "https://localhost:8080/",
          "height": 225
        },
        "id": "2aPEdo2YqMem",
        "outputId": "90ef2e45-0ac5-4a31-8e94-04428ee3be53"
      },
      "execution_count": null,
      "outputs": [
        {
          "output_type": "display_data",
          "data": {
            "text/plain": [
              "<IPython.core.display.HTML object>"
            ],
            "text/html": [
              "\n",
              "            <style>\n",
              "                .geemap-dark {\n",
              "                    --jp-widgets-color: white;\n",
              "                    --jp-widgets-label-color: white;\n",
              "                    --jp-ui-font-color1: white;\n",
              "                    --jp-layout-color2: #454545;\n",
              "                    background-color: #383838;\n",
              "                }\n",
              "\n",
              "                .geemap-dark .jupyter-button {\n",
              "                    --jp-layout-color3: #383838;\n",
              "                }\n",
              "\n",
              "                .geemap-colab {\n",
              "                    background-color: var(--colab-primary-surface-color, white);\n",
              "                }\n",
              "\n",
              "                .geemap-colab .jupyter-button {\n",
              "                    --jp-layout-color3: var(--colab-primary-surface-color, white);\n",
              "                }\n",
              "            </style>\n",
              "            "
            ]
          },
          "metadata": {}
        },
        {
          "output_type": "stream",
          "name": "stdout",
          "text": [
            "<class 'pandas.core.frame.DataFrame'>\n",
            "DatetimeIndex: 8778 entries, 2023-08-15 15:24:08 to 2024-08-15 13:13:40\n",
            "Data columns (total 5 columns):\n",
            " #   Column                    Non-Null Count  Dtype  \n",
            "---  ------                    --------------  -----  \n",
            " 0   SOIL_MOISTURE_percent     8778 non-null   float64\n",
            " 1   EFFECTIVE_DEPTH_cm        8778 non-null   float64\n",
            " 2   RAIN_mm                   8778 non-null   float64\n",
            " 3   7H_SOIL_MOISTURE_percent  8778 non-null   float64\n",
            " 4   7H_DEPTH_cm               8778 non-null   float64\n",
            "dtypes: float64(5)\n",
            "memory usage: 411.5 KB\n"
          ]
        }
      ]
    },
    {
      "cell_type": "markdown",
      "source": [
        "### Resampling and merging new data"
      ],
      "metadata": {
        "id": "n-njfNyuq8_s"
      }
    },
    {
      "cell_type": "code",
      "source": [
        "\n",
        "# Resample staion7_soilM to daily and average values\n",
        "staion11_soilM_daily = staion11_soilM.resample('D').mean()/100\n",
        "\n",
        "# Merge the two dataframes on 'date'\n",
        "merged_df_new = pd.merge(smap_df_daily_new, staion11_soilM_daily, on='date', how='inner')\n",
        "\n",
        "\n",
        "# Display the merged dataframe\n",
        "merged_df_new.tail()"
      ],
      "metadata": {
        "colab": {
          "base_uri": "https://localhost:8080/",
          "height": 344
        },
        "id": "uiPyvRYCrCp1",
        "outputId": "fac56044-42ce-43eb-9085-be3fc2ec3d81"
      },
      "execution_count": null,
      "outputs": [
        {
          "output_type": "display_data",
          "data": {
            "text/plain": [
              "<IPython.core.display.HTML object>"
            ],
            "text/html": [
              "\n",
              "            <style>\n",
              "                .geemap-dark {\n",
              "                    --jp-widgets-color: white;\n",
              "                    --jp-widgets-label-color: white;\n",
              "                    --jp-ui-font-color1: white;\n",
              "                    --jp-layout-color2: #454545;\n",
              "                    background-color: #383838;\n",
              "                }\n",
              "\n",
              "                .geemap-dark .jupyter-button {\n",
              "                    --jp-layout-color3: #383838;\n",
              "                }\n",
              "\n",
              "                .geemap-colab {\n",
              "                    background-color: var(--colab-primary-surface-color, white);\n",
              "                }\n",
              "\n",
              "                .geemap-colab .jupyter-button {\n",
              "                    --jp-layout-color3: var(--colab-primary-surface-color, white);\n",
              "                }\n",
              "            </style>\n",
              "            "
            ]
          },
          "metadata": {}
        },
        {
          "output_type": "execute_result",
          "data": {
            "text/plain": [
              "            sm_surface  sm_rootzone  sm_profile  sm_surface_wetness  \\\n",
              "date                                                                  \n",
              "2024-08-08    0.162131     0.219471    0.229325            0.359652   \n",
              "2024-08-09    0.161836     0.218925    0.228761            0.358998   \n",
              "2024-08-10    0.156489     0.218055    0.228005            0.347135   \n",
              "2024-08-11    0.146575     0.216936    0.227092            0.325144   \n",
              "2024-08-12    0.142382     0.216215    0.226396            0.315842   \n",
              "\n",
              "            sm_rootzone_wetness  sm_profile_wetness  surface_temp  \\\n",
              "date                                                                \n",
              "2024-08-08             0.486848            0.508706    284.248528   \n",
              "2024-08-09             0.485636            0.507456    285.265198   \n",
              "2024-08-10             0.483707            0.505779    285.239094   \n",
              "2024-08-11             0.481225            0.503754    285.794712   \n",
              "2024-08-12             0.479625            0.502208    287.065781   \n",
              "\n",
              "            soil_temp_layer1  soil_temp_layer2  soil_temp_layer3  \\\n",
              "date                                                               \n",
              "2024-08-08        283.553940        283.090546        283.584347   \n",
              "2024-08-09        284.808247        284.039551        283.789055   \n",
              "2024-08-10        285.002403        284.537746        284.092106   \n",
              "2024-08-11        285.363602        284.795849        284.365692   \n",
              "2024-08-12        286.340179        285.322422        284.635422   \n",
              "\n",
              "            soil_temp_layer4  soil_temp_layer5  soil_temp_layer6  \\\n",
              "date                                                               \n",
              "2024-08-08        285.312046        288.281891        290.508102   \n",
              "2024-08-09        285.302616        288.240368        290.506126   \n",
              "2024-08-10        285.311031        288.199818        290.504059   \n",
              "2024-08-11        285.337177        288.160587        290.501999   \n",
              "2024-08-12        285.377296        288.122910        290.499847   \n",
              "\n",
              "            SOIL_MOISTURE_percent  EFFECTIVE_DEPTH_cm  RAIN_mm  \\\n",
              "date                                                             \n",
              "2024-08-08               0.324797            0.122840      0.0   \n",
              "2024-08-09               0.298267            0.129833      0.0   \n",
              "2024-08-10               0.292472            0.134148      0.0   \n",
              "2024-08-11               0.356514            0.115435      0.0   \n",
              "2024-08-12               0.339771            0.119123      0.0   \n",
              "\n",
              "            7H_SOIL_MOISTURE_percent  7H_DEPTH_cm  \n",
              "date                                               \n",
              "2024-08-08                  0.320856     0.123907  \n",
              "2024-08-09                  0.300639     0.129160  \n",
              "2024-08-10                  0.292606     0.133719  \n",
              "2024-08-11                  0.352479     0.117051  \n",
              "2024-08-12                  0.339940     0.119096  "
            ],
            "text/html": [
              "\n",
              "  <div id=\"df-49a61a18-ac9e-4977-83ec-4a97a744b5d5\" class=\"colab-df-container\">\n",
              "    <div>\n",
              "<style scoped>\n",
              "    .dataframe tbody tr th:only-of-type {\n",
              "        vertical-align: middle;\n",
              "    }\n",
              "\n",
              "    .dataframe tbody tr th {\n",
              "        vertical-align: top;\n",
              "    }\n",
              "\n",
              "    .dataframe thead th {\n",
              "        text-align: right;\n",
              "    }\n",
              "</style>\n",
              "<table border=\"1\" class=\"dataframe\">\n",
              "  <thead>\n",
              "    <tr style=\"text-align: right;\">\n",
              "      <th></th>\n",
              "      <th>sm_surface</th>\n",
              "      <th>sm_rootzone</th>\n",
              "      <th>sm_profile</th>\n",
              "      <th>sm_surface_wetness</th>\n",
              "      <th>sm_rootzone_wetness</th>\n",
              "      <th>sm_profile_wetness</th>\n",
              "      <th>surface_temp</th>\n",
              "      <th>soil_temp_layer1</th>\n",
              "      <th>soil_temp_layer2</th>\n",
              "      <th>soil_temp_layer3</th>\n",
              "      <th>soil_temp_layer4</th>\n",
              "      <th>soil_temp_layer5</th>\n",
              "      <th>soil_temp_layer6</th>\n",
              "      <th>SOIL_MOISTURE_percent</th>\n",
              "      <th>EFFECTIVE_DEPTH_cm</th>\n",
              "      <th>RAIN_mm</th>\n",
              "      <th>7H_SOIL_MOISTURE_percent</th>\n",
              "      <th>7H_DEPTH_cm</th>\n",
              "    </tr>\n",
              "    <tr>\n",
              "      <th>date</th>\n",
              "      <th></th>\n",
              "      <th></th>\n",
              "      <th></th>\n",
              "      <th></th>\n",
              "      <th></th>\n",
              "      <th></th>\n",
              "      <th></th>\n",
              "      <th></th>\n",
              "      <th></th>\n",
              "      <th></th>\n",
              "      <th></th>\n",
              "      <th></th>\n",
              "      <th></th>\n",
              "      <th></th>\n",
              "      <th></th>\n",
              "      <th></th>\n",
              "      <th></th>\n",
              "      <th></th>\n",
              "    </tr>\n",
              "  </thead>\n",
              "  <tbody>\n",
              "    <tr>\n",
              "      <th>2024-08-08</th>\n",
              "      <td>0.162131</td>\n",
              "      <td>0.219471</td>\n",
              "      <td>0.229325</td>\n",
              "      <td>0.359652</td>\n",
              "      <td>0.486848</td>\n",
              "      <td>0.508706</td>\n",
              "      <td>284.248528</td>\n",
              "      <td>283.553940</td>\n",
              "      <td>283.090546</td>\n",
              "      <td>283.584347</td>\n",
              "      <td>285.312046</td>\n",
              "      <td>288.281891</td>\n",
              "      <td>290.508102</td>\n",
              "      <td>0.324797</td>\n",
              "      <td>0.122840</td>\n",
              "      <td>0.0</td>\n",
              "      <td>0.320856</td>\n",
              "      <td>0.123907</td>\n",
              "    </tr>\n",
              "    <tr>\n",
              "      <th>2024-08-09</th>\n",
              "      <td>0.161836</td>\n",
              "      <td>0.218925</td>\n",
              "      <td>0.228761</td>\n",
              "      <td>0.358998</td>\n",
              "      <td>0.485636</td>\n",
              "      <td>0.507456</td>\n",
              "      <td>285.265198</td>\n",
              "      <td>284.808247</td>\n",
              "      <td>284.039551</td>\n",
              "      <td>283.789055</td>\n",
              "      <td>285.302616</td>\n",
              "      <td>288.240368</td>\n",
              "      <td>290.506126</td>\n",
              "      <td>0.298267</td>\n",
              "      <td>0.129833</td>\n",
              "      <td>0.0</td>\n",
              "      <td>0.300639</td>\n",
              "      <td>0.129160</td>\n",
              "    </tr>\n",
              "    <tr>\n",
              "      <th>2024-08-10</th>\n",
              "      <td>0.156489</td>\n",
              "      <td>0.218055</td>\n",
              "      <td>0.228005</td>\n",
              "      <td>0.347135</td>\n",
              "      <td>0.483707</td>\n",
              "      <td>0.505779</td>\n",
              "      <td>285.239094</td>\n",
              "      <td>285.002403</td>\n",
              "      <td>284.537746</td>\n",
              "      <td>284.092106</td>\n",
              "      <td>285.311031</td>\n",
              "      <td>288.199818</td>\n",
              "      <td>290.504059</td>\n",
              "      <td>0.292472</td>\n",
              "      <td>0.134148</td>\n",
              "      <td>0.0</td>\n",
              "      <td>0.292606</td>\n",
              "      <td>0.133719</td>\n",
              "    </tr>\n",
              "    <tr>\n",
              "      <th>2024-08-11</th>\n",
              "      <td>0.146575</td>\n",
              "      <td>0.216936</td>\n",
              "      <td>0.227092</td>\n",
              "      <td>0.325144</td>\n",
              "      <td>0.481225</td>\n",
              "      <td>0.503754</td>\n",
              "      <td>285.794712</td>\n",
              "      <td>285.363602</td>\n",
              "      <td>284.795849</td>\n",
              "      <td>284.365692</td>\n",
              "      <td>285.337177</td>\n",
              "      <td>288.160587</td>\n",
              "      <td>290.501999</td>\n",
              "      <td>0.356514</td>\n",
              "      <td>0.115435</td>\n",
              "      <td>0.0</td>\n",
              "      <td>0.352479</td>\n",
              "      <td>0.117051</td>\n",
              "    </tr>\n",
              "    <tr>\n",
              "      <th>2024-08-12</th>\n",
              "      <td>0.142382</td>\n",
              "      <td>0.216215</td>\n",
              "      <td>0.226396</td>\n",
              "      <td>0.315842</td>\n",
              "      <td>0.479625</td>\n",
              "      <td>0.502208</td>\n",
              "      <td>287.065781</td>\n",
              "      <td>286.340179</td>\n",
              "      <td>285.322422</td>\n",
              "      <td>284.635422</td>\n",
              "      <td>285.377296</td>\n",
              "      <td>288.122910</td>\n",
              "      <td>290.499847</td>\n",
              "      <td>0.339771</td>\n",
              "      <td>0.119123</td>\n",
              "      <td>0.0</td>\n",
              "      <td>0.339940</td>\n",
              "      <td>0.119096</td>\n",
              "    </tr>\n",
              "  </tbody>\n",
              "</table>\n",
              "</div>\n",
              "    <div class=\"colab-df-buttons\">\n",
              "\n",
              "  <div class=\"colab-df-container\">\n",
              "    <button class=\"colab-df-convert\" onclick=\"convertToInteractive('df-49a61a18-ac9e-4977-83ec-4a97a744b5d5')\"\n",
              "            title=\"Convert this dataframe to an interactive table.\"\n",
              "            style=\"display:none;\">\n",
              "\n",
              "  <svg xmlns=\"http://www.w3.org/2000/svg\" height=\"24px\" viewBox=\"0 -960 960 960\">\n",
              "    <path d=\"M120-120v-720h720v720H120Zm60-500h600v-160H180v160Zm220 220h160v-160H400v160Zm0 220h160v-160H400v160ZM180-400h160v-160H180v160Zm440 0h160v-160H620v160ZM180-180h160v-160H180v160Zm440 0h160v-160H620v160Z\"/>\n",
              "  </svg>\n",
              "    </button>\n",
              "\n",
              "  <style>\n",
              "    .colab-df-container {\n",
              "      display:flex;\n",
              "      gap: 12px;\n",
              "    }\n",
              "\n",
              "    .colab-df-convert {\n",
              "      background-color: #E8F0FE;\n",
              "      border: none;\n",
              "      border-radius: 50%;\n",
              "      cursor: pointer;\n",
              "      display: none;\n",
              "      fill: #1967D2;\n",
              "      height: 32px;\n",
              "      padding: 0 0 0 0;\n",
              "      width: 32px;\n",
              "    }\n",
              "\n",
              "    .colab-df-convert:hover {\n",
              "      background-color: #E2EBFA;\n",
              "      box-shadow: 0px 1px 2px rgba(60, 64, 67, 0.3), 0px 1px 3px 1px rgba(60, 64, 67, 0.15);\n",
              "      fill: #174EA6;\n",
              "    }\n",
              "\n",
              "    .colab-df-buttons div {\n",
              "      margin-bottom: 4px;\n",
              "    }\n",
              "\n",
              "    [theme=dark] .colab-df-convert {\n",
              "      background-color: #3B4455;\n",
              "      fill: #D2E3FC;\n",
              "    }\n",
              "\n",
              "    [theme=dark] .colab-df-convert:hover {\n",
              "      background-color: #434B5C;\n",
              "      box-shadow: 0px 1px 3px 1px rgba(0, 0, 0, 0.15);\n",
              "      filter: drop-shadow(0px 1px 2px rgba(0, 0, 0, 0.3));\n",
              "      fill: #FFFFFF;\n",
              "    }\n",
              "  </style>\n",
              "\n",
              "    <script>\n",
              "      const buttonEl =\n",
              "        document.querySelector('#df-49a61a18-ac9e-4977-83ec-4a97a744b5d5 button.colab-df-convert');\n",
              "      buttonEl.style.display =\n",
              "        google.colab.kernel.accessAllowed ? 'block' : 'none';\n",
              "\n",
              "      async function convertToInteractive(key) {\n",
              "        const element = document.querySelector('#df-49a61a18-ac9e-4977-83ec-4a97a744b5d5');\n",
              "        const dataTable =\n",
              "          await google.colab.kernel.invokeFunction('convertToInteractive',\n",
              "                                                    [key], {});\n",
              "        if (!dataTable) return;\n",
              "\n",
              "        const docLinkHtml = 'Like what you see? Visit the ' +\n",
              "          '<a target=\"_blank\" href=https://colab.research.google.com/notebooks/data_table.ipynb>data table notebook</a>'\n",
              "          + ' to learn more about interactive tables.';\n",
              "        element.innerHTML = '';\n",
              "        dataTable['output_type'] = 'display_data';\n",
              "        await google.colab.output.renderOutput(dataTable, element);\n",
              "        const docLink = document.createElement('div');\n",
              "        docLink.innerHTML = docLinkHtml;\n",
              "        element.appendChild(docLink);\n",
              "      }\n",
              "    </script>\n",
              "  </div>\n",
              "\n",
              "\n",
              "<div id=\"df-60072519-bf0a-4540-b407-7ef9da464fe3\">\n",
              "  <button class=\"colab-df-quickchart\" onclick=\"quickchart('df-60072519-bf0a-4540-b407-7ef9da464fe3')\"\n",
              "            title=\"Suggest charts\"\n",
              "            style=\"display:none;\">\n",
              "\n",
              "<svg xmlns=\"http://www.w3.org/2000/svg\" height=\"24px\"viewBox=\"0 0 24 24\"\n",
              "     width=\"24px\">\n",
              "    <g>\n",
              "        <path d=\"M19 3H5c-1.1 0-2 .9-2 2v14c0 1.1.9 2 2 2h14c1.1 0 2-.9 2-2V5c0-1.1-.9-2-2-2zM9 17H7v-7h2v7zm4 0h-2V7h2v10zm4 0h-2v-4h2v4z\"/>\n",
              "    </g>\n",
              "</svg>\n",
              "  </button>\n",
              "\n",
              "<style>\n",
              "  .colab-df-quickchart {\n",
              "      --bg-color: #E8F0FE;\n",
              "      --fill-color: #1967D2;\n",
              "      --hover-bg-color: #E2EBFA;\n",
              "      --hover-fill-color: #174EA6;\n",
              "      --disabled-fill-color: #AAA;\n",
              "      --disabled-bg-color: #DDD;\n",
              "  }\n",
              "\n",
              "  [theme=dark] .colab-df-quickchart {\n",
              "      --bg-color: #3B4455;\n",
              "      --fill-color: #D2E3FC;\n",
              "      --hover-bg-color: #434B5C;\n",
              "      --hover-fill-color: #FFFFFF;\n",
              "      --disabled-bg-color: #3B4455;\n",
              "      --disabled-fill-color: #666;\n",
              "  }\n",
              "\n",
              "  .colab-df-quickchart {\n",
              "    background-color: var(--bg-color);\n",
              "    border: none;\n",
              "    border-radius: 50%;\n",
              "    cursor: pointer;\n",
              "    display: none;\n",
              "    fill: var(--fill-color);\n",
              "    height: 32px;\n",
              "    padding: 0;\n",
              "    width: 32px;\n",
              "  }\n",
              "\n",
              "  .colab-df-quickchart:hover {\n",
              "    background-color: var(--hover-bg-color);\n",
              "    box-shadow: 0 1px 2px rgba(60, 64, 67, 0.3), 0 1px 3px 1px rgba(60, 64, 67, 0.15);\n",
              "    fill: var(--button-hover-fill-color);\n",
              "  }\n",
              "\n",
              "  .colab-df-quickchart-complete:disabled,\n",
              "  .colab-df-quickchart-complete:disabled:hover {\n",
              "    background-color: var(--disabled-bg-color);\n",
              "    fill: var(--disabled-fill-color);\n",
              "    box-shadow: none;\n",
              "  }\n",
              "\n",
              "  .colab-df-spinner {\n",
              "    border: 2px solid var(--fill-color);\n",
              "    border-color: transparent;\n",
              "    border-bottom-color: var(--fill-color);\n",
              "    animation:\n",
              "      spin 1s steps(1) infinite;\n",
              "  }\n",
              "\n",
              "  @keyframes spin {\n",
              "    0% {\n",
              "      border-color: transparent;\n",
              "      border-bottom-color: var(--fill-color);\n",
              "      border-left-color: var(--fill-color);\n",
              "    }\n",
              "    20% {\n",
              "      border-color: transparent;\n",
              "      border-left-color: var(--fill-color);\n",
              "      border-top-color: var(--fill-color);\n",
              "    }\n",
              "    30% {\n",
              "      border-color: transparent;\n",
              "      border-left-color: var(--fill-color);\n",
              "      border-top-color: var(--fill-color);\n",
              "      border-right-color: var(--fill-color);\n",
              "    }\n",
              "    40% {\n",
              "      border-color: transparent;\n",
              "      border-right-color: var(--fill-color);\n",
              "      border-top-color: var(--fill-color);\n",
              "    }\n",
              "    60% {\n",
              "      border-color: transparent;\n",
              "      border-right-color: var(--fill-color);\n",
              "    }\n",
              "    80% {\n",
              "      border-color: transparent;\n",
              "      border-right-color: var(--fill-color);\n",
              "      border-bottom-color: var(--fill-color);\n",
              "    }\n",
              "    90% {\n",
              "      border-color: transparent;\n",
              "      border-bottom-color: var(--fill-color);\n",
              "    }\n",
              "  }\n",
              "</style>\n",
              "\n",
              "  <script>\n",
              "    async function quickchart(key) {\n",
              "      const quickchartButtonEl =\n",
              "        document.querySelector('#' + key + ' button');\n",
              "      quickchartButtonEl.disabled = true;  // To prevent multiple clicks.\n",
              "      quickchartButtonEl.classList.add('colab-df-spinner');\n",
              "      try {\n",
              "        const charts = await google.colab.kernel.invokeFunction(\n",
              "            'suggestCharts', [key], {});\n",
              "      } catch (error) {\n",
              "        console.error('Error during call to suggestCharts:', error);\n",
              "      }\n",
              "      quickchartButtonEl.classList.remove('colab-df-spinner');\n",
              "      quickchartButtonEl.classList.add('colab-df-quickchart-complete');\n",
              "    }\n",
              "    (() => {\n",
              "      let quickchartButtonEl =\n",
              "        document.querySelector('#df-60072519-bf0a-4540-b407-7ef9da464fe3 button');\n",
              "      quickchartButtonEl.style.display =\n",
              "        google.colab.kernel.accessAllowed ? 'block' : 'none';\n",
              "    })();\n",
              "  </script>\n",
              "</div>\n",
              "\n",
              "    </div>\n",
              "  </div>\n"
            ],
            "application/vnd.google.colaboratory.intrinsic+json": {
              "type": "dataframe",
              "summary": "{\n  \"name\": \"merged_df_new\",\n  \"rows\": 5,\n  \"fields\": [\n    {\n      \"column\": \"date\",\n      \"properties\": {\n        \"dtype\": \"date\",\n        \"min\": \"2024-08-08 00:00:00\",\n        \"max\": \"2024-08-12 00:00:00\",\n        \"num_unique_values\": 5,\n        \"samples\": [\n          \"2024-08-09 00:00:00\",\n          \"2024-08-12 00:00:00\",\n          \"2024-08-10 00:00:00\"\n        ],\n        \"semantic_type\": \"\",\n        \"description\": \"\"\n      }\n    },\n    {\n      \"column\": \"sm_surface\",\n      \"properties\": {\n        \"dtype\": \"number\",\n        \"std\": 0.008996763390077623,\n        \"min\": 0.14238163828849792,\n        \"max\": 0.16213114373385906,\n        \"num_unique_values\": 5,\n        \"samples\": [\n          0.16183638013899326,\n          0.14238163828849792,\n          0.15648863464593887\n        ],\n        \"semantic_type\": \"\",\n        \"description\": \"\"\n      }\n    },\n    {\n      \"column\": \"sm_rootzone\",\n      \"properties\": {\n        \"dtype\": \"number\",\n        \"std\": 0.0013516970071007221,\n        \"min\": 0.21621505171060562,\n        \"max\": 0.2194709498435259,\n        \"num_unique_values\": 5,\n        \"samples\": [\n          0.21892479062080383,\n          0.21621505171060562,\n          0.21805530041456223\n        ],\n        \"semantic_type\": \"\",\n        \"description\": \"\"\n      }\n    },\n    {\n      \"column\": \"sm_profile\",\n      \"properties\": {\n        \"dtype\": \"number\",\n        \"std\": 0.0011934039680182454,\n        \"min\": 0.22639558091759682,\n        \"max\": 0.22932470962405205,\n        \"num_unique_values\": 5,\n        \"samples\": [\n          0.2287612520158291,\n          0.22639558091759682,\n          0.22800494357943535\n        ],\n        \"semantic_type\": \"\",\n        \"description\": \"\"\n      }\n    },\n    {\n      \"column\": \"sm_surface_wetness\",\n      \"properties\": {\n        \"dtype\": \"number\",\n        \"std\": 0.019957319293741744,\n        \"min\": 0.3158421665430069,\n        \"max\": 0.3596520461142063,\n        \"num_unique_values\": 5,\n        \"samples\": [\n          0.3589981831610203,\n          0.3158421665430069,\n          0.34713542088866234\n        ],\n        \"semantic_type\": \"\",\n        \"description\": \"\"\n      }\n    },\n    {\n      \"column\": \"sm_rootzone_wetness\",\n      \"properties\": {\n        \"dtype\": \"number\",\n        \"std\": 0.0029984437898012734,\n        \"min\": 0.4796252138912678,\n        \"max\": 0.48684772104024887,\n        \"num_unique_values\": 5,\n        \"samples\": [\n          0.4856361858546734,\n          0.4796252138912678,\n          0.48370740190148354\n        ],\n        \"semantic_type\": \"\",\n        \"description\": \"\"\n      }\n    },\n    {\n      \"column\": \"sm_profile_wetness\",\n      \"properties\": {\n        \"dtype\": \"number\",\n        \"std\": 0.002647312166982078,\n        \"min\": 0.5022084638476372,\n        \"max\": 0.5087061077356339,\n        \"num_unique_values\": 5,\n        \"samples\": [\n          0.5074561834335327,\n          0.5022084638476372,\n          0.5057785212993622\n        ],\n        \"semantic_type\": \"\",\n        \"description\": \"\"\n      }\n    },\n    {\n      \"column\": \"surface_temp\",\n      \"properties\": {\n        \"dtype\": \"number\",\n        \"std\": 1.0277820541786387,\n        \"min\": 284.24852752685547,\n        \"max\": 287.06578063964844,\n        \"num_unique_values\": 5,\n        \"samples\": [\n          285.26519775390625,\n          287.06578063964844,\n          285.2390937805176\n        ],\n        \"semantic_type\": \"\",\n        \"description\": \"\"\n      }\n    },\n    {\n      \"column\": \"soil_temp_layer1\",\n      \"properties\": {\n        \"dtype\": \"number\",\n        \"std\": 1.0068785173745007,\n        \"min\": 283.55393981933594,\n        \"max\": 286.3401794433594,\n        \"num_unique_values\": 5,\n        \"samples\": [\n          284.8082466125488,\n          286.3401794433594,\n          285.00240325927734\n        ],\n        \"semantic_type\": \"\",\n        \"description\": \"\"\n      }\n    },\n    {\n      \"column\": \"soil_temp_layer2\",\n      \"properties\": {\n        \"dtype\": \"number\",\n        \"std\": 0.845869026693649,\n        \"min\": 283.0905456542969,\n        \"max\": 285.3224220275879,\n        \"num_unique_values\": 5,\n        \"samples\": [\n          284.03955078125,\n          285.3224220275879,\n          284.53774642944336\n        ],\n        \"semantic_type\": \"\",\n        \"description\": \"\"\n      }\n    },\n    {\n      \"column\": \"soil_temp_layer3\",\n      \"properties\": {\n        \"dtype\": \"number\",\n        \"std\": 0.4241737212053559,\n        \"min\": 283.58434677124023,\n        \"max\": 284.6354217529297,\n        \"num_unique_values\": 5,\n        \"samples\": [\n          283.78905487060547,\n          284.6354217529297,\n          284.0921058654785\n        ],\n        \"semantic_type\": \"\",\n        \"description\": \"\"\n      }\n    },\n    {\n      \"column\": \"soil_temp_layer4\",\n      \"properties\": {\n        \"dtype\": \"number\",\n        \"std\": 0.030418587352264652,\n        \"min\": 285.30261611938477,\n        \"max\": 285.3772964477539,\n        \"num_unique_values\": 5,\n        \"samples\": [\n          285.30261611938477,\n          285.3772964477539,\n          285.31103134155273\n        ],\n        \"semantic_type\": \"\",\n        \"description\": \"\"\n      }\n    },\n    {\n      \"column\": \"soil_temp_layer5\",\n      \"properties\": {\n        \"dtype\": \"number\",\n        \"std\": 0.06290031816871552,\n        \"min\": 288.12290954589844,\n        \"max\": 288.2818908691406,\n        \"num_unique_values\": 5,\n        \"samples\": [\n          288.2403678894043,\n          288.12290954589844,\n          288.1998176574707\n        ],\n        \"semantic_type\": \"\",\n        \"description\": \"\"\n      }\n    },\n    {\n      \"column\": \"soil_temp_layer6\",\n      \"properties\": {\n        \"dtype\": \"number\",\n        \"std\": 0.0032634212282363784,\n        \"min\": 290.4998474121094,\n        \"max\": 290.5081024169922,\n        \"num_unique_values\": 5,\n        \"samples\": [\n          290.5061264038086,\n          290.4998474121094,\n          290.5040588378906\n        ],\n        \"semantic_type\": \"\",\n        \"description\": \"\"\n      }\n    },\n    {\n      \"column\": \"SOIL_MOISTURE_percent\",\n      \"properties\": {\n        \"dtype\": \"number\",\n        \"std\": 0.027153911776653942,\n        \"min\": 0.29247208333333335,\n        \"max\": 0.3565141666666667,\n        \"num_unique_values\": 5,\n        \"samples\": [\n          0.29826708333333335,\n          0.33977083333333336,\n          0.29247208333333335\n        ],\n        \"semantic_type\": \"\",\n        \"description\": \"\"\n      }\n    },\n    {\n      \"column\": \"EFFECTIVE_DEPTH_cm\",\n      \"properties\": {\n        \"dtype\": \"number\",\n        \"std\": 0.007666664364809437,\n        \"min\": 0.115435,\n        \"max\": 0.1341475,\n        \"num_unique_values\": 5,\n        \"samples\": [\n          0.12983291666666666,\n          0.1191225,\n          0.1341475\n        ],\n        \"semantic_type\": \"\",\n        \"description\": \"\"\n      }\n    },\n    {\n      \"column\": \"RAIN_mm\",\n      \"properties\": {\n        \"dtype\": \"number\",\n        \"std\": 0.0,\n        \"min\": 0.0,\n        \"max\": 0.0,\n        \"num_unique_values\": 1,\n        \"samples\": [\n          0.0\n        ],\n        \"semantic_type\": \"\",\n        \"description\": \"\"\n      }\n    },\n    {\n      \"column\": \"7H_SOIL_MOISTURE_percent\",\n      \"properties\": {\n        \"dtype\": \"number\",\n        \"std\": 0.025347517105286224,\n        \"min\": 0.29260583333333334,\n        \"max\": 0.35247875,\n        \"num_unique_values\": 5,\n        \"samples\": [\n          0.3006391666666667\n        ],\n        \"semantic_type\": \"\",\n        \"description\": \"\"\n      }\n    },\n    {\n      \"column\": \"7H_DEPTH_cm\",\n      \"properties\": {\n        \"dtype\": \"number\",\n        \"std\": 0.006922917475423766,\n        \"min\": 0.11705125000000001,\n        \"max\": 0.13371916666666667,\n        \"num_unique_values\": 5,\n        \"samples\": [\n          0.12915958333333333\n        ],\n        \"semantic_type\": \"\",\n        \"description\": \"\"\n      }\n    }\n  ]\n}"
            }
          },
          "metadata": {},
          "execution_count": 95
        }
      ]
    },
    {
      "cell_type": "markdown",
      "source": [
        "### Plot the predictions for new data vs in-situ"
      ],
      "metadata": {
        "id": "MYmTPnQJqjX_"
      }
    },
    {
      "cell_type": "code",
      "source": [
        "import matplotlib.pyplot as plt\n",
        "from sklearn.metrics import mean_squared_error, r2_score\n",
        "import numpy as np\n",
        "\n",
        "y_test = merged_df_new['SOIL_MOISTURE_percent']\n",
        "\n",
        "# Generate predictions\n",
        "transformer_predictions = transformer_predictions_new.flatten()\n",
        "xgb_predictions = xgb_predictions_new\n",
        "\n",
        "# Calculate MSE, RMSE, and R-Squared for each model\n",
        "transformer_mse = mean_squared_error(y_test, transformer_predictions)\n",
        "transformer_rmse = np.sqrt(transformer_mse)\n",
        "transformer_r2 = r2_score(y_test, transformer_predictions)\n",
        "\n",
        "\n",
        "xgb_mse = mean_squared_error(y_test, xgb_predictions)\n",
        "xgb_rmse = np.sqrt(xgb_mse)\n",
        "xgb_r2 = r2_score(y_test, xgb_predictions)\n",
        "\n",
        "# Plot scatter plots\n",
        "plt.figure(figsize=(18, 6))\n",
        "\n",
        "# Transformer model\n",
        "plt.subplot(1, 2, 1)\n",
        "plt.scatter(y_test, transformer_predictions, color='blue', label='Transformer Predictions')\n",
        "plt.plot([y_test.min(), y_test.max()], [y_test.min(), y_test.max()], 'k--', lw=2, label='100% Correlation')\n",
        "plt.title('Transformer Predictions vs Actual')\n",
        "plt.xlabel('Actual SOIL_MOISTURE_percent')\n",
        "plt.ylabel('Predicted SOIL_MOISTURE_percent')\n",
        "plt.text(0.05, 0.95, f'MSE: {transformer_mse:.2f}\\nRMSE: {transformer_rmse:.2f}\\nR-Squared: {transformer_r2:.2f}', transform=plt.gca().transAxes, fontsize=12, verticalalignment='top')\n",
        "plt.legend(loc='upper right')\n",
        "plt.grid(True)\n",
        "\n",
        "\n",
        "# XGBoost model\n",
        "plt.subplot(1, 2, 2)\n",
        "plt.scatter(y_test, xgb_predictions, color='red', label='XGBoost Predictions')\n",
        "plt.plot([y_test.min(), y_test.max()], [y_test.min(), y_test.max()], 'k--', lw=2, label='100% Correlation')\n",
        "plt.title('XGBoost Predictions vs Actual')\n",
        "plt.xlabel('Actual SOIL_MOISTURE_percent')\n",
        "plt.ylabel('Predicted SOIL_MOISTURE_percent')\n",
        "plt.text(0.05, 0.95, f'MSE: {xgb_mse:.2f}\\nRMSE: {xgb_rmse:.2f}\\nR-Squared: {xgb_r2:.2f}', transform=plt.gca().transAxes, fontsize=12, verticalalignment='top')\n",
        "plt.legend(loc='upper right')\n",
        "plt.grid(True)\n",
        "\n",
        "plt.tight_layout()\n",
        "plt.show()\n"
      ],
      "metadata": {
        "colab": {
          "base_uri": "https://localhost:8080/",
          "height": 412
        },
        "id": "6PJ4EzkXwB8D",
        "outputId": "7cab74bc-796d-4192-d453-16e0ee806214"
      },
      "execution_count": null,
      "outputs": [
        {
          "output_type": "display_data",
          "data": {
            "text/plain": [
              "<IPython.core.display.HTML object>"
            ],
            "text/html": [
              "\n",
              "            <style>\n",
              "                .geemap-dark {\n",
              "                    --jp-widgets-color: white;\n",
              "                    --jp-widgets-label-color: white;\n",
              "                    --jp-ui-font-color1: white;\n",
              "                    --jp-layout-color2: #454545;\n",
              "                    background-color: #383838;\n",
              "                }\n",
              "\n",
              "                .geemap-dark .jupyter-button {\n",
              "                    --jp-layout-color3: #383838;\n",
              "                }\n",
              "\n",
              "                .geemap-colab {\n",
              "                    background-color: var(--colab-primary-surface-color, white);\n",
              "                }\n",
              "\n",
              "                .geemap-colab .jupyter-button {\n",
              "                    --jp-layout-color3: var(--colab-primary-surface-color, white);\n",
              "                }\n",
              "            </style>\n",
              "            "
            ]
          },
          "metadata": {}
        },
        {
          "output_type": "display_data",
          "data": {
            "text/plain": [
              "<Figure size 1800x600 with 2 Axes>"
            ],
            "image/png": "[encoded data removed]"
          },
          "metadata": {}
        }
      ]
    },
    {
      "cell_type": "code",
      "source": [
        "\n",
        "\n",
        "# # Plot the actual values and predictions vs date\n",
        "# plt.figure(figsize=(14, 8))\n",
        "\n",
        "# plt.plot(merged_df.index, merged_df['SOIL_MOISTURE_percent'], label='SoilM (in-situ)', color='black', linewidth=2)\n",
        "# plt.plot(merged_df.index, transformer_predictions, label='SoilM (predicted)', color='blue', linestyle='--')\n",
        "# plt.plot(merged_df.index, merged_df['sm_surface'], label='sm_surface', linewidth=2)\n",
        "# plt.plot(merged_df.index, merged_df['sm_rootzone'], label='sm_rootzone', linewidth=2)\n",
        "\n",
        "\n",
        "\n",
        "# plt.title('Model Predictions vs Actual Values Over Time')\n",
        "# plt.xlabel('Date')\n",
        "# plt.ylabel('Soil Moisture (%)')\n",
        "# plt.legend()\n",
        "# plt.grid(True)\n",
        "# plt.show()\n"
      ],
      "metadata": {
        "id": "PKJWl10RqiXy"
      },
      "execution_count": null,
      "outputs": []
    },
    {
      "cell_type": "code",
      "source": [
        "# import seaborn as sns\n",
        "\n",
        "# df = merged_df.copy()\n",
        "# df['predicted_soilM'] = fresh_predictions\n",
        "# df['surface_actual'] = df['SOIL_MOISTURE_percent'] - df['sm_surface']\n",
        "# df['root_actual'] = df['SOIL_MOISTURE_percent'] - df['sm_rootzone']\n",
        "# df['pred_actual'] = df['SOIL_MOISTURE_percent'] - df['predicted_soilM']\n",
        "\n",
        "# # Plotting the box plots\n",
        "# plt.figure(figsize=(10, 6))\n",
        "# sns.boxplot(data=df[['pred_actual', 'surface_actual', 'root_actual']])\n",
        "# plt.title('Box Plots of Soil Moisture Differences')\n",
        "# # plt.xlabel('Soil elements')\n",
        "# plt.ylabel('Error Distribution')\n",
        "# plt.show()"
      ],
      "metadata": {
        "id": "dAVEwQPIzSzr"
      },
      "execution_count": null,
      "outputs": []
    },
    {
      "cell_type": "markdown",
      "source": [
        "# Deployment"
      ],
      "metadata": {
        "id": "KF0rOPZGUsrM"
      }
    },
    {
      "cell_type": "markdown",
      "source": [
        "## Enter gps and date interval"
      ],
      "metadata": {
        "id": "lSO_BTznV7eG"
      }
    },
    {
      "cell_type": "code",
      "source": [
        "gps = [146.299, -35.005] # station11 (site: Yanco)\n",
        "start_date = datetime(2023, 8, 16)\n",
        "end_date = datetime(2024, 8, 16)"
      ],
      "metadata": {
        "colab": {
          "base_uri": "https://localhost:8080/",
          "height": 17
        },
        "id": "Lss1Yj8EWMUX",
        "outputId": "695154a3-2203-489d-9341-e0e8a12a358f"
      },
      "execution_count": null,
      "outputs": [
        {
          "output_type": "display_data",
          "data": {
            "text/plain": [
              "<IPython.core.display.HTML object>"
            ],
            "text/html": [
              "\n",
              "            <style>\n",
              "                .geemap-dark {\n",
              "                    --jp-widgets-color: white;\n",
              "                    --jp-widgets-label-color: white;\n",
              "                    --jp-ui-font-color1: white;\n",
              "                    --jp-layout-color2: #454545;\n",
              "                    background-color: #383838;\n",
              "                }\n",
              "\n",
              "                .geemap-dark .jupyter-button {\n",
              "                    --jp-layout-color3: #383838;\n",
              "                }\n",
              "\n",
              "                .geemap-colab {\n",
              "                    background-color: var(--colab-primary-surface-color, white);\n",
              "                }\n",
              "\n",
              "                .geemap-colab .jupyter-button {\n",
              "                    --jp-layout-color3: var(--colab-primary-surface-color, white);\n",
              "                }\n",
              "            </style>\n",
              "            "
            ]
          },
          "metadata": {}
        }
      ]
    },
    {
      "cell_type": "markdown",
      "source": [
        "## Load predictors (from satellites)"
      ],
      "metadata": {
        "id": "wzZTsO_lVxVb"
      }
    },
    {
      "cell_type": "code",
      "source": [
        "def download_smap_data(start_date, end_date, sat_product, bands, gps):\n",
        "    dates = [start_date, end_date]\n",
        "    return image_to_df(sat_product, bands, gps, dates)\n",
        "\n",
        "# Parameters\n",
        "sat_product = 'NASA/SMAP/SPL4SMGP/007'\n",
        "bands = ['sm_surface', 'sm_rootzone', 'sm_profile', 'sm_surface_wetness', 'sm_rootzone_wetness', 'sm_profile_wetness', 'surface_temp',\n",
        "        'soil_temp_layer1', 'soil_temp_layer2', 'soil_temp_layer3', 'soil_temp_layer4', 'soil_temp_layer5', 'soil_temp_layer6']\n",
        "\n",
        "# Empty list to store DataFrames\n",
        "dfs = []\n",
        "\n",
        "# Loop through the date range in 3-month intervals\n",
        "current_start = start_date\n",
        "while current_start < end_date:\n",
        "    current_end = min(current_start + timedelta(days=90), end_date)\n",
        "    df = download_smap_data(current_start.strftime('%Y-%m-%d'), current_end.strftime('%Y-%m-%d'), sat_product, bands, gps)\n",
        "    dfs.append(df)\n",
        "    current_start = current_end\n",
        "\n",
        "# Combine all DataFrames into one\n",
        "smap_df = pd.concat(dfs)\n",
        "\n",
        "# Process the combined DataFrame\n",
        "smap_df['date'] = pd.to_datetime(smap_df['date'])  # Convert 'date' to datetime\n",
        "smap_df.set_index('date', inplace=True)  # Set 'date' as index\n",
        "smap_df.dropna(inplace=True)\n",
        "smap_df.to_csv(f\"/content/drive/MyDrive/SoilMoisture/smap_{gps}.csv\")\n",
        "\n"
      ],
      "metadata": {
        "colab": {
          "base_uri": "https://localhost:8080/",
          "height": 17
        },
        "id": "yNkE_fsZU1-M",
        "outputId": "33ba421e-4df6-4224-bd46-5b5ef499c6c7"
      },
      "execution_count": null,
      "outputs": [
        {
          "output_type": "display_data",
          "data": {
            "text/plain": [
              "<IPython.core.display.HTML object>"
            ],
            "text/html": [
              "\n",
              "            <style>\n",
              "                .geemap-dark {\n",
              "                    --jp-widgets-color: white;\n",
              "                    --jp-widgets-label-color: white;\n",
              "                    --jp-ui-font-color1: white;\n",
              "                    --jp-layout-color2: #454545;\n",
              "                    background-color: #383838;\n",
              "                }\n",
              "\n",
              "                .geemap-dark .jupyter-button {\n",
              "                    --jp-layout-color3: #383838;\n",
              "                }\n",
              "\n",
              "                .geemap-colab {\n",
              "                    background-color: var(--colab-primary-surface-color, white);\n",
              "                }\n",
              "\n",
              "                .geemap-colab .jupyter-button {\n",
              "                    --jp-layout-color3: var(--colab-primary-surface-color, white);\n",
              "                }\n",
              "            </style>\n",
              "            "
            ]
          },
          "metadata": {}
        }
      ]
    },
    {
      "cell_type": "markdown",
      "source": [
        "## Prediction"
      ],
      "metadata": {
        "id": "6lwgk1WLaiYB"
      }
    },
    {
      "cell_type": "code",
      "source": [
        "model_path = '/content/drive/MyDrive/SoilMoisture/'\n",
        "\n",
        "# Load the pipeline\n",
        "xgb_pipeline = joblib.load(f'{model_path}xgb_pipeline.pkl')\n",
        "\n",
        "# Loading the satellite data related to the selected dates and location\n",
        "smap_df_new = pd.read_csv(f\"/content/drive/MyDrive/SoilMoisture/smap_df_station11.csv\")\n",
        "smap_df_new['date'] = pd.to_datetime(smap_df_new['date'])  # Convert 'date' to datetime\n",
        "smap_df_new.set_index('date', inplace=True)\n",
        "smap_df_new.dropna(inplace=True)\n",
        "\n",
        "# Resample smap_df to daily and average values\n",
        "smap_df_daily_new = smap_df_new.resample('D').mean()\n",
        "\n",
        "# Prepare input for prediction\n",
        "X_new = smap_df_daily_new[bands].values\n",
        "\n",
        "\n",
        "# Use the pipeline to predict on new data\n",
        "predictions_new = xgb_pipeline.predict(X_new)  # new_data will be automatically scaled using the fitted scaler\n",
        "\n",
        "smap_df_daily_new['predicted_soilM'] = predictions_new\n",
        "\n"
      ],
      "metadata": {
        "colab": {
          "base_uri": "https://localhost:8080/",
          "height": 17
        },
        "id": "6iN52zW5a8yP",
        "outputId": "537c4ef0-370a-4412-b869-f29533e3312c"
      },
      "execution_count": null,
      "outputs": [
        {
          "output_type": "display_data",
          "data": {
            "text/plain": [
              "<IPython.core.display.HTML object>"
            ],
            "text/html": [
              "\n",
              "            <style>\n",
              "                .geemap-dark {\n",
              "                    --jp-widgets-color: white;\n",
              "                    --jp-widgets-label-color: white;\n",
              "                    --jp-ui-font-color1: white;\n",
              "                    --jp-layout-color2: #454545;\n",
              "                    background-color: #383838;\n",
              "                }\n",
              "\n",
              "                .geemap-dark .jupyter-button {\n",
              "                    --jp-layout-color3: #383838;\n",
              "                }\n",
              "\n",
              "                .geemap-colab {\n",
              "                    background-color: var(--colab-primary-surface-color, white);\n",
              "                }\n",
              "\n",
              "                .geemap-colab .jupyter-button {\n",
              "                    --jp-layout-color3: var(--colab-primary-surface-color, white);\n",
              "                }\n",
              "            </style>\n",
              "            "
            ]
          },
          "metadata": {}
        }
      ]
    },
    {
      "cell_type": "markdown",
      "source": [
        "## Evaluating the predicted data vs actual data data\n",
        "(If available)"
      ],
      "metadata": {
        "id": "x2WX_fj6a-EI"
      }
    },
    {
      "cell_type": "code",
      "source": [
        "# loading in-situ data (cosmoz stations)\n",
        "cosmoz_data = pd.read_csv(f\"/content/drive/MyDrive/SoilMoisture/station11_level4_1y.csv\")\n",
        "cosmoz_data = cosmoz_data.rename(columns={'UTC_TIMESTAMP': 'date'})\n",
        "cosmoz_data['date'] = pd.to_datetime(cosmoz_data['date'])\n",
        "cosmoz_data.set_index('date', inplace=True)\n",
        "\n",
        "# Resample cosmoz data to daily and average values\n",
        "cosmoz_data_daily = cosmoz_data.resample('D').mean()/100\n",
        "\n",
        "# Merge the two dataframes on 'date'\n",
        "merged_df_new = pd.merge(smap_df_daily_new, cosmoz_data_daily, on='date', how='inner')\n",
        "\n",
        "merged_df_new.dropna(subset=['SOIL_MOISTURE_percent'], inplace=True)"
      ],
      "metadata": {
        "colab": {
          "base_uri": "https://localhost:8080/",
          "height": 17
        },
        "id": "lay-fUYWbfnz",
        "outputId": "4a6c9317-5de5-4329-f02e-ccb1866ead54"
      },
      "execution_count": null,
      "outputs": [
        {
          "output_type": "display_data",
          "data": {
            "text/plain": [
              "<IPython.core.display.HTML object>"
            ],
            "text/html": [
              "\n",
              "            <style>\n",
              "                .geemap-dark {\n",
              "                    --jp-widgets-color: white;\n",
              "                    --jp-widgets-label-color: white;\n",
              "                    --jp-ui-font-color1: white;\n",
              "                    --jp-layout-color2: #454545;\n",
              "                    background-color: #383838;\n",
              "                }\n",
              "\n",
              "                .geemap-dark .jupyter-button {\n",
              "                    --jp-layout-color3: #383838;\n",
              "                }\n",
              "\n",
              "                .geemap-colab {\n",
              "                    background-color: var(--colab-primary-surface-color, white);\n",
              "                }\n",
              "\n",
              "                .geemap-colab .jupyter-button {\n",
              "                    --jp-layout-color3: var(--colab-primary-surface-color, white);\n",
              "                }\n",
              "            </style>\n",
              "            "
            ]
          },
          "metadata": {}
        }
      ]
    },
    {
      "cell_type": "code",
      "source": [
        "import numpy as np\n",
        "\n",
        "# evaluation plot for new data\n",
        "y_test = merged_df_new['SOIL_MOISTURE_percent']\n",
        "predictions_new = merged_df_new['predicted_soilM']\n",
        "\n",
        "# Calculate MSE, RMSE, and R-Squared for each model\n",
        "new_mse = mean_squared_error(y_test, predictions_new)\n",
        "new_rmse = np.sqrt(new_mse)\n",
        "new_r2 = r2_score(y_test, predictions_new)\n",
        "\n",
        "# Plot scatter plots\n",
        "# plt.figure(figsize=(18, 6))\n",
        "plt.scatter(y_test, predictions_new, color='red', label='Predictions')\n",
        "plt.plot([y_test.min(), y_test.max()], [y_test.min(), y_test.max()], 'k--', lw=2, label='100% Correlation')\n",
        "plt.title('SoilM: Predictions vs Actual')\n",
        "plt.xlabel('Actual SOIL_MOISTURE_percent')\n",
        "plt.ylabel('Predicted SOIL_MOISTURE_percent')\n",
        "plt.text(0.05, 0.95, f'MSE: {new_mse:.2f}\\nRMSE: {new_rmse:.2f}\\nR-Squared: {new_r2:.2f}', transform=plt.gca().transAxes, fontsize=12, verticalalignment='top')\n",
        "plt.legend(loc='upper right')\n",
        "plt.grid(True)\n",
        "\n",
        "plt.show()\n"
      ],
      "metadata": {
        "colab": {
          "base_uri": "https://localhost:8080/",
          "height": 472
        },
        "id": "6GGKQ1b7gVSN",
        "outputId": "f3ed41e8-365e-4915-aebd-d1747200c333"
      },
      "execution_count": null,
      "outputs": [
        {
          "output_type": "display_data",
          "data": {
            "text/plain": [
              "<IPython.core.display.HTML object>"
            ],
            "text/html": [
              "\n",
              "            <style>\n",
              "                .geemap-dark {\n",
              "                    --jp-widgets-color: white;\n",
              "                    --jp-widgets-label-color: white;\n",
              "                    --jp-ui-font-color1: white;\n",
              "                    --jp-layout-color2: #454545;\n",
              "                    background-color: #383838;\n",
              "                }\n",
              "\n",
              "                .geemap-dark .jupyter-button {\n",
              "                    --jp-layout-color3: #383838;\n",
              "                }\n",
              "\n",
              "                .geemap-colab {\n",
              "                    background-color: var(--colab-primary-surface-color, white);\n",
              "                }\n",
              "\n",
              "                .geemap-colab .jupyter-button {\n",
              "                    --jp-layout-color3: var(--colab-primary-surface-color, white);\n",
              "                }\n",
              "            </style>\n",
              "            "
            ]
          },
          "metadata": {}
        },
        {
          "output_type": "display_data",
          "data": {
            "text/plain": [
              "<Figure size 640x480 with 1 Axes>"
            ],
            "image/png": "[encoded data removed]"
          },
          "metadata": {}
        }
      ]
    },
    {
      "cell_type": "code",
      "source": [
        "# Plotting\n",
        "fig, ax = plt.subplots(figsize=(10, 6))\n",
        "\n",
        "# Plot col1 and col2 as area charts\n",
        "ax.fill_between(merged_df_new.index, merged_df_new['sm_surface'], color='skyblue', alpha=0.5, label='smap_surface')\n",
        "ax.fill_between(merged_df_new.index, merged_df_new['sm_rootzone'], color='orange', alpha=0.5, label='smap_rootzone')\n",
        "\n",
        "# Plot col3 as a line graph\n",
        "ax.scatter(merged_df_new.index, merged_df_new['predicted_soilM'], color='green', linewidth=2, label='SoilM (pred)')\n",
        "ax.plot(merged_df_new.index, merged_df_new['SOIL_MOISTURE_percent'], color='black', linewidth=2, label='SoilM (in-situ)')\n",
        "\n",
        "\n",
        "# Set labels and title\n",
        "ax.set_xlabel('Date')\n",
        "ax.set_ylabel('SoilM(%)')\n",
        "ax.set_title('SoilM: Actual vs Predicted vs SAMP')\n",
        "\n",
        "# Show legend\n",
        "ax.legend(loc='upper left')\n",
        "\n",
        "# Show grid\n",
        "ax.grid(True)\n",
        "\n",
        "# Display the plot\n",
        "plt.show()"
      ],
      "metadata": {
        "colab": {
          "base_uri": "https://localhost:8080/",
          "height": 564
        },
        "id": "x7qVX6EHpTCz",
        "outputId": "a4bbb9ad-8efc-41d2-882a-fb0a59109932"
      },
      "execution_count": null,
      "outputs": [
        {
          "output_type": "display_data",
          "data": {
            "text/plain": [
              "<IPython.core.display.HTML object>"
            ],
            "text/html": [
              "\n",
              "            <style>\n",
              "                .geemap-dark {\n",
              "                    --jp-widgets-color: white;\n",
              "                    --jp-widgets-label-color: white;\n",
              "                    --jp-ui-font-color1: white;\n",
              "                    --jp-layout-color2: #454545;\n",
              "                    background-color: #383838;\n",
              "                }\n",
              "\n",
              "                .geemap-dark .jupyter-button {\n",
              "                    --jp-layout-color3: #383838;\n",
              "                }\n",
              "\n",
              "                .geemap-colab {\n",
              "                    background-color: var(--colab-primary-surface-color, white);\n",
              "                }\n",
              "\n",
              "                .geemap-colab .jupyter-button {\n",
              "                    --jp-layout-color3: var(--colab-primary-surface-color, white);\n",
              "                }\n",
              "            </style>\n",
              "            "
            ]
          },
          "metadata": {}
        },
        {
          "output_type": "display_data",
          "data": {
            "text/plain": [
              "<Figure size 1000x600 with 1 Axes>"
            ],
            "image/png": "[encoded data removed]"
          },
          "metadata": {}
        }
      ]
    },
    {
      "cell_type": "code",
      "source": [
        "merged_df_new.corr()['SOIL_MOISTURE_percent'].sort_values(ascending=False)"
      ],
      "metadata": {
        "colab": {
          "base_uri": "https://localhost:8080/",
          "height": 680
        },
        "id": "PzcOuqQEmZNE",
        "outputId": "9cd3f4a7-d518-49b8-fd26-5d5b8af6a52c"
      },
      "execution_count": null,
      "outputs": [
        {
          "output_type": "display_data",
          "data": {
            "text/plain": [
              "<IPython.core.display.HTML object>"
            ],
            "text/html": [
              "\n",
              "            <style>\n",
              "                .geemap-dark {\n",
              "                    --jp-widgets-color: white;\n",
              "                    --jp-widgets-label-color: white;\n",
              "                    --jp-ui-font-color1: white;\n",
              "                    --jp-layout-color2: #454545;\n",
              "                    background-color: #383838;\n",
              "                }\n",
              "\n",
              "                .geemap-dark .jupyter-button {\n",
              "                    --jp-layout-color3: #383838;\n",
              "                }\n",
              "\n",
              "                .geemap-colab {\n",
              "                    background-color: var(--colab-primary-surface-color, white);\n",
              "                }\n",
              "\n",
              "                .geemap-colab .jupyter-button {\n",
              "                    --jp-layout-color3: var(--colab-primary-surface-color, white);\n",
              "                }\n",
              "            </style>\n",
              "            "
            ]
          },
          "metadata": {}
        },
        {
          "output_type": "execute_result",
          "data": {
            "text/plain": [
              "SOIL_MOISTURE_percent       1.000000\n",
              "7H_SOIL_MOISTURE_percent    0.999650\n",
              "predicted_soilM             0.928433\n",
              "sm_surface                  0.807256\n",
              "sm_surface_wetness          0.807254\n",
              "sm_rootzone                 0.708939\n",
              "sm_rootzone_wetness         0.708935\n",
              "sm_profile_wetness          0.631838\n",
              "sm_profile                  0.631836\n",
              "RAIN_mm                     0.300957\n",
              "soil_temp_layer6            0.195860\n",
              "soil_temp_layer5           -0.147201\n",
              "soil_temp_layer4           -0.262467\n",
              "soil_temp_layer3           -0.303354\n",
              "surface_temp               -0.313516\n",
              "soil_temp_layer2           -0.317014\n",
              "soil_temp_layer1           -0.325582\n",
              "EFFECTIVE_DEPTH_cm         -0.953758\n",
              "7H_DEPTH_cm                -0.954451\n",
              "Name: SOIL_MOISTURE_percent, dtype: float64"
            ],
            "text/html": [
              "<div>\n",
              "<style scoped>\n",
              "    .dataframe tbody tr th:only-of-type {\n",
              "        vertical-align: middle;\n",
              "    }\n",
              "\n",
              "    .dataframe tbody tr th {\n",
              "        vertical-align: top;\n",
              "    }\n",
              "\n",
              "    .dataframe thead th {\n",
              "        text-align: right;\n",
              "    }\n",
              "</style>\n",
              "<table border=\"1\" class=\"dataframe\">\n",
              "  <thead>\n",
              "    <tr style=\"text-align: right;\">\n",
              "      <th></th>\n",
              "      <th>SOIL_MOISTURE_percent</th>\n",
              "    </tr>\n",
              "  </thead>\n",
              "  <tbody>\n",
              "    <tr>\n",
              "      <th>SOIL_MOISTURE_percent</th>\n",
              "      <td>1.000000</td>\n",
              "    </tr>\n",
              "    <tr>\n",
              "      <th>7H_SOIL_MOISTURE_percent</th>\n",
              "      <td>0.999650</td>\n",
              "    </tr>\n",
              "    <tr>\n",
              "      <th>predicted_soilM</th>\n",
              "      <td>0.928433</td>\n",
              "    </tr>\n",
              "    <tr>\n",
              "      <th>sm_surface</th>\n",
              "      <td>0.807256</td>\n",
              "    </tr>\n",
              "    <tr>\n",
              "      <th>sm_surface_wetness</th>\n",
              "      <td>0.807254</td>\n",
              "    </tr>\n",
              "    <tr>\n",
              "      <th>sm_rootzone</th>\n",
              "      <td>0.708939</td>\n",
              "    </tr>\n",
              "    <tr>\n",
              "      <th>sm_rootzone_wetness</th>\n",
              "      <td>0.708935</td>\n",
              "    </tr>\n",
              "    <tr>\n",
              "      <th>sm_profile_wetness</th>\n",
              "      <td>0.631838</td>\n",
              "    </tr>\n",
              "    <tr>\n",
              "      <th>sm_profile</th>\n",
              "      <td>0.631836</td>\n",
              "    </tr>\n",
              "    <tr>\n",
              "      <th>RAIN_mm</th>\n",
              "      <td>0.300957</td>\n",
              "    </tr>\n",
              "    <tr>\n",
              "      <th>soil_temp_layer6</th>\n",
              "      <td>0.195860</td>\n",
              "    </tr>\n",
              "    <tr>\n",
              "      <th>soil_temp_layer5</th>\n",
              "      <td>-0.147201</td>\n",
              "    </tr>\n",
              "    <tr>\n",
              "      <th>soil_temp_layer4</th>\n",
              "      <td>-0.262467</td>\n",
              "    </tr>\n",
              "    <tr>\n",
              "      <th>soil_temp_layer3</th>\n",
              "      <td>-0.303354</td>\n",
              "    </tr>\n",
              "    <tr>\n",
              "      <th>surface_temp</th>\n",
              "      <td>-0.313516</td>\n",
              "    </tr>\n",
              "    <tr>\n",
              "      <th>soil_temp_layer2</th>\n",
              "      <td>-0.317014</td>\n",
              "    </tr>\n",
              "    <tr>\n",
              "      <th>soil_temp_layer1</th>\n",
              "      <td>-0.325582</td>\n",
              "    </tr>\n",
              "    <tr>\n",
              "      <th>EFFECTIVE_DEPTH_cm</th>\n",
              "      <td>-0.953758</td>\n",
              "    </tr>\n",
              "    <tr>\n",
              "      <th>7H_DEPTH_cm</th>\n",
              "      <td>-0.954451</td>\n",
              "    </tr>\n",
              "  </tbody>\n",
              "</table>\n",
              "</div><br><label><b>dtype:</b> float64</label>"
            ]
          },
          "metadata": {},
          "execution_count": 20
        }
      ]
    }
  ]
}